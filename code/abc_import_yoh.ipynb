{
 "cells": [
  {
   "cell_type": "code",
   "execution_count": 3,
   "metadata": {},
   "outputs": [],
   "source": [
    "from thalamus_merfish_analysis import abc_load_base as abc"
   ]
  },
  {
   "cell_type": "code",
   "execution_count": 11,
   "metadata": {},
   "outputs": [
    {
     "data": {
      "text/plain": [
       "3739961"
      ]
     },
     "execution_count": 11,
     "metadata": {},
     "output_type": "execute_result"
    }
   ],
   "source": [
    "cells_df = abc.get_combined_metadata(version='20231215')\n",
    "len(cells_df)"
   ]
  },
  {
   "cell_type": "markdown",
   "metadata": {},
   "source": [
    "## Filter by neurotransmitter and explore CCF region counts"
   ]
  },
  {
   "cell_type": "code",
   "execution_count": null,
   "metadata": {},
   "outputs": [
    {
     "data": {
      "text/plain": [
       "8352"
      ]
     },
     "metadata": {},
     "output_type": "display_data"
    }
   ],
   "source": [
    "obs_dopa = cells_df.loc[cells_df['neurotransmitter']=='Dopa']\n",
    "len(obs_dopa)"
   ]
  },
  {
   "cell_type": "code",
   "execution_count": 17,
   "metadata": {},
   "outputs": [
    {
     "data": {
      "text/plain": [
       "parcellation_substructure\n",
       "MB-unassigned      1467\n",
       "MOB-unassigned     1046\n",
       "onl                 881\n",
       "VTA                 644\n",
       "OLF-unassigned      362\n",
       "SNr                 270\n",
       "MOBopl              258\n",
       "IF                  254\n",
       "HY-unassigned       239\n",
       "SNc                 230\n",
       "PAG-unassigned      211\n",
       "CLI                 134\n",
       "MRN                 130\n",
       "ZI                  128\n",
       "DR                  105\n",
       "PVpo                 98\n",
       "DMH                  93\n",
       "ARH                  92\n",
       "ml                   92\n",
       "PH                   90\n",
       "SUM                  88\n",
       "rust-unassigned      69\n",
       "RR                   64\n",
       "RL                   59\n",
       "PVi                  54\n",
       "IPDM                 53\n",
       "unassigned           52\n",
       "Name: count, dtype: int64"
      ]
     },
     "execution_count": 17,
     "metadata": {},
     "output_type": "execute_result"
    }
   ],
   "source": [
    "dopa_region_counts = obs_dopa['parcellation_substructure'].value_counts().loc[lambda x: x>50]\n",
    "dopa_region_counts"
   ]
  },
  {
   "cell_type": "markdown",
   "metadata": {},
   "source": [
    "## filter by CCF structure and load gene expression"
   ]
  },
  {
   "cell_type": "code",
   "execution_count": 26,
   "metadata": {},
   "outputs": [
    {
     "data": {
      "text/plain": [
       "281868"
      ]
     },
     "execution_count": 26,
     "metadata": {},
     "output_type": "execute_result"
    }
   ],
   "source": [
    "dopa_substructures = dopa_region_counts.loc[lambda x: x>75].index\n",
    "cells_dopa_ccf_subset = cells_df[cells_df['parcellation_substructure'].isin(dopa_substructures)]\n",
    "len(cells_dopa_ccf_subset)"
   ]
  },
  {
   "cell_type": "code",
   "execution_count": 27,
   "metadata": {},
   "outputs": [],
   "source": [
    "adata = abc.load_adata(transform='raw', from_metadata=cells_dopa_ccf_subset)"
   ]
  },
  {
   "cell_type": "code",
   "execution_count": 28,
   "metadata": {},
   "outputs": [
    {
     "data": {
      "text/plain": [
       "281868"
      ]
     },
     "execution_count": 28,
     "metadata": {},
     "output_type": "execute_result"
    }
   ],
   "source": [
    "len(adata)"
   ]
  },
  {
   "cell_type": "markdown",
   "metadata": {},
   "source": [
    "## Other filtering options"
   ]
  },
  {
   "cell_type": "code",
   "execution_count": null,
   "metadata": {},
   "outputs": [],
   "source": [
    "cells_df = abc.filter_by_ccf_region(obs, regions)"
   ]
  },
  {
   "cell_type": "code",
   "execution_count": null,
   "metadata": {},
   "outputs": [],
   "source": [
    "cells_df = abc.filter_by_class(obs)"
   ]
  }
 ],
 "metadata": {
  "kernelspec": {
   "display_name": "base",
   "language": "python",
   "name": "python3"
  },
  "language_info": {
   "codemirror_mode": {
    "name": "ipython",
    "version": 3
   },
   "file_extension": ".py",
   "mimetype": "text/x-python",
   "name": "python",
   "nbconvert_exporter": "python",
   "pygments_lexer": "ipython3",
   "version": "3.9.12"
  }
 },
 "nbformat": 4,
 "nbformat_minor": 2
}
