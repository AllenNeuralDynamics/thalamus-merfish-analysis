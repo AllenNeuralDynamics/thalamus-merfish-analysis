{
 "cells": [
  {
   "cell_type": "code",
   "execution_count": 1,
   "metadata": {},
   "outputs": [],
   "source": [
    "%load_ext autoreload\n",
    "%autoreload 2"
   ]
  },
  {
   "cell_type": "code",
   "execution_count": 2,
   "metadata": {},
   "outputs": [],
   "source": [
    "import pandas as pd\n",
    "import matplotlib.pyplot as plt\n",
    "import seaborn as sns\n",
    "import numpy as np\n",
    "\n",
    "from thalamus_merfish_analysis import abc_load as abc\n",
    "get_ipython().run_line_magic('matplotlib', 'inline') "
   ]
  },
  {
   "cell_type": "markdown",
   "metadata": {},
   "source": [
    "# Load brain3 data"
   ]
  },
  {
   "cell_type": "code",
   "execution_count": 12,
   "metadata": {},
   "outputs": [],
   "source": [
    "# realigned just loads faster version here\n",
    "obs = abc.get_combined_metadata(realigned=True, version=\"20230830\")"
   ]
  },
  {
   "cell_type": "code",
   "execution_count": 13,
   "metadata": {},
   "outputs": [],
   "source": [
    "realigned = False\n",
    "obs_neurons = abc.filter_adata_by_class(obs, filter_midbrain=False)\n",
    "obs_th_neurons = abc.filter_by_thalamus_coords(obs_neurons, realigned=realigned)"
   ]
  },
  {
   "cell_type": "code",
   "execution_count": 6,
   "metadata": {},
   "outputs": [],
   "source": [
    "from ete3 import Tree\n",
    "\n",
    "tax = Tree()\n",
    "df = obs_th_neurons.groupby('subclass', observed=True).filter(lambda x: len(x)>400)\n",
    "for c in df['class'].unique():\n",
    "    cnode = tax.add_child(name=c)\n",
    "    for s in df.loc[df['class']==c, 'subclass'].unique():\n",
    "        snode = cnode.add_child(name=s)\n",
    "        for s2 in df.loc[df['subclass']==s, 'supertype'].unique():\n",
    "            s2node = snode.add_child(name=s2)\n",
    "            for c in df.loc[df['supertype']==s2, 'cluster'].unique():\n",
    "                s2node.add_child(name=c)\n"
   ]
  },
  {
   "cell_type": "code",
   "execution_count": 22,
   "metadata": {},
   "outputs": [
    {
     "ename": "ImportError",
     "evalue": "libGL.so.1: cannot open shared object file: No such file or directory",
     "output_type": "error",
     "traceback": [
      "\u001b[0;31m---------------------------------------------------------------------------\u001b[0m",
      "\u001b[0;31mModuleNotFoundError\u001b[0m                       Traceback (most recent call last)",
      "File \u001b[0;32m/opt/conda/lib/python3.9/site-packages/ete3/treeview/qt.py:2\u001b[0m\n\u001b[1;32m      1\u001b[0m \u001b[39mtry\u001b[39;00m:\n\u001b[0;32m----> 2\u001b[0m     \u001b[39mfrom\u001b[39;00m \u001b[39mPyQt4\u001b[39;00m \u001b[39mimport\u001b[39;00m QtGui, QtCore\n\u001b[1;32m      3\u001b[0m     \u001b[39mfrom\u001b[39;00m \u001b[39mPyQt4\u001b[39;00m\u001b[39m.\u001b[39;00m\u001b[39mQtCore\u001b[39;00m \u001b[39mimport\u001b[39;00m (Qt, QPointF, QRect, QLineF, QRectF, QBuffer, QByteArray,\n\u001b[1;32m      4\u001b[0m                               QThread, QIODevice, QMetaObject, QModelIndex, QObject, QRegExp, QSize,\n\u001b[1;32m      5\u001b[0m                               QSizeF,QVariant )\n",
      "\u001b[0;31mModuleNotFoundError\u001b[0m: No module named 'PyQt4'",
      "\nDuring handling of the above exception, another exception occurred:\n",
      "\u001b[0;31mImportError\u001b[0m                               Traceback (most recent call last)",
      "\u001b[1;32m/root/capsule/code/view_taxonomy.ipynb Cell 9\u001b[0m line \u001b[0;36m1\n\u001b[0;32m----> <a href='vscode-notebook-cell://codeocean.allenneuraldynamics.org/root/capsule/code/view_taxonomy.ipynb#X21sdnNjb2RlLXJlbW90ZQ%3D%3D?line=0'>1</a>\u001b[0m tax\u001b[39m.\u001b[39;49mrender(\u001b[39m\"\u001b[39;49m\u001b[39m%%\u001b[39;49;00m\u001b[39minline\u001b[39;49m\u001b[39m\"\u001b[39;49m)\n",
      "File \u001b[0;32m/opt/conda/lib/python3.9/site-packages/ete3/coretype/tree.py:1386\u001b[0m, in \u001b[0;36mTreeNode.render\u001b[0;34m(self, file_name, layout, w, h, tree_style, units, dpi)\u001b[0m\n\u001b[1;32m   1366\u001b[0m \u001b[39mdef\u001b[39;00m \u001b[39mrender\u001b[39m(\u001b[39mself\u001b[39m, file_name, layout\u001b[39m=\u001b[39m\u001b[39mNone\u001b[39;00m, w\u001b[39m=\u001b[39m\u001b[39mNone\u001b[39;00m, h\u001b[39m=\u001b[39m\u001b[39mNone\u001b[39;00m, \\\n\u001b[1;32m   1367\u001b[0m                    tree_style\u001b[39m=\u001b[39m\u001b[39mNone\u001b[39;00m, units\u001b[39m=\u001b[39m\u001b[39m\"\u001b[39m\u001b[39mpx\u001b[39m\u001b[39m\"\u001b[39m, dpi\u001b[39m=\u001b[39m\u001b[39m90\u001b[39m):\n\u001b[1;32m   1368\u001b[0m \u001b[39m    \u001b[39m\u001b[39m\"\"\"\u001b[39;00m\n\u001b[1;32m   1369\u001b[0m \u001b[39m    Renders the node structure as an image.\u001b[39;00m\n\u001b[1;32m   1370\u001b[0m \n\u001b[0;32m   (...)\u001b[0m\n\u001b[1;32m   1383\u001b[0m \n\u001b[1;32m   1384\u001b[0m \u001b[39m    \"\"\"\u001b[39;00m\n\u001b[0;32m-> 1386\u001b[0m     \u001b[39mfrom\u001b[39;00m \u001b[39m.\u001b[39;00m\u001b[39m.\u001b[39;00m\u001b[39mtreeview\u001b[39;00m \u001b[39mimport\u001b[39;00m drawer\n\u001b[1;32m   1387\u001b[0m     \u001b[39mif\u001b[39;00m file_name\u001b[39m.\u001b[39mstartswith(\u001b[39m'\u001b[39m\u001b[39m%%\u001b[39;00m\u001b[39mreturn\u001b[39m\u001b[39m'\u001b[39m):\n\u001b[1;32m   1388\u001b[0m         \u001b[39mreturn\u001b[39;00m drawer\u001b[39m.\u001b[39mget_img(\u001b[39mself\u001b[39m, w\u001b[39m=\u001b[39mw, h\u001b[39m=\u001b[39mh,\n\u001b[1;32m   1389\u001b[0m                               layout\u001b[39m=\u001b[39mlayout, tree_style\u001b[39m=\u001b[39mtree_style,\n\u001b[1;32m   1390\u001b[0m                               units\u001b[39m=\u001b[39munits, dpi\u001b[39m=\u001b[39mdpi, return_format\u001b[39m=\u001b[39mfile_name)\n",
      "File \u001b[0;32m/opt/conda/lib/python3.9/site-packages/ete3/treeview/__init__.py:42\u001b[0m\n\u001b[1;32m      1\u001b[0m \u001b[39mfrom\u001b[39;00m \u001b[39m__future__\u001b[39;00m \u001b[39mimport\u001b[39;00m absolute_import\n\u001b[1;32m      2\u001b[0m \u001b[39m# #START_LICENSE###########################################################\u001b[39;00m\n\u001b[1;32m      3\u001b[0m \u001b[39m#\u001b[39;00m\n\u001b[1;32m      4\u001b[0m \u001b[39m#\u001b[39;00m\n\u001b[0;32m   (...)\u001b[0m\n\u001b[1;32m     38\u001b[0m \u001b[39m#\u001b[39;00m\n\u001b[1;32m     39\u001b[0m \u001b[39m# #END_LICENSE#############################################################\u001b[39;00m\n\u001b[0;32m---> 42\u001b[0m \u001b[39mfrom\u001b[39;00m \u001b[39m.\u001b[39;00m\u001b[39mmain\u001b[39;00m \u001b[39mimport\u001b[39;00m \u001b[39m*\u001b[39m\n\u001b[1;32m     43\u001b[0m \u001b[39mfrom\u001b[39;00m \u001b[39m.\u001b[39;00m\u001b[39mfaces\u001b[39;00m \u001b[39mimport\u001b[39;00m \u001b[39m*\u001b[39m\n\u001b[1;32m     44\u001b[0m \u001b[39mfrom\u001b[39;00m \u001b[39m.\u001b[39;00m\u001b[39msvg_colors\u001b[39;00m \u001b[39mimport\u001b[39;00m \u001b[39m*\u001b[39m\n",
      "File \u001b[0;32m/opt/conda/lib/python3.9/site-packages/ete3/treeview/main.py:48\u001b[0m\n\u001b[1;32m     45\u001b[0m \u001b[39mimport\u001b[39;00m \u001b[39mtypes\u001b[39;00m\n\u001b[1;32m     46\u001b[0m \u001b[39mfrom\u001b[39;00m \u001b[39msys\u001b[39;00m \u001b[39mimport\u001b[39;00m stderr\n\u001b[0;32m---> 48\u001b[0m \u001b[39mfrom\u001b[39;00m \u001b[39m.\u001b[39;00m\u001b[39mqt\u001b[39;00m \u001b[39mimport\u001b[39;00m \u001b[39m*\u001b[39m\n\u001b[1;32m     50\u001b[0m \u001b[39mfrom\u001b[39;00m \u001b[39m.\u001b[39;00m\u001b[39msvg_colors\u001b[39;00m \u001b[39mimport\u001b[39;00m SVG_COLORS, COLOR_SCHEMES\n\u001b[1;32m     52\u001b[0m \u001b[39mimport\u001b[39;00m \u001b[39mtime\u001b[39;00m\n",
      "File \u001b[0;32m/opt/conda/lib/python3.9/site-packages/ete3/treeview/qt.py:27\u001b[0m\n\u001b[1;32m     24\u001b[0m     \u001b[39mfrom\u001b[39;00m \u001b[39mPyQt4\u001b[39;00m\u001b[39m.\u001b[39;00m\u001b[39mQtOpenGL\u001b[39;00m \u001b[39mimport\u001b[39;00m QGLFormat, QGLWidget\n\u001b[1;32m     26\u001b[0m \u001b[39mexcept\u001b[39;00m \u001b[39mImportError\u001b[39;00m:\n\u001b[0;32m---> 27\u001b[0m     \u001b[39mfrom\u001b[39;00m \u001b[39mPyQt5\u001b[39;00m \u001b[39mimport\u001b[39;00m QtGui, QtCore\n\u001b[1;32m     29\u001b[0m     \u001b[39m# Fixes incompatibilities due to new overflow checking when converting integers introduced in qt 5.12\u001b[39;00m\n\u001b[1;32m     30\u001b[0m     \u001b[39m# https://www.riverbankcomputing.com/static/Docs/PyQt5/incompatibilities.html#pyqt-v5-12\u001b[39;00m\n\u001b[1;32m     31\u001b[0m     \u001b[39mimport\u001b[39;00m \u001b[39msip\u001b[39;00m\n",
      "\u001b[0;31mImportError\u001b[0m: libGL.so.1: cannot open shared object file: No such file or directory"
     ]
    }
   ],
   "source": [
    "tax.render(\"%%inline\")"
   ]
  },
  {
   "cell_type": "code",
   "execution_count": null,
   "metadata": {},
   "outputs": [],
   "source": []
  }
 ],
 "metadata": {
  "kernelspec": {
   "display_name": "base",
   "language": "python",
   "name": "python3"
  },
  "language_info": {
   "codemirror_mode": {
    "name": "ipython",
    "version": 3
   },
   "file_extension": ".py",
   "mimetype": "text/x-python",
   "name": "python",
   "nbconvert_exporter": "python",
   "pygments_lexer": "ipython3",
   "version": "3.9.12"
  }
 },
 "nbformat": 4,
 "nbformat_minor": 2
}
