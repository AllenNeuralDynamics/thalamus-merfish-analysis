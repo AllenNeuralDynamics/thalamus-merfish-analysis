{
 "cells": [
  {
   "cell_type": "code",
   "execution_count": 1,
   "id": "6e78f848-c6fc-4951-a096-f34b90690ac6",
   "metadata": {
    "tags": []
   },
   "outputs": [],
   "source": [
    "%load_ext autoreload\n",
    "%autoreload 2"
   ]
  },
  {
   "cell_type": "code",
   "execution_count": 1,
   "id": "1c316b8e-5ecd-4b08-b025-cceda53d1d39",
   "metadata": {
    "tags": []
   },
   "outputs": [],
   "source": [
    "import numpy as np\n",
    "import matplotlib.pyplot as plt\n",
    "\n",
    "%matplotlib inline"
   ]
  },
  {
   "cell_type": "code",
   "execution_count": 2,
   "id": "86146897",
   "metadata": {},
   "outputs": [],
   "source": [
    "from anndata import read_h5ad\n",
    "import abc_load\n",
    "import ccf_registration as ccf\n",
    "\n"
   ]
  },
  {
   "cell_type": "code",
   "execution_count": 3,
   "id": "6504d104",
   "metadata": {},
   "outputs": [],
   "source": [
    "df_full = abc_load.get_combined_metadata(cirro_names=False, version=\"20230830\")\n"
   ]
  },
  {
   "cell_type": "code",
   "execution_count": 5,
   "id": "39ff84ed",
   "metadata": {},
   "outputs": [],
   "source": [
    "df_neuronal = df_full.loc[lambda df: df['class'].str.contains('Glut') | \n",
    "                df['class'].str.contains('GABA')]\n",
    "adata_ref = read_h5ad(abc_load._THALAMUS_ANNDATA_PATH, backed='r')\n",
    "ref_index = adata_ref.obs_names.intersection(df_neuronal.index)"
   ]
  },
  {
   "cell_type": "code",
   "execution_count": 9,
   "id": "ee21c281",
   "metadata": {},
   "outputs": [],
   "source": [
    "th_frac = df_neuronal.groupby('subclass', observed=True).apply(lambda x: len(x.index.intersection(ref_index))/len(x))\n",
    "\n",
    "th_frac2 = df_neuronal.groupby('subclass', observed=True).apply(lambda x: ((x['parcellation_division'] == 'TH') |\n",
    "                                                 (x['parcellation_structure'] == 'ZI')).sum() / len(x))"
   ]
  },
  {
   "cell_type": "code",
   "execution_count": 10,
   "id": "833da4c3",
   "metadata": {},
   "outputs": [
    {
     "data": {
      "text/plain": [
       "subclass\n",
       "150 CM-IAD-CL-PCN Sema5b Glut             0.999714\n",
       "151 TH Prkcd Grin2c Glut                  0.997257\n",
       "148 AV Col27a1 Glut                       0.995354\n",
       "147 AD Serpinb7 Glut                      0.993277\n",
       "152 RE-Xi Nox4 Glut                       0.992487\n",
       "149 PVT-PT Ntrk1 Glut                     0.988044\n",
       "145 MH Tac2 Glut                          0.984242\n",
       "146 LH Pou4f1 Sox1 Glut                   0.983130\n",
       "154 PF Fzd5 Glut                          0.967882\n",
       "153 MG-POL-SGN Nts Glut                   0.965432\n",
       "109 LGv-ZI Otx2 Gaba                      0.962536\n",
       "093 RT-ZI Gnb3 Gaba                       0.910603\n",
       "101 ZI Pax6 Gaba                          0.734139\n",
       "110 BST-po Iigp1 Glut                     0.703297\n",
       "203 LGv-SPFp-SPFm Nkx2-2 Tcf7l2 Gaba      0.598144\n",
       "168 SPA-SPFm-SPFp-POL-PIL-PoT Sp9 Glut    0.486436\n",
       "103 PVHd-DMH Lhx6 Gaba                    0.225472\n",
       "096 PVHd Gsc Gaba                         0.204082\n",
       "167 PRC-PAG Tcf7l2 Irx2 Glut              0.200782\n",
       "097 PVHd-SBPV Six3 Prox1 Gaba             0.143164\n",
       "dtype: float64"
      ]
     },
     "execution_count": 10,
     "metadata": {},
     "output_type": "execute_result"
    }
   ],
   "source": [
    "th_frac.sort_values(ascending=False).head(20)"
   ]
  },
  {
   "cell_type": "code",
   "execution_count": 11,
   "id": "df129d67",
   "metadata": {},
   "outputs": [
    {
     "data": {
      "text/plain": [
       "True"
      ]
     },
     "execution_count": 11,
     "metadata": {},
     "output_type": "execute_result"
    }
   ],
   "source": [
    "th_subclasses = th_frac.loc[lambda x: x>0.33].index\n",
    "th_subclasses2 = th_frac2.loc[lambda x: x>0.33].index\n",
    "th_subclasses.equals(th_subclasses2)"
   ]
  },
  {
   "cell_type": "code",
   "execution_count": 12,
   "id": "d3a052f2",
   "metadata": {},
   "outputs": [
    {
     "data": {
      "text/plain": [
       "CategoricalIndex(['168 SPA-SPFm-SPFp-POL-PIL-PoT Sp9 Glut', '101 ZI Pax6 Gaba',\n",
       "                  '109 LGv-ZI Otx2 Gaba', '093 RT-ZI Gnb3 Gaba',\n",
       "                  '149 PVT-PT Ntrk1 Glut', '151 TH Prkcd Grin2c Glut',\n",
       "                  '152 RE-Xi Nox4 Glut', '154 PF Fzd5 Glut',\n",
       "                  '203 LGv-SPFp-SPFm Nkx2-2 Tcf7l2 Gaba',\n",
       "                  '148 AV Col27a1 Glut', '146 LH Pou4f1 Sox1 Glut',\n",
       "                  '147 AD Serpinb7 Glut', '153 MG-POL-SGN Nts Glut',\n",
       "                  '110 BST-po Iigp1 Glut', '150 CM-IAD-CL-PCN Sema5b Glut',\n",
       "                  '145 MH Tac2 Glut'],\n",
       "                 categories=['009 L2/3 IT PIR-ENTl Glut', '036 HPF CR Glut', '037 DG Glut', '038 DG-PIR Ex IMN', ..., '260 MDRNv Crp Glut', '034 NP PPP Glut', '026 NLOT Rho Glut', '067 LSX Sall3 Pax6 Gaba'], ordered=False, dtype='category', name='subclass')"
      ]
     },
     "execution_count": 12,
     "metadata": {},
     "output_type": "execute_result"
    }
   ],
   "source": [
    "th_subclasses"
   ]
  },
  {
   "cell_type": "markdown",
   "id": "365d295a",
   "metadata": {},
   "source": [
    "## Validation"
   ]
  },
  {
   "cell_type": "code",
   "execution_count": 4,
   "id": "b2571d65",
   "metadata": {},
   "outputs": [],
   "source": [
    "coords_ccf = ['x_ccf', 'y_ccf', 'z_ccf']\n",
    "coords_rec = ['x_reconstructed', 'y_reconstructed', 'z_reconstructed']\n",
    "coords_sec = ['x_section', 'y_section', 'z_section']\n"
   ]
  },
  {
   "cell_type": "code",
   "execution_count": null,
   "id": "0b449a54",
   "metadata": {},
   "outputs": [],
   "source": [
    "\n",
    "common_index = df_full.index.intersection(df_new.index)\n",
    "(df_full.loc[common_index, coords_ccf+coords_from+img_coords] == \n",
    " df_new.loc[common_index, coords_ccf+coords_from+img_coords]).all()\n"
   ]
  },
  {
   "cell_type": "code",
   "execution_count": 27,
   "id": "b2571d65",
   "metadata": {},
   "outputs": [
    {
     "data": {
      "text/plain": [
       "0.5593320812492296"
      ]
     },
     "execution_count": 27,
     "metadata": {},
     "output_type": "execute_result"
    }
   ],
   "source": [
    "(df_full.loc[common_index, img_coords] != \n",
    " df_new.loc[common_index, img_coords]).any(axis=1).mean()"
   ]
  },
  {
   "cell_type": "code",
   "execution_count": 31,
   "id": "b2571d65",
   "metadata": {},
   "outputs": [
    {
     "data": {
      "text/plain": [
       "0.0"
      ]
     },
     "execution_count": 31,
     "metadata": {},
     "output_type": "execute_result"
    }
   ],
   "source": [
    "((df_full.loc[common_index, img_coords] - \n",
    " df_new.loc[common_index, img_coords]).round(3) > 0).any(axis=1).mean()"
   ]
  },
  {
   "cell_type": "code",
   "execution_count": 38,
   "id": "abbe2ee9",
   "metadata": {},
   "outputs": [
    {
     "data": {
      "text/plain": [
       "array([[1.48645486e-04, 1.45394574e-03, 4.01610443e-05, 2.22044605e-16],\n",
       "       [4.33532016e-04, 4.48342274e-04, 1.62545981e-02, 1.38777878e-15],\n",
       "       [2.24738210e-04, 1.60088175e-03, 1.31316340e-02, 5.82867088e-16],\n",
       "       [3.17304742e-04, 7.34315390e-03, 1.45347738e-02, 2.22044605e-16]])"
      ]
     },
     "execution_count": 38,
     "metadata": {},
     "output_type": "execute_result"
    }
   ],
   "source": [
    "t1 = ccf.get_ccf_transform(df_full, coords_from, coords_ccf)\n",
    "t2 = ccf.get_ccf_transform(df_full, coords_from, coords_ccf)\n",
    "np.abs(t1-t2)"
   ]
  },
  {
   "cell_type": "code",
   "execution_count": 86,
   "id": "f1e12dd5",
   "metadata": {},
   "outputs": [
    {
     "data": {
      "text/plain": [
       "<module 'ccf_registration' from '/root/capsule/code/ccf_registration.py'>"
      ]
     },
     "execution_count": 86,
     "metadata": {},
     "output_type": "execute_result"
    }
   ],
   "source": [
    "from importlib import reload\n",
    "reload(ccf)"
   ]
  },
  {
   "cell_type": "code",
   "execution_count": 49,
   "id": "98770a0a",
   "metadata": {},
   "outputs": [],
   "source": [
    "from sklearn import linear_model\n",
    "from sklearn.metrics import mean_squared_error, r2_score\n",
    "import scipy.linalg as linalg\n"
   ]
  },
  {
   "cell_type": "code",
   "execution_count": 79,
   "id": "f9c007dd",
   "metadata": {},
   "outputs": [],
   "source": [
    "\n",
    "df = df_full\n",
    "coords_to = coords_ccf\n",
    "coords_from = coords_rec\n",
    "samples = np.random.randint(0, len(df), 200)\n",
    "to = ccf.to_hom(df[coords_to].iloc[samples].values)\n",
    "x, res, rank, s = linalg.lstsq(ccf.to_hom(df[coords_from].iloc[samples].values), \n",
    "             to)\n",
    "    "
   ]
  },
  {
   "cell_type": "code",
   "execution_count": 80,
   "id": "ba04dd61",
   "metadata": {},
   "outputs": [
    {
     "name": "stderr",
     "output_type": "stream",
     "text": [
      "/tmp/ipykernel_12799/4176339426.py:1: RuntimeWarning: divide by zero encountered in true_divide\n",
      "  res / (len(to)*np.var(to, axis=0))\n"
     ]
    },
    {
     "data": {
      "text/plain": [
       "array([1.86539972e-08, 2.19633452e-06, 3.24436287e-06,            inf])"
      ]
     },
     "execution_count": 80,
     "metadata": {},
     "output_type": "execute_result"
    }
   ],
   "source": [
    "res / (len(to)*np.var(to, axis=0))"
   ]
  },
  {
   "cell_type": "markdown",
   "id": "e97f2d9b-bfcb-4b0c-b82d-660dbce4e217",
   "metadata": {
    "jp-MarkdownHeadingCollapsed": true,
    "tags": []
   },
   "source": [
    "## CCF images"
   ]
  },
  {
   "cell_type": "markdown",
   "id": "9fdab516",
   "metadata": {},
   "source": [
    "### old atlas nrrd to nifti"
   ]
  },
  {
   "cell_type": "code",
   "execution_count": 8,
   "id": "be4a49e9",
   "metadata": {},
   "outputs": [],
   "source": [
    "import nibabel as nib\n",
    "import nrrd"
   ]
  },
  {
   "cell_type": "code",
   "execution_count": 9,
   "id": "6663b2d3",
   "metadata": {},
   "outputs": [],
   "source": [
    "\n",
    "# from http://download.alleninstitute.org/informatics-archive/current-release/mouse_ccf/annotation/ccf_2017/\n",
    "\n",
    "# Get a list of .nrrd files in a directory\n",
    "nrrd_file = '../data/annotation_10.nrrd'\n",
    "# Read the .nrrd file\n",
    "data, header = nrrd.read(nrrd_file)\n"
   ]
  },
  {
   "cell_type": "code",
   "execution_count": 10,
   "id": "56d295f8",
   "metadata": {},
   "outputs": [
    {
     "data": {
      "text/plain": [
       "dtype('uint32')"
      ]
     },
     "execution_count": 10,
     "metadata": {},
     "output_type": "execute_result"
    }
   ],
   "source": [
    "data.dtype"
   ]
  },
  {
   "cell_type": "code",
   "execution_count": 12,
   "id": "9707bc66",
   "metadata": {},
   "outputs": [],
   "source": [
    "data2 = np.moveaxis(np.flip(np.flip(data, 0), 1), range(3), (1, 2, 0))"
   ]
  },
  {
   "cell_type": "code",
   "execution_count": 17,
   "id": "5e51b4d9",
   "metadata": {},
   "outputs": [
    {
     "data": {
      "text/plain": [
       "dtype('uint32')"
      ]
     },
     "execution_count": 17,
     "metadata": {},
     "output_type": "execute_result"
    }
   ],
   "source": [
    "data2 = np.array(data2, dtype=np.dtype('<u4'))\n",
    "data2.dtype"
   ]
  },
  {
   "cell_type": "code",
   "execution_count": 14,
   "id": "3bbd34c5",
   "metadata": {},
   "outputs": [
    {
     "data": {
      "text/plain": [
       "array([1140., 1320.,  800.])"
      ]
     },
     "execution_count": 14,
     "metadata": {},
     "output_type": "execute_result"
    }
   ],
   "source": [
    "np.array([456., 528., 320.])*2.5"
   ]
  },
  {
   "cell_type": "code",
   "execution_count": 47,
   "id": "729079a6",
   "metadata": {},
   "outputs": [
    {
     "data": {
      "text/plain": [
       "array([456., 528., 320.])"
      ]
     },
     "execution_count": 47,
     "metadata": {},
     "output_type": "execute_result"
    }
   ],
   "source": [
    "np.array(data2.shape)/2.5"
   ]
  },
  {
   "cell_type": "code",
   "execution_count": null,
   "id": "022c492a",
   "metadata": {},
   "outputs": [],
   "source": [
    "nifti_img.g"
   ]
  },
  {
   "cell_type": "code",
   "execution_count": 39,
   "id": "e793862f",
   "metadata": {},
   "outputs": [],
   "source": [
    "nifti_img = nib.Nifti1Image(data2, affine=np.eye(4))\n"
   ]
  },
  {
   "cell_type": "code",
   "execution_count": 42,
   "id": "95cca843",
   "metadata": {},
   "outputs": [],
   "source": [
    "# Save the NIfTI1Image object as .nii file\n",
    "nib.save(nifti_img, '../data/labels.nii.gz')"
   ]
  },
  {
   "cell_type": "code",
   "execution_count": 19,
   "id": "517d8581-f883-44b6-b47b-0a973c852756",
   "metadata": {
    "tags": []
   },
   "outputs": [
    {
     "name": "stderr",
     "output_type": "stream",
     "text": [
      "pixdim[1,2,3] should be non-zero; setting 0 dims to 1\n"
     ]
    }
   ],
   "source": [
    "im_path = \"/data/labels.nii.gz\"\n",
    "img = nib.load(im_path)"
   ]
  },
  {
   "cell_type": "code",
   "execution_count": 44,
   "id": "22f98a95",
   "metadata": {},
   "outputs": [
    {
     "name": "stdout",
     "output_type": "stream",
     "text": [
      "<class 'nibabel.nifti1.Nifti1Header'> object, endian='<'\n",
      "sizeof_hdr      : 348\n",
      "data_type       : b''\n",
      "db_name         : b''\n",
      "extents         : 0\n",
      "session_error   : 0\n",
      "regular         : b''\n",
      "dim_info        : 0\n",
      "dim             : [   3 1140 1320  800    1    1    1    1]\n",
      "intent_p1       : 0.0\n",
      "intent_p2       : 0.0\n",
      "intent_p3       : 0.0\n",
      "intent_code     : none\n",
      "datatype        : uint32\n",
      "bitpix          : 32\n",
      "slice_start     : 0\n",
      "pixdim          : [1. 1. 1. 1. 1. 1. 1. 1.]\n",
      "vox_offset      : 0.0\n",
      "scl_slope       : nan\n",
      "scl_inter       : nan\n",
      "slice_end       : 0\n",
      "slice_code      : unknown\n",
      "xyzt_units      : 0\n",
      "cal_max         : 0.0\n",
      "cal_min         : 0.0\n",
      "slice_duration  : 0.0\n",
      "toffset         : 0.0\n",
      "glmax           : 0\n",
      "glmin           : 0\n",
      "descrip         : b''\n",
      "aux_file        : b''\n",
      "qform_code      : unknown\n",
      "sform_code      : aligned\n",
      "quatern_b       : 0.0\n",
      "quatern_c       : 0.0\n",
      "quatern_d       : 0.0\n",
      "qoffset_x       : 0.0\n",
      "qoffset_y       : 0.0\n",
      "qoffset_z       : 0.0\n",
      "srow_x          : [1. 0. 0. 0.]\n",
      "srow_y          : [0. 1. 0. 0.]\n",
      "srow_z          : [0. 0. 1. 0.]\n",
      "intent_name     : b''\n",
      "magic           : b'n+1'\n"
     ]
    }
   ],
   "source": [
    "print(nifti_img.header)"
   ]
  },
  {
   "cell_type": "code",
   "execution_count": null,
   "id": "22f98a95",
   "metadata": {},
   "outputs": [
    {
     "name": "stdout",
     "output_type": "stream",
     "text": [
      "<class 'nibabel.nifti1.Nifti1Header'> object, endian='<'\n",
      "sizeof_hdr      : 348\n",
      "data_type       : b''\n",
      "db_name         : b''\n",
      "extents         : 0\n",
      "session_error   : 0\n",
      "regular         : b''\n",
      "dim_info        : 0\n",
      "dim             : [  3 456 528 320   0   0   0   0]\n",
      "intent_p1       : 0.0\n",
      "intent_p2       : 0.0\n",
      "intent_p3       : 0.0\n",
      "intent_code     : none\n",
      "datatype        : uint32\n",
      "bitpix          : 32\n",
      "slice_start     : 0\n",
      "pixdim          : [1. 1. 1. 1. 0. 0. 0. 0.]\n",
      "vox_offset      : 0.0\n",
      "scl_slope       : nan\n",
      "scl_inter       : nan\n",
      "slice_end       : 0\n",
      "slice_code      : unknown\n",
      "xyzt_units      : 0\n",
      "cal_max         : 0.0\n",
      "cal_min         : 0.0\n",
      "slice_duration  : 0.0\n",
      "toffset         : 0.0\n",
      "glmax           : 0\n",
      "glmin           : 0\n",
      "descrip         : b''\n",
      "aux_file        : b''\n",
      "qform_code      : unknown\n",
      "sform_code      : unknown\n",
      "quatern_b       : 0.0\n",
      "quatern_c       : 0.0\n",
      "quatern_d       : 0.0\n",
      "qoffset_x       : 0.0\n",
      "qoffset_y       : 0.0\n",
      "qoffset_z       : 0.0\n",
      "srow_x          : [1. 0. 0. 0.]\n",
      "srow_y          : [0. 1. 0. 0.]\n",
      "srow_z          : [0. 0. 1. 0.]\n",
      "intent_name     : b''\n",
      "magic           : b'n+1'\n"
     ]
    }
   ],
   "source": [
    "print(img.header)"
   ]
  },
  {
   "cell_type": "code",
   "execution_count": 27,
   "id": "3db85017",
   "metadata": {},
   "outputs": [
    {
     "data": {
      "text/plain": [
       "(456, 528, 320)"
      ]
     },
     "execution_count": 27,
     "metadata": {},
     "output_type": "execute_result"
    }
   ],
   "source": [
    "img.shape"
   ]
  },
  {
   "cell_type": "code",
   "execution_count": 36,
   "id": "ef39c211",
   "metadata": {},
   "outputs": [
    {
     "data": {
      "text/plain": [
       "array([[  -1. ,    0. ,    0. ,  227.5],\n",
       "       [   0. ,    1. ,    0. , -263.5],\n",
       "       [   0. ,    0. ,    1. , -159.5],\n",
       "       [   0. ,    0. ,    0. ,    1. ]])"
      ]
     },
     "execution_count": 36,
     "metadata": {},
     "output_type": "execute_result"
    }
   ],
   "source": [
    "img.affine"
   ]
  },
  {
   "cell_type": "code",
   "execution_count": 28,
   "id": "a4cf781a",
   "metadata": {},
   "outputs": [
    {
     "data": {
      "text/plain": [
       "(1.0, 1.0, 1.0)"
      ]
     },
     "execution_count": 28,
     "metadata": {},
     "output_type": "execute_result"
    }
   ],
   "source": [
    "img.header.get_zooms()"
   ]
  },
  {
   "cell_type": "code",
   "execution_count": 22,
   "id": "5412cb0b",
   "metadata": {},
   "outputs": [
    {
     "data": {
      "text/plain": [
       "dtype('<u4')"
      ]
     },
     "execution_count": 22,
     "metadata": {},
     "output_type": "execute_result"
    }
   ],
   "source": [
    "img.get_data_dtype()"
   ]
  },
  {
   "cell_type": "markdown",
   "id": "c4ca06fa",
   "metadata": {},
   "source": [
    "### Nibabel nii load from atlas"
   ]
  },
  {
   "cell_type": "code",
   "execution_count": 11,
   "id": "517d8581-f883-44b6-b47b-0a973c852756",
   "metadata": {
    "tags": []
   },
   "outputs": [],
   "source": [
    "im_path = \"/data/abc_atlas/image_volumes/Allen-CCF-2020/20230630/annotation_10.nii.gz\"\n",
    "img = nib.load(im_path)"
   ]
  },
  {
   "cell_type": "code",
   "execution_count": 13,
   "id": "8b37359f-5ce1-4129-b190-d85ca8b934ce",
   "metadata": {
    "tags": []
   },
   "outputs": [
    {
     "data": {
      "text/plain": [
       "(1320, 800, 1140)"
      ]
     },
     "execution_count": 13,
     "metadata": {},
     "output_type": "execute_result"
    }
   ],
   "source": [
    "img.shape"
   ]
  },
  {
   "cell_type": "code",
   "execution_count": 14,
   "id": "c7cff6e4-7c01-4cac-96bd-6ec286536ca0",
   "metadata": {
    "tags": []
   },
   "outputs": [
    {
     "data": {
      "text/plain": [
       "array([[ 0.        ,  0.        ,  0.01      , -5.69500017],\n",
       "       [-0.01      ,  0.        ,  0.        ,  5.3499999 ],\n",
       "       [ 0.        , -0.01      ,  0.        ,  5.21999979],\n",
       "       [ 0.        ,  0.        ,  0.        ,  1.        ]])"
      ]
     },
     "execution_count": 14,
     "metadata": {},
     "output_type": "execute_result"
    }
   ],
   "source": [
    "img.affine"
   ]
  },
  {
   "cell_type": "code",
   "execution_count": 15,
   "id": "510d0991-39d6-4591-8759-9d393d308571",
   "metadata": {
    "tags": []
   },
   "outputs": [
    {
     "data": {
      "text/plain": [
       "('mm', 'unknown')"
      ]
     },
     "execution_count": 15,
     "metadata": {},
     "output_type": "execute_result"
    }
   ],
   "source": [
    "img.header.get_xyzt_units()"
   ]
  },
  {
   "cell_type": "markdown",
   "id": "2a49dd7a",
   "metadata": {},
   "source": [
    "### save new IDs / colors for visualign"
   ]
  },
  {
   "cell_type": "code",
   "execution_count": 1,
   "id": "aeb97f05",
   "metadata": {},
   "outputs": [],
   "source": [
    "import pandas as pd"
   ]
  },
  {
   "cell_type": "code",
   "execution_count": 7,
   "id": "6a1ecb2a",
   "metadata": {},
   "outputs": [],
   "source": [
    "parcellation = pd.read_csv(\"../data/allen-brain-cell-atlas/metadata/Allen-CCF-2020/20230630/parcellation_to_parcellation_term_membership.csv\")"
   ]
  },
  {
   "cell_type": "code",
   "execution_count": null,
   "id": "f5c7b7cf",
   "metadata": {},
   "outputs": [],
   "source": [
    "cols = ['red','green','blue', 'parcellation_term_name']\n",
    "old_atlas = lambda df: df.loc[df['parcellation_term_label'].str.contains('2017')]\n",
    "pick_finest = lambda df: df.loc[df['term_set_order'] == df['term_set_order'].max()]\n",
    "parcellation_finest = parcellation.groupby('parcellation_index').apply(pick_finest)"
   ]
  },
  {
   "cell_type": "code",
   "execution_count": null,
   "id": "5af6a54c",
   "metadata": {},
   "outputs": [],
   "source": [
    "parcellation_finest = parcellation.groupby('parcellation_index').apply(pick_finest)\n"
   ]
  },
  {
   "cell_type": "code",
   "execution_count": 26,
   "id": "a4f1231d",
   "metadata": {},
   "outputs": [
    {
     "data": {
      "text/html": [
       "<div>\n",
       "<style scoped>\n",
       "    .dataframe tbody tr th:only-of-type {\n",
       "        vertical-align: middle;\n",
       "    }\n",
       "\n",
       "    .dataframe tbody tr th {\n",
       "        vertical-align: top;\n",
       "    }\n",
       "\n",
       "    .dataframe thead th {\n",
       "        text-align: right;\n",
       "    }\n",
       "</style>\n",
       "<table border=\"1\" class=\"dataframe\">\n",
       "  <thead>\n",
       "    <tr style=\"text-align: right;\">\n",
       "      <th></th>\n",
       "      <th>parcellation_label</th>\n",
       "      <th>parcellation_term_label</th>\n",
       "      <th>parcellation_term_set_label</th>\n",
       "      <th>parcellation_index</th>\n",
       "      <th>voxel_count</th>\n",
       "      <th>volume_mm3</th>\n",
       "      <th>color_hex_triplet</th>\n",
       "      <th>red</th>\n",
       "      <th>green</th>\n",
       "      <th>blue</th>\n",
       "      <th>parcellation_term_name</th>\n",
       "      <th>parcellation_term_acronym</th>\n",
       "      <th>parcellation_term_set_name</th>\n",
       "      <th>term_set_order</th>\n",
       "      <th>term_order</th>\n",
       "      <th>parent_term_label</th>\n",
       "    </tr>\n",
       "  </thead>\n",
       "  <tbody>\n",
       "    <tr>\n",
       "      <th>0</th>\n",
       "      <td>AllenCCF-Annotation-2020-997</td>\n",
       "      <td>AllenCCF-Ontology-2017-997</td>\n",
       "      <td>AllenCCF-Ontology-2017-ORGA</td>\n",
       "      <td>987</td>\n",
       "      <td>3564320</td>\n",
       "      <td>3.56432</td>\n",
       "      <td>#FFFFFF</td>\n",
       "      <td>255</td>\n",
       "      <td>255</td>\n",
       "      <td>255</td>\n",
       "      <td>brain</td>\n",
       "      <td>brain</td>\n",
       "      <td>organ</td>\n",
       "      <td>0</td>\n",
       "      <td>0</td>\n",
       "      <td>NaN</td>\n",
       "    </tr>\n",
       "    <tr>\n",
       "      <th>1</th>\n",
       "      <td>AllenCCF-Annotation-2020-68</td>\n",
       "      <td>AllenCCF-Ontology-2017-997</td>\n",
       "      <td>AllenCCF-Ontology-2017-ORGA</td>\n",
       "      <td>63</td>\n",
       "      <td>256520</td>\n",
       "      <td>0.25652</td>\n",
       "      <td>#FFFFFF</td>\n",
       "      <td>255</td>\n",
       "      <td>255</td>\n",
       "      <td>255</td>\n",
       "      <td>brain</td>\n",
       "      <td>brain</td>\n",
       "      <td>organ</td>\n",
       "      <td>0</td>\n",
       "      <td>0</td>\n",
       "      <td>NaN</td>\n",
       "    </tr>\n",
       "    <tr>\n",
       "      <th>2</th>\n",
       "      <td>AllenCCF-Annotation-2020-68</td>\n",
       "      <td>AllenCCF-Ontology-2017-8</td>\n",
       "      <td>AllenCCF-Ontology-2017-CATE</td>\n",
       "      <td>63</td>\n",
       "      <td>256520</td>\n",
       "      <td>0.25652</td>\n",
       "      <td>#BFDAE3</td>\n",
       "      <td>191</td>\n",
       "      <td>218</td>\n",
       "      <td>227</td>\n",
       "      <td>Basic cell groups and regions</td>\n",
       "      <td>grey</td>\n",
       "      <td>category</td>\n",
       "      <td>1</td>\n",
       "      <td>1</td>\n",
       "      <td>AllenCCF-Ontology-2017-997</td>\n",
       "    </tr>\n",
       "    <tr>\n",
       "      <th>3</th>\n",
       "      <td>AllenCCF-Annotation-2020-68</td>\n",
       "      <td>AllenCCF-Ontology-2017-315</td>\n",
       "      <td>AllenCCF-Ontology-2017-DIVI</td>\n",
       "      <td>63</td>\n",
       "      <td>256520</td>\n",
       "      <td>0.25652</td>\n",
       "      <td>#70FF71</td>\n",
       "      <td>112</td>\n",
       "      <td>255</td>\n",
       "      <td>113</td>\n",
       "      <td>Isocortex</td>\n",
       "      <td>Isocortex</td>\n",
       "      <td>division</td>\n",
       "      <td>2</td>\n",
       "      <td>1</td>\n",
       "      <td>AllenCCF-Ontology-2017-8</td>\n",
       "    </tr>\n",
       "    <tr>\n",
       "      <th>4</th>\n",
       "      <td>AllenCCF-Annotation-2020-68</td>\n",
       "      <td>AllenCCF-Ontology-2017-184</td>\n",
       "      <td>AllenCCF-Ontology-2017-STRU</td>\n",
       "      <td>63</td>\n",
       "      <td>256520</td>\n",
       "      <td>0.25652</td>\n",
       "      <td>#268F45</td>\n",
       "      <td>38</td>\n",
       "      <td>143</td>\n",
       "      <td>69</td>\n",
       "      <td>Frontal pole, cerebral cortex</td>\n",
       "      <td>FRP</td>\n",
       "      <td>structure</td>\n",
       "      <td>3</td>\n",
       "      <td>1</td>\n",
       "      <td>AllenCCF-Ontology-2017-315</td>\n",
       "    </tr>\n",
       "  </tbody>\n",
       "</table>\n",
       "</div>"
      ],
      "text/plain": [
       "             parcellation_label     parcellation_term_label  \\\n",
       "0  AllenCCF-Annotation-2020-997  AllenCCF-Ontology-2017-997   \n",
       "1   AllenCCF-Annotation-2020-68  AllenCCF-Ontology-2017-997   \n",
       "2   AllenCCF-Annotation-2020-68    AllenCCF-Ontology-2017-8   \n",
       "3   AllenCCF-Annotation-2020-68  AllenCCF-Ontology-2017-315   \n",
       "4   AllenCCF-Annotation-2020-68  AllenCCF-Ontology-2017-184   \n",
       "\n",
       "   parcellation_term_set_label  parcellation_index  voxel_count  volume_mm3  \\\n",
       "0  AllenCCF-Ontology-2017-ORGA                 987      3564320     3.56432   \n",
       "1  AllenCCF-Ontology-2017-ORGA                  63       256520     0.25652   \n",
       "2  AllenCCF-Ontology-2017-CATE                  63       256520     0.25652   \n",
       "3  AllenCCF-Ontology-2017-DIVI                  63       256520     0.25652   \n",
       "4  AllenCCF-Ontology-2017-STRU                  63       256520     0.25652   \n",
       "\n",
       "  color_hex_triplet  red  green  blue         parcellation_term_name  \\\n",
       "0           #FFFFFF  255    255   255                          brain   \n",
       "1           #FFFFFF  255    255   255                          brain   \n",
       "2           #BFDAE3  191    218   227  Basic cell groups and regions   \n",
       "3           #70FF71  112    255   113                      Isocortex   \n",
       "4           #268F45   38    143    69  Frontal pole, cerebral cortex   \n",
       "\n",
       "  parcellation_term_acronym parcellation_term_set_name  term_set_order  \\\n",
       "0                     brain                      organ               0   \n",
       "1                     brain                      organ               0   \n",
       "2                      grey                   category               1   \n",
       "3                 Isocortex                   division               2   \n",
       "4                       FRP                  structure               3   \n",
       "\n",
       "   term_order           parent_term_label  \n",
       "0           0                         NaN  \n",
       "1           0                         NaN  \n",
       "2           1  AllenCCF-Ontology-2017-997  \n",
       "3           1    AllenCCF-Ontology-2017-8  \n",
       "4           1  AllenCCF-Ontology-2017-315  "
      ]
     },
     "execution_count": 26,
     "metadata": {},
     "output_type": "execute_result"
    }
   ],
   "source": [
    "parcellation.head()"
   ]
  },
  {
   "cell_type": "markdown",
   "id": "73d99724-c191-4479-ad8b-71610a13b279",
   "metadata": {},
   "source": [
    "## making subclass images"
   ]
  },
  {
   "cell_type": "code",
   "execution_count": 45,
   "id": "8fdf55c4",
   "metadata": {},
   "outputs": [],
   "source": [
    "\n",
    "def preproc_data(df, nn_classes, img_coords, ref_spatial, ref_subset=None):\n",
    "    # df = df_full.loc[lambda df: df[img_coords[0]].notna()]\n",
    "    if ref_subset is None:\n",
    "        ref_subset = ref_spatial\n",
    "    df = ccf.subset_to_ref_bounds(df, img_coords, ref_spatial)\n",
    "    ref_subset = df.index.intersection(ref_subset)\n",
    "    \n",
    "    slice_label = 'slice_int'\n",
    "    df[slice_label] = df['z_section'].apply(lambda x: str(int(x*10)))\n",
    "\n",
    "    working_label = \"thal_class\"\n",
    "    img_label = 'subclass_int'\n",
    "    df[working_label] = df[\"class\"]\n",
    "    df.loc[ref_subset, working_label] = df.loc[ref_subset, \"subclass\"]\n",
    "\n",
    "    all_labels = df[working_label].unique()\n",
    "    focus_labels = df.loc[ref_subset, working_label].value_counts().index\n",
    "    other_labels = df.loc[df.index.difference(ref_subset)].loc[\n",
    "        lambda df: ~df['class'].isin(nn_classes), working_label].value_counts().index\n",
    "\n",
    "    label_order = [\"\"] + list(focus_labels) + nn_classes + list(other_labels)\n",
    "    label_map = {x: label_order.index(x) for x in all_labels}\n",
    "    df[img_label] = df[working_label].map(label_map)\n",
    "    cmap = ccf.cmap_with_emphasis(len(focus_labels), n_secondary=len(nn_classes))\n",
    "    return df, cmap"
   ]
  },
  {
   "cell_type": "code",
   "execution_count": 30,
   "id": "760df4d0",
   "metadata": {},
   "outputs": [],
   "source": [
    "slice_label = 'slice_int'\n",
    "\n",
    "working_label = \"thal_class\"\n",
    "img_label = 'subclass_int'\n",
    "\n",
    "img_coords = ['x_section', 'y_section', 'z_section']\n",
    "coords_from = ['x_reconstructed', 'y_reconstructed', 'z_reconstructed']"
   ]
  },
  {
   "cell_type": "code",
   "execution_count": 112,
   "id": "c6b83a22",
   "metadata": {},
   "outputs": [],
   "source": [
    "nn_classes = [\"31 OPC-Oligo\",\n",
    "              \"30 Astro-Epen\",\n",
    "              \"33 Vascular\",\n",
    "              \"34 Immune\"]\n",
    "df, cmap = preproc_data(df_full, nn_classes, img_coords, ref_index)\n",
    "out = ccf.export_to_quicknii(df, 'brain3_20220830', cmap=cmap,\n",
    "                       img_coords=img_coords, coords_from=coords_from,\n",
    "                       img_label=img_label, slice_label=slice_label, scale=25,\n",
    "                   path='../results/qn_25_affine_thal_focus_20220630', \n",
    "                   save_json=True, save_images=False)"
   ]
  },
  {
   "cell_type": "code",
   "execution_count": 39,
   "id": "c6b83a22",
   "metadata": {},
   "outputs": [],
   "source": [
    "nn_classes = [\"31 OPC-Oligo\",\n",
    "              \"30 Astro-Epen\",\n",
    "              \"33 Vascular\",\n",
    "              \"34 Immune\"]\n",
    "ref_subclasses = df_neuronal.loc[lambda df: df['subclass'].isin(th_subclasses)].index\n",
    "df, cmap = preproc_data(df_full, nn_classes, img_coords, ref_index, ref_subclasses)\n"
   ]
  },
  {
   "cell_type": "code",
   "execution_count": null,
   "id": "7c117b0d",
   "metadata": {},
   "outputs": [],
   "source": [
    "\n",
    "out = ccf.export_to_quicknii(df, 'brain3_20220830', cmap=cmap,\n",
    "                       img_coords=img_coords, coords_from=coords_from,\n",
    "                       img_label=img_label, slice_label=slice_label, scale=25,\n",
    "                   path='../results/qn_25_affine_thal_subclasses_20220630', \n",
    "                   save_json=True, save_images=True)"
   ]
  },
  {
   "cell_type": "code",
   "execution_count": 113,
   "id": "c6b83a22",
   "metadata": {},
   "outputs": [],
   "source": [
    "# old\n",
    "nn_classes = [\n",
    "    \"28 Astro-Epen\",\n",
    "    \"29 Oligo\",\n",
    "    \"31 Vascular\",\n",
    "    \"32 Immune\"\n",
    "]\n",
    "df, cmap = preproc_data(df_full, nn_classes, img_coords, ref_index)\n",
    "out = ccf.export_to_quicknii(df, 'brain3_20220630_2', cmap=cmap,\n",
    "                       img_coords=img_coords, coords_from=coords_from,\n",
    "                       img_label=img_label, slice_label=slice_label, scale=25,\n",
    "                   path='../results/qn_25_affine_thal_focus_20220630', \n",
    "                   save_json=True, save_images=False)"
   ]
  },
  {
   "cell_type": "code",
   "execution_count": 41,
   "id": "7bd5c2ad",
   "metadata": {},
   "outputs": [],
   "source": [
    "coords_from = ['x_reconstructed', 'y_reconstructed', 'z_reconstructed']\n",
    "img_coords = ['x_section', 'y_section', 'z_section']\n",
    "ccf.export_to_quicknii(df, 'brain3_20220630', cmap=cmap,\n",
    "                       img_coords=img_coords, coords_from=coords_from,\n",
    "                       img_label=img_label, slice_label=slice_label, scale=25,\n",
    "                   path='../results/qn_25_affine_thal_focus_20220630', save_images=True);"
   ]
  },
  {
   "cell_type": "code",
   "execution_count": null,
   "id": "7bd5c2ad",
   "metadata": {},
   "outputs": [],
   "source": [
    "coords_from = ['x_reconstructed', 'y_reconstructed', 'z_reconstructed']\n",
    "img_coords = ['x_section', 'y_section', 'z_section']\n",
    "ccf.export_to_quicknii(df, 'brain3', cmap=cmap,\n",
    "                       img_coords=img_coords, coords_from=coords_from,\n",
    "                       img_label=img_label, slice_label=slice_label, scale=25,\n",
    "                   path='../results/qn_25_affine_thal_focus', save_images=True);"
   ]
  },
  {
   "cell_type": "code",
   "execution_count": 10,
   "id": "7bd5c2ad",
   "metadata": {},
   "outputs": [],
   "source": [
    "nn_classes = [\"31 OPC-Oligo\",\n",
    "              \"30 Astro-Epen\",\n",
    "              \"33 Vascular\",\n",
    "              \"34 Immune\"]\n",
    "df, cmap = preproc_data(df_full, nn_classes, img_coords, ref_index)\n",
    "img_coords = ['x_reconstructed', 'y_reconstructed', 'z_reconstructed']\n",
    "ccf.export_to_quicknii(df, 'brain3_subclass', cmap=cmap, img_coords=img_coords, img_label=img_label, slice_label=slice_label, scale=25,\n",
    "                   path='../results/qn_25_reconstructed', save_images=True);"
   ]
  },
  {
   "cell_type": "code",
   "execution_count": 8,
   "id": "74544e00-987d-44e6-aa46-34d91400f64c",
   "metadata": {
    "tags": []
   },
   "outputs": [
    {
     "data": {
      "text/html": [
       "<div>\n",
       "<style scoped>\n",
       "    .dataframe tbody tr th:only-of-type {\n",
       "        vertical-align: middle;\n",
       "    }\n",
       "\n",
       "    .dataframe tbody tr th {\n",
       "        vertical-align: top;\n",
       "    }\n",
       "\n",
       "    .dataframe thead th {\n",
       "        text-align: right;\n",
       "    }\n",
       "</style>\n",
       "<table border=\"1\" class=\"dataframe\">\n",
       "  <thead>\n",
       "    <tr style=\"text-align: right;\">\n",
       "      <th></th>\n",
       "      <th>x_reconstructed</th>\n",
       "      <th>y_reconstructed</th>\n",
       "      <th>z_reconstructed</th>\n",
       "    </tr>\n",
       "  </thead>\n",
       "  <tbody>\n",
       "    <tr>\n",
       "      <th>min</th>\n",
       "      <td>2.426030</td>\n",
       "      <td>-7.499979</td>\n",
       "      <td>4.8</td>\n",
       "    </tr>\n",
       "    <tr>\n",
       "      <th>max</th>\n",
       "      <td>8.517774</td>\n",
       "      <td>-3.210131</td>\n",
       "      <td>8.2</td>\n",
       "    </tr>\n",
       "  </tbody>\n",
       "</table>\n",
       "</div>"
      ],
      "text/plain": [
       "     x_reconstructed  y_reconstructed  z_reconstructed\n",
       "min         2.426030        -7.499979              4.8\n",
       "max         8.517774        -3.210131              8.2"
      ]
     },
     "execution_count": 8,
     "metadata": {},
     "output_type": "execute_result"
    }
   ],
   "source": [
    "img_coords = ['x_reconstructed', 'y_reconstructed', 'z_reconstructed']\n",
    "df[img_coords].agg(['min','max'])"
   ]
  },
  {
   "cell_type": "code",
   "execution_count": null,
   "id": "74544e00-987d-44e6-aa46-34d91400f64c",
   "metadata": {
    "tags": []
   },
   "outputs": [
    {
     "data": {
      "text/html": [
       "<div>\n",
       "<style scoped>\n",
       "    .dataframe tbody tr th:only-of-type {\n",
       "        vertical-align: middle;\n",
       "    }\n",
       "\n",
       "    .dataframe tbody tr th {\n",
       "        vertical-align: top;\n",
       "    }\n",
       "\n",
       "    .dataframe thead th {\n",
       "        text-align: right;\n",
       "    }\n",
       "</style>\n",
       "<table border=\"1\" class=\"dataframe\">\n",
       "  <thead>\n",
       "    <tr style=\"text-align: right;\">\n",
       "      <th></th>\n",
       "      <th>x_reconstructed</th>\n",
       "      <th>y_reconstructed</th>\n",
       "      <th>z_reconstructed</th>\n",
       "    </tr>\n",
       "  </thead>\n",
       "  <tbody>\n",
       "    <tr>\n",
       "      <th>min</th>\n",
       "      <td>2.534730</td>\n",
       "      <td>-6.979664</td>\n",
       "      <td>4.8</td>\n",
       "    </tr>\n",
       "    <tr>\n",
       "      <th>max</th>\n",
       "      <td>8.432556</td>\n",
       "      <td>-4.151366</td>\n",
       "      <td>8.2</td>\n",
       "    </tr>\n",
       "  </tbody>\n",
       "</table>\n",
       "</div>"
      ],
      "text/plain": [
       "     x_reconstructed  y_reconstructed  z_reconstructed\n",
       "min         2.534730        -6.979664              4.8\n",
       "max         8.432556        -4.151366              8.2"
      ]
     },
     "metadata": {},
     "output_type": "display_data"
    }
   ],
   "source": [
    "df[img_coords].agg(['min','max'])"
   ]
  },
  {
   "cell_type": "code",
   "execution_count": 9,
   "id": "74544e00-987d-44e6-aa46-34d91400f64c",
   "metadata": {
    "tags": []
   },
   "outputs": [
    {
     "data": {
      "text/html": [
       "<div>\n",
       "<style scoped>\n",
       "    .dataframe tbody tr th:only-of-type {\n",
       "        vertical-align: middle;\n",
       "    }\n",
       "\n",
       "    .dataframe tbody tr th {\n",
       "        vertical-align: top;\n",
       "    }\n",
       "\n",
       "    .dataframe thead th {\n",
       "        text-align: right;\n",
       "    }\n",
       "</style>\n",
       "<table border=\"1\" class=\"dataframe\">\n",
       "  <thead>\n",
       "    <tr style=\"text-align: right;\">\n",
       "      <th></th>\n",
       "      <th>x_ccf</th>\n",
       "      <th>y_ccf</th>\n",
       "      <th>z_ccf</th>\n",
       "    </tr>\n",
       "  </thead>\n",
       "  <tbody>\n",
       "    <tr>\n",
       "      <th>min</th>\n",
       "      <td>5.569296</td>\n",
       "      <td>1.545035</td>\n",
       "      <td>2.557311</td>\n",
       "    </tr>\n",
       "    <tr>\n",
       "      <th>max</th>\n",
       "      <td>9.236765</td>\n",
       "      <td>6.344886</td>\n",
       "      <td>8.733679</td>\n",
       "    </tr>\n",
       "  </tbody>\n",
       "</table>\n",
       "</div>"
      ],
      "text/plain": [
       "        x_ccf     y_ccf     z_ccf\n",
       "min  5.569296  1.545035  2.557311\n",
       "max  9.236765  6.344886  8.733679"
      ]
     },
     "execution_count": 9,
     "metadata": {},
     "output_type": "execute_result"
    }
   ],
   "source": [
    "df[['x_ccf', 'y_ccf', 'z_ccf']].agg(['min','max'])"
   ]
  },
  {
   "cell_type": "code",
   "execution_count": null,
   "id": "74544e00-987d-44e6-aa46-34d91400f64c",
   "metadata": {
    "tags": []
   },
   "outputs": [
    {
     "data": {
      "text/html": [
       "<div>\n",
       "<style scoped>\n",
       "    .dataframe tbody tr th:only-of-type {\n",
       "        vertical-align: middle;\n",
       "    }\n",
       "\n",
       "    .dataframe tbody tr th {\n",
       "        vertical-align: top;\n",
       "    }\n",
       "\n",
       "    .dataframe thead th {\n",
       "        text-align: right;\n",
       "    }\n",
       "</style>\n",
       "<table border=\"1\" class=\"dataframe\">\n",
       "  <thead>\n",
       "    <tr style=\"text-align: right;\">\n",
       "      <th></th>\n",
       "      <th>x_ccf</th>\n",
       "      <th>y_ccf</th>\n",
       "      <th>z_ccf</th>\n",
       "    </tr>\n",
       "  </thead>\n",
       "  <tbody>\n",
       "    <tr>\n",
       "      <th>min</th>\n",
       "      <td>5.708132</td>\n",
       "      <td>2.564785</td>\n",
       "      <td>2.646385</td>\n",
       "    </tr>\n",
       "    <tr>\n",
       "      <th>max</th>\n",
       "      <td>9.022550</td>\n",
       "      <td>5.734146</td>\n",
       "      <td>8.667240</td>\n",
       "    </tr>\n",
       "  </tbody>\n",
       "</table>\n",
       "</div>"
      ],
      "text/plain": [
       "        x_ccf     y_ccf     z_ccf\n",
       "min  5.708132  2.564785  2.646385\n",
       "max  9.022550  5.734146  8.667240"
      ]
     },
     "metadata": {},
     "output_type": "display_data"
    }
   ],
   "source": [
    "df[['x_ccf', 'y_ccf', 'z_ccf']].agg(['min','max'])"
   ]
  },
  {
   "cell_type": "code",
   "execution_count": 14,
   "id": "8a44b6f7",
   "metadata": {},
   "outputs": [],
   "source": [
    "img_coords = ['x_reconstructed', 'y_reconstructed', 'z_reconstructed']\n",
    "dfslice = df.query(\"brain_section_label=='C57BL6J-638850.43'\").copy()"
   ]
  },
  {
   "cell_type": "code",
   "execution_count": 39,
   "id": "2b92ca31-8034-43f9-b51c-26b5fed8c753",
   "metadata": {
    "tags": []
   },
   "outputs": [],
   "source": [
    "dfimg, coords_scaled, coords_int = ccf.add_rescaled_coords(dfslice, img_coords[:2], xy_res=0.0025,\n",
    "                                                    ref_subset=ref_index.intersection(dfslice.index))\n"
   ]
  },
  {
   "cell_type": "code",
   "execution_count": 37,
   "id": "94f7547b",
   "metadata": {},
   "outputs": [
    {
     "data": {
      "text/plain": [
       "(1700, 946)"
      ]
     },
     "execution_count": 37,
     "metadata": {},
     "output_type": "execute_result"
    }
   ],
   "source": [
    "nx, ny = dfimg[coords_int].max() + 1\n",
    "(nx, ny)"
   ]
  },
  {
   "cell_type": "code",
   "execution_count": 40,
   "id": "d8a8a945-969a-461c-8fb1-8ccabaaa219b",
   "metadata": {
    "tags": []
   },
   "outputs": [
    {
     "data": {
      "image/png": "[encoded data removed]",
      "text/plain": [
       "<Figure size 640x480 with 1 Axes>"
      ]
     },
     "metadata": {},
     "output_type": "display_data"
    }
   ],
   "source": [
    "img = ccf.rasterize_by_dilation(dfimg, coords_int, label=img_label, shape=(ny, nx))\n",
    "\n",
    "plt.imshow(img, cmap=ccf.CMAP, interpolation='nearest')\n",
    "# plt.imsave(\"test.tiff\", img.T, cmap=cmap)\n",
    "plt.show()"
   ]
  },
  {
   "cell_type": "code",
   "execution_count": 21,
   "id": "989cdc8c-a52a-4250-857e-17866faad337",
   "metadata": {
    "tags": []
   },
   "outputs": [],
   "source": [
    "df = adata.obs\n",
    "# add_rescaled_coords(df, xy_res=0.0025)\n",
    "x, y, z = ('x', 'y', 'z_reconstructed')\n",
    "to_ccf = get_ccf_transform(df, (x,y,z))"
   ]
  },
  {
   "cell_type": "code",
   "execution_count": 26,
   "id": "86f0f9a5",
   "metadata": {},
   "outputs": [
    {
     "data": {
      "text/plain": [
       "array([[6.27002936, 2.43664137, 2.68422409, 1.        ]])"
      ]
     },
     "execution_count": 26,
     "metadata": {},
     "output_type": "execute_result"
    }
   ],
   "source": [
    "z = 7.8\n",
    "origin = np.array([[0, 1, z]])\n",
    "origin_ccf = np.matmul(to_hom(origin), to_ccf)\n",
    "origin_ccf"
   ]
  },
  {
   "cell_type": "code",
   "execution_count": 35,
   "id": "1f32e8b3",
   "metadata": {},
   "outputs": [
    {
     "data": {
      "text/plain": [
       "array([[107.36896349, 276.19882574, 221.53434523,   1.        ]])"
      ]
     },
     "execution_count": 35,
     "metadata": {},
     "output_type": "execute_result"
    }
   ],
   "source": [
    "origin_qn = np.matmul(origin_ccf, ccf_to_qn)\n",
    "origin_qn"
   ]
  },
  {
   "cell_type": "code",
   "execution_count": 83,
   "id": "72da5263",
   "metadata": {},
   "outputs": [
    {
     "data": {
      "text/plain": [
       "array([[ 1.,  0., -1.],\n",
       "       [ 0.,  1., -1.],\n",
       "       [ 0.,  0.,  1.]])"
      ]
     },
     "execution_count": 83,
     "metadata": {},
     "output_type": "execute_result"
    }
   ],
   "source": [
    "np.linalg.inv(np.array([[1, 0, 1], [0, 1, 1], [0, 0, 1]]))"
   ]
  }
 ],
 "metadata": {
  "kernelspec": {
   "display_name": "Python 3 (ipykernel)",
   "language": "python",
   "name": "python3"
  },
  "language_info": {
   "codemirror_mode": {
    "name": "ipython",
    "version": 3
   },
   "file_extension": ".py",
   "mimetype": "text/x-python",
   "name": "python",
   "nbconvert_exporter": "python",
   "pygments_lexer": "ipython3",
   "version": "3.9.12"
  },
  "vscode": {
   "interpreter": {
    "hash": "d4d1e4263499bec80672ea0156c357c1ee493ec2b1c70f0acce89fc37c4a6abe"
   }
  }
 },
 "nbformat": 4,
 "nbformat_minor": 5
}
