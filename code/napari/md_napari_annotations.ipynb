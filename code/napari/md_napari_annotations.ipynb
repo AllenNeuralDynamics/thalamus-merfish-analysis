{
 "cells": [
  {
   "cell_type": "code",
   "execution_count": null,
   "id": "bce5ccb7-d029-48fb-997e-275e289f5ae3",
   "metadata": {},
   "outputs": [],
   "source": [
    "import numpy as np\n",
    "import pathlib\n",
    "import anndata as ad\n",
    "import pandas as pd\n",
    "\n",
    "import matplotlib\n",
    "import matplotlib.pyplot as plt\n",
    "\n",
    "import napari\n",
    "\n",
    "from tqdm.notebook import tqdm\n",
    "\n",
    "# from shapely improt Polygon\n",
    "from shapely.geometry import Polygon, MultiLineString, box, Point, MultiPolygon\n",
    "from shapely.ops import unary_union, polygonize\n",
    "import shapely\n",
    "\n",
    "from  geojson.geometry import GeometryCollection\n",
    "import geojson\n",
    "\n",
    "import imageio as iio"
   ]
  },
  {
   "cell_type": "markdown",
   "id": "f323b162-aa02-4e39-b50f-4e7f699b2089",
   "metadata": {},
   "source": [
    "# Load brain1+brain3 anndata"
   ]
  },
  {
   "cell_type": "code",
   "execution_count": null,
   "id": "0eb4c1a8-7ae5-4c9f-a875-c32a0038a893",
   "metadata": {},
   "outputs": [],
   "source": [
    "# Load brain1 + brain3 combined adata\n",
    "adata = ad.read_h5ad('//allen/programs/celltypes/workgroups/rnaseqanalysis/mFISH/brianl/Brain_1_3_TH_ZI.h5ad')"
   ]
  },
  {
   "cell_type": "code",
   "execution_count": null,
   "id": "67e5a526-c26d-4fb5-97c0-b88ccbd1400c",
   "metadata": {},
   "outputs": [],
   "source": [
    "adata"
   ]
  },
  {
   "cell_type": "markdown",
   "id": "bad835d1-eb22-455a-b539-50c0e84aabd6",
   "metadata": {},
   "source": [
    "## Subset by brain, division"
   ]
  },
  {
   "cell_type": "code",
   "execution_count": null,
   "id": "6b9822f6-7267-4f27-9b32-a2e1e5521b33",
   "metadata": {},
   "outputs": [],
   "source": [
    "# use .obs['brain']==1 or ==3 to distinguish between brain1 vs brain3 cells\n",
    "# if .obs['brain'] doesn't exist, you can instead use the codebook names:\n",
    "# codebook_brain1 = 'VZG147'\n",
    "# codebook_brain3 = 'wholebrain031822a'\n",
    "\n",
    "# list of neuronal divisions so we can just focus on neuons\n",
    "divisions_neuronal = [\n",
    "                    '1 Pallium glutamatergic',\n",
    "                    '2 Subpallium GABAergic',\n",
    "                    '3 PAL-sAMY-TH-HY-MB-HB neuronal',\n",
    "                    '4 CBX-MOB-other neuronal'\n",
    "                   ]"
   ]
  },
  {
   "cell_type": "markdown",
   "id": "d319e9e7-eca2-4789-95f3-9f3f5d0fe65d",
   "metadata": {},
   "source": [
    "# napari for manual annotation"
   ]
  },
  {
   "cell_type": "markdown",
   "id": "6fc864a4-0696-4459-a54d-dee0a23ecba9",
   "metadata": {},
   "source": [
    "## Generate z coords for napari"
   ]
  },
  {
   "cell_type": "markdown",
   "id": "2e852631-1827-44a0-bce1-719295e49dee",
   "metadata": {},
   "source": [
    "### Plot paired sections of brain1 & brain3\n",
    "\n",
    "Can we use section ID or target_atlas_plate either as the actual z coords or as a way to generate z coords?"
   ]
  },
  {
   "cell_type": "code",
   "execution_count": null,
   "id": "807c6a0b-08c4-4c3c-b288-6db50bf1f7d0",
   "metadata": {},
   "outputs": [],
   "source": [
    "# Plot the sections by their spatial_cirro coords, label with section #s & target_atlas_plate\n",
    "plt.figure(figsize=(16,9))\n",
    "np.random.seed(42) # so sampling via random.choice is replicable\n",
    "\n",
    "for section, gb in adata.obs.groupby(\"section\"):\n",
    "    # get spatial_cirro coords\n",
    "    curr_section_locs = adata[adata.obs.section==section].obsm[\"spatial_cirro\"]\n",
    "    # sample 10% of cells so this doesn't take forever to plot\n",
    "    sampling_mask = np.random.choice([False, True], len(curr_section_locs), p=[0.90, 0.10])\n",
    "    # get target_atlas_plate\n",
    "    target_atlas_plate = gb.loc[:,[\"target_atlas_plate\"]].values.astype(int)[0][0]\n",
    "    # plot and label\n",
    "    plt.scatter(curr_section_locs[sampling_mask][:,0], curr_section_locs[sampling_mask][:,1])\n",
    "    plt.annotate(section, (np.min(curr_section_locs[sampling_mask][:,0]),np.max(curr_section_locs[sampling_mask][:,1])))\n",
    "    plt.annotate(target_atlas_plate, (np.min(curr_section_locs[sampling_mask][:,0]),np.min(curr_section_locs[sampling_mask][:,1])))"
   ]
  },
  {
   "cell_type": "markdown",
   "id": "1b1e33bd-c891-466d-b10b-b2174de5e9b8",
   "metadata": {},
   "source": [
    "### Convert target_atlas_plate to z coords\n",
    "\n",
    "In the paired section plot above, you can see that:\n",
    "1. the minimum target_atlas_plate value labels the same AP section in both brains\n",
    "2. target_atlas_plate increments on the same interval (every 200um?) even though brain3 was sampled at a lower axial resolution & some sections are missing in both brains\n",
    "3. ( minimum(brain1 target_atlas_plate) - minimum(brain3 target_atlas_plate) ) = 14\n",
    "\n",
    "Thus, we can add a simple offset of +14 to the brain3 target_atlas_plate values to align them to the brain1 values"
   ]
  },
  {
   "cell_type": "code",
   "execution_count": null,
   "id": "fd387f66-65aa-4e5f-9e24-04753674597c",
   "metadata": {},
   "outputs": [],
   "source": [
    "# To make things more readable, let's use .obs['target_atlas_plate'] to set our\n",
    "# z coordinates in napari, BUT these values are offset:\n",
    "# the minimum target_atlas_plate value labels the same AP section in both brains\n",
    "# and both sets of values increment on the same interval (200um?) even though\n",
    "# brain3 was samples less\n",
    "\n",
    "# thus, offset the brain3 target_atlas_plate values by +14 to match brain1 \n",
    "offset_atlas_plate = 14\n",
    "brain3_mask = (adata.obs['brain']==3)\n",
    "\n",
    "# get all the target_atlas_plate values - use copy() so we don't edit adata\n",
    "target_atlas_plate_vals = adata.obs['target_atlas_plate'].values.copy()\n",
    "\n",
    "# only adjust if we haven't already offset brain3\n",
    "if int(np.min(target_atlas_plate_vals))==49:\n",
    "    target_atlas_plate_vals[brain3_mask] = target_atlas_plate_vals[brain3_mask] + offset_atlas_plate\n",
    "\n",
    "# generate range array of all target_atlas_plate values to use as a key\n",
    "unique_plates = np.unique(target_atlas_plate_vals).astype(int)\n",
    "target_atlas_plate_arange = np.arange(np.min(unique_plates), \n",
    "                                     np.max(unique_plates)+1)\n",
    "\n",
    "# convert aligned target_atlas_plate values to z-coords using\n",
    "# target_atlas_plate_arange as the key and it's indices as the new z-coords \n",
    "napari_z_coords = [np.where(target_atlas_plate_arange==val)[0][0] \n",
    "                   for val in target_atlas_plate_vals\n",
    "                  ]\n",
    "\n",
    "# save new z-coords to adata\n",
    "adata.obs['napari_z_brain1and3'] = napari_z_coords"
   ]
  },
  {
   "cell_type": "code",
   "execution_count": null,
   "id": "c292f36d-4be4-4310-815a-fc9ba566fc39",
   "metadata": {},
   "outputs": [],
   "source": [
    "# Show the sections in their spatial_cirro coords, label with section #s\n",
    "# target_atlas_plates should not match, but the new napari_z coords should\n",
    "plt.figure(figsize=(16,9))\n",
    "np.random.seed(42) # so sampling via random.choice is replicable\n",
    "\n",
    "for section, gb in adata.obs.groupby(\"section\"):\n",
    "    # get spatial_cirro coords\n",
    "    curr_section_locs = adata[adata.obs.section==section].obsm[\"spatial_cirro\"]\n",
    "    # sample 10% of cells so this doesn't take forever to plot\n",
    "    sampling_mask = np.random.choice([False, True], len(curr_section_locs), p=[0.90, 0.10])\n",
    "    # get target_atlas_plate\n",
    "    target_atlas_plate = gb.loc[:,[\"target_atlas_plate\"]].values.astype(int)[0][0]\n",
    "    # get new z-coords\n",
    "    z_coord = gb.loc[:,[\"napari_z_brain1and3\"]].values.astype(int)[0][0]\n",
    "    # plot and label\n",
    "    plt.scatter(curr_section_locs[sampling_mask][:,0], curr_section_locs[sampling_mask][:,1])\n",
    "    plt.annotate(section, (np.min(curr_section_locs[sampling_mask][:,0]),np.max(curr_section_locs[sampling_mask][:,1])))\n",
    "    plt.annotate(target_atlas_plate, (np.min(curr_section_locs[sampling_mask][:,0]),np.min(curr_section_locs[sampling_mask][:,1])))\n",
    "    plt.annotate(z_coord, (np.min(curr_section_locs[sampling_mask][:,0]),np.min(curr_section_locs[sampling_mask][:,1])-1000))"
   ]
  },
  {
   "cell_type": "markdown",
   "id": "b8b8126e-18a4-4a7a-95ab-c8d0b2b322b3",
   "metadata": {},
   "source": [
    "## Convert XY coords for napari & add to adata.obs"
   ]
  },
  {
   "cell_type": "code",
   "execution_count": null,
   "id": "b7d66f94-092c-4a07-834d-2fe357c0c20b",
   "metadata": {},
   "outputs": [],
   "source": [
    "# weird things will happen if this has already been run in this notebook, so\n",
    "# only generate yx coords if they're not there\n",
    "if 'napari_y_brain1and3' not in adata.obs.columns:\n",
    "    # Get cell ZYX coords from 'spatial_rotated'\n",
    "    xy_locs = adata.obsm[\"spatial_rotated\"]\n",
    "    \n",
    "    # reverse x and y to match napari expected YX order\n",
    "    yx_locs = xy_locs[:,::-1]\n",
    "    # flip sign so brains display right-side-up\n",
    "    yx_locs[:,0] = -yx_locs[:,0]\n",
    "    \n",
    "    # offset brain1 y-coords (with negative #) so it's on top in napari viewer \n",
    "    # (positive number will put it on bottom instead)\n",
    "    napari_brain1_y_offset = -4000\n",
    "    yx_locs[adata.obs.brain==1, 0] = yx_locs[adata.obs.brain==1, 0] + napari_brain1_y_offset\n",
    "    \n",
    "    # Store adjusted napari zyx coordinates in the anndata object\n",
    "    adata.obs['napari_y_brain1and3'] = yx_locs[:,0]\n",
    "    adata.obs['napari_x_brain1and3'] = yx_locs[:,1]"
   ]
  },
  {
   "cell_type": "markdown",
   "id": "da278c2d-fd69-4b62-8bb5-678e875002b2",
   "metadata": {},
   "source": [
    "## Annotate MD in a napari viewer\n",
    "\n",
    "Starting copy-paste from Brian's notebook: [TH_atlas_data_annotation.ipynb](https://github.com/AllenInstitute/merscope_notebooks/blob/thalamus/project_specific/TH/TH_atlas_data_annotation.ipynb)"
   ]
  },
  {
   "cell_type": "code",
   "execution_count": null,
   "id": "401fa0a0-3394-4430-91c4-f18ba2c53b23",
   "metadata": {},
   "outputs": [],
   "source": [
    "# Generate a set of random colors, one for each of the subclasses \n",
    "# & clusters we're going to plot\n",
    "random_colors = np.clip(np.random.rand(1000,4)-0.2, a_max=1.0, a_min=0)\n",
    "random_colors[:,3]=1.0\n",
    "\n",
    "color_iter = 0  # counter so we can "
   ]
  },
  {
   "cell_type": "code",
   "execution_count": null,
   "id": "b063707f-bd26-45a9-af5d-0e8ff91a54cf",
   "metadata": {},
   "outputs": [],
   "source": [
    "v = napari.Viewer()\n",
    "v.theme = 'light' # so we can use these on a white slides"
   ]
  },
  {
   "cell_type": "code",
   "execution_count": null,
   "id": "18d48e2c-405c-4ad9-af38-2f9168823383",
   "metadata": {},
   "outputs": [],
   "source": [
    "# Display all neuronal subclasses\n",
    "for subclass, gb in adata.obs.groupby(\"subclass_id_label\"):\n",
    "    # Only display neuronal cells\n",
    "    if gb.division_id_label[0] not in divisions_neuronal:\n",
    "        continue\n",
    "    # Only display subclasses with at least 50 cells (I think that's what this is??)\n",
    "    if gb.shape[0]<50:\n",
    "        continue\n",
    "\n",
    "    # Get napari ZYX coords for displaying brain1 & brain3 together\n",
    "    all_locs = np.concatenate([gb.loc[:,['napari_z_brain1and3']].values,\n",
    "                               gb.loc[:,['napari_y_brain1and3']].values, \n",
    "                               gb.loc[:,['napari_x_brain1and3']].values], \n",
    "                              axis=1) \n",
    "\n",
    "    # Show points in napari Viewer window\n",
    "    v.add_points(all_locs, name=subclass, edge_width=0, size=10,\n",
    "                 face_color=random_colors[color_iter,:])\n",
    "    color_iter +=1"
   ]
  },
  {
   "cell_type": "code",
   "execution_count": null,
   "id": "675f05db-184a-44ae-8208-35b50956d5da",
   "metadata": {},
   "outputs": [],
   "source": [
    "# Display clusters from \"Prong 1 Vitessce links by nucleus\" spreadsheet\n",
    "md_clusters = [cluster for cluster in adata.obs['cluster_label'].unique() if (('1132' in cluster) | ('1133' in cluster))]\n",
    "\n",
    "for cluster, gb in adata.obs.groupby('cluster_label'):\n",
    "    # only display the MD clusters\n",
    "    if (not ('1132' in cluster)) and (not ('1133' in cluster)):\n",
    "        continue\n",
    "    \n",
    "    # Get napari ZYX coords for displaying brain1 & brain3 together\n",
    "    all_locs = np.concatenate([gb.loc[:,['napari_z_brain1and3']].values,\n",
    "                               gb.loc[:,['napari_y_brain1and3']].values, \n",
    "                               gb.loc[:,['napari_x_brain1and3']].values], \n",
    "                              axis=1)  \n",
    "\n",
    "    # Show points in napari Viewer window\n",
    "    v.add_points(all_locs, name=cluster, edge_width=0, size=10,\n",
    "                 face_color=random_colors[color_iter,:])\n",
    "    color_iter +=1"
   ]
  },
  {
   "cell_type": "code",
   "execution_count": null,
   "id": "56330767-02a8-4333-98d1-f276b55583d5",
   "metadata": {},
   "outputs": [],
   "source": [
    "# Manually add new shapes layer using the Napari GUI interface\n",
    "# Draw manual annotations using the polygon tool\n",
    "\n",
    "# # If you want to change the display properties of the polygon, use these features\n",
    "# shapes_layer_to_edit = v.layers[-1]\n",
    "# shapes_layer_to_edit.edge_width = 10\n",
    "# shapes_layer_to_edit.edge_color = 'black'\n",
    "# shapes_layer_to_edit.face_color = '#ffffff00'\n",
    "# shapes_layer_to_edit.refresh()"
   ]
  },
  {
   "cell_type": "markdown",
   "id": "a61b78f0-574e-4bfe-ae17-1c2ba55e9630",
   "metadata": {},
   "source": [
    "### Take screenshots of annotations"
   ]
  },
  {
   "cell_type": "code",
   "execution_count": null,
   "id": "07c846a0-5fee-4437-8104-4191a8f80367",
   "metadata": {},
   "outputs": [],
   "source": [
    "# # Save screenshots\n",
    "# write_path = '//allen/programs/celltypes/workgroups/rnaseqanalysis/mFISH/meghanturner/thalamus_data/MD_annotations'\n",
    "# sub_dir = ''\n",
    "# filename_base = '/MD_annotations_brain_1_3'\n",
    "\n",
    "# all_z_pos_array = np.unique(adata.obs['napari_z_brain1and3']).astype(int)\n",
    "\n",
    "# for z in all_z_pos_array:\n",
    "#     v.dims.set_point(0,z)\n",
    "#     curr_screenshot = v.screenshot()\n",
    "#     filepath = write_path+filename_base+'_z'+str(z)+'.png'\n",
    "#     print(filepath)\n",
    "#     iio.imwrite(filepath, curr_screenshot, format='png')"
   ]
  },
  {
   "cell_type": "markdown",
   "id": "7a3f9c68-734d-4144-9c21-34e49e29b396",
   "metadata": {},
   "source": [
    "### Extract shapes & explore"
   ]
  },
  {
   "cell_type": "code",
   "execution_count": null,
   "id": "5ed550e5-48d7-4d87-9ddd-0696e5ef6a9d",
   "metadata": {},
   "outputs": [],
   "source": [
    "# shape_layer = v.layers[-1]\n",
    "\n",
    "# MD_brain1_left = shape_layer.data[0][:,1:]\n",
    "# MD_brain1_right = shape_layer.data[1][:,1:]\n",
    "# MD_latest= shape_layer.data[-1][:,1:]"
   ]
  },
  {
   "cell_type": "code",
   "execution_count": null,
   "id": "3ad48116-807d-44c9-b6d9-3b7e5373d290",
   "metadata": {},
   "outputs": [],
   "source": [
    "# Polygon(MD_latest)"
   ]
  },
  {
   "cell_type": "code",
   "execution_count": null,
   "id": "06b96f2a-c1d2-43d5-bc93-2915b4dfadc3",
   "metadata": {},
   "outputs": [],
   "source": [
    "# shape_layer.data"
   ]
  },
  {
   "cell_type": "markdown",
   "id": "c7d0c5ed-104e-431f-b216-bd514071aa43",
   "metadata": {},
   "source": [
    "### Save MD annotation shapes as GeoJSON files"
   ]
  },
  {
   "cell_type": "code",
   "execution_count": null,
   "id": "6f1531a2-4d1a-4e7e-b856-2c8f74136aa9",
   "metadata": {},
   "outputs": [],
   "source": [
    "# MD_shapes = v_reload.layers[-1].data\n",
    "\n",
    "# # MD_shapes\n",
    "# MD_shapes[0]"
   ]
  },
  {
   "cell_type": "code",
   "execution_count": null,
   "id": "cc001937-d8b1-47d8-b1e0-f27d71b922a1",
   "metadata": {},
   "outputs": [],
   "source": [
    "# napari_z_coords = np.zeros(len(MD_shapes))\n",
    "# MD_shapes_2D = np.empty(len(MD_shapes), dtype=object)\n",
    "\n",
    "# for i, shape in enumerate(MD_shapes):\n",
    "#     napari_z_coords[i] = shape[0,0]\n",
    "#     MD_shapes_2D[i] = shape[:,1:]"
   ]
  },
  {
   "cell_type": "code",
   "execution_count": null,
   "id": "00c057c9-0f5a-4bbb-831a-4522d47a7c3b",
   "metadata": {},
   "outputs": [],
   "source": [
    "# # Write MD annotation shapes to a GeoJSON file\n",
    "# write_path = '//allen/programs/celltypes/workgroups/rnaseqanalysis/mFISH/meghanturner/thalamus_data/MD_annotations'\n",
    "# filename = '/your_polygons.geojson'\n",
    "\n",
    "# MD_polys = [Polygon(shape[:,:]) for shape in MD_shapes]\n",
    "# gc = geojson.GeometryCollection()\n",
    "# # Storing YX in \"coordinates\" and Z in \"napari_z_coords\"\n",
    "# gc.geometries.extend([geojson.Polygon(coordinates = [ [shape[ii,1], shape[ii,2]] \n",
    "#                                                      for ii in range(shape.shape[0])],\n",
    "#                                       napari_z_coords = shape[0,0]\n",
    "#                                      ) for shape in MD_shapes])\n",
    "\n",
    "# with open(write_path+filename,'w') as w:\n",
    "#     geojson.dump(gc,w)"
   ]
  },
  {
   "cell_type": "code",
   "execution_count": null,
   "id": "52c7dbc5-5ba2-48fd-8f24-a0cda6ef40a1",
   "metadata": {},
   "outputs": [],
   "source": [
    "# # Testing that we've stored the z_coords in a way that works for extraction\n",
    "# with open(write_path+filename,'r') as r:\n",
    "#     gc = geojson.load(r)\n",
    "\n",
    "# # Extract the MD shapes from geojson file\n",
    "# MD_shapes_loaded = [ np.asarray(poly[\"coordinates\"]) for poly in gc[\"geometries\"] ] # idk if they have to be arrays ..\n",
    "# MD_shapes_loaded\n",
    "# z_loaded = [ poly[\"napari_z_coords\"] for poly in gc[\"geometries\"] ] # idk if they have to be arrays ..\n",
    "# z_loaded"
   ]
  },
  {
   "cell_type": "markdown",
   "id": "a191ada6-e1fc-488e-9fde-8013e0c80d88",
   "metadata": {
    "jp-MarkdownHeadingCollapsed": true,
    "tags": []
   },
   "source": [
    "# Load existing annotations for napari MD figures"
   ]
  },
  {
   "cell_type": "code",
   "execution_count": null,
   "id": "b678a66d-6727-4c91-a833-550572796336",
   "metadata": {},
   "outputs": [],
   "source": [
    "# Picked colormaps with large perceptual differences between adjacent colors\n",
    "# to highlight the handful of subclasses & clusters plotting\n",
    "cmap_0 = plt.get_cmap('Dark2')\n",
    "cmap_1 = plt.get_cmap('tab10')\n",
    "rgb_cm = np.concatenate((np.asarray(cmap_0.colors), np.asarray(cmap_1.colors)))\n",
    "display_colors = np.zeros((rgb_cm.shape[0],4))\n",
    "display_colors[:,:3] = rgb_cm\n",
    "display_colors[:,3] = 1\n",
    "# display_colors"
   ]
  },
  {
   "cell_type": "markdown",
   "id": "0d7a0837-26f6-4760-9801-cfd50b932ee6",
   "metadata": {},
   "source": [
    "## Plot only relevant subclasses/supertypes/clusters"
   ]
  },
  {
   "cell_type": "code",
   "execution_count": null,
   "id": "3a30422a-6047-428e-be1f-30f026e9258d",
   "metadata": {},
   "outputs": [],
   "source": [
    "v_reload = napari.Viewer()\n",
    "# napari defaults to a dark theme, which is not ideal for making \n",
    "# figures that will go in slides, etc\n",
    "v_reload.theme = 'light'"
   ]
  },
  {
   "cell_type": "code",
   "execution_count": null,
   "id": "9dab4f3b-0c7c-4a20-a2f4-8b73100a9d55",
   "metadata": {},
   "outputs": [],
   "source": [
    "color_iter = 0\n",
    "\n",
    "# Plot neuronal divisions in grey to show shape of thalamus\n",
    "divisions_to_plot = ['1 Pallium glutamatergic',\n",
    "                    '2 Subpallium GABAergic',\n",
    "                    '3 PAL-sAMY-TH-HY-MB-HB neuronal',\n",
    "                    '4 CBX-MOB-other neuronal']\n",
    "groupby_col_name = 'division_id_label'\n",
    "for division, gb in adata.obs.groupby(groupby_col_name):\n",
    "    # Only display neuronal cells\n",
    "    if division not in divisions_to_plot:\n",
    "        continue\n",
    "\n",
    "    # Get napari ZYX coords for displaying brain1 & brain3 together\n",
    "    all_locs = np.concatenate([gb.loc[:,['napari_z_brain1and3']].values,\n",
    "                               gb.loc[:,['napari_y_brain1and3']].values, \n",
    "                               gb.loc[:,['napari_x_brain1and3']].values], \n",
    "                              axis=1) \n",
    "\n",
    "    # Show points in napari Viewer window\n",
    "    v_reload.add_points(all_locs, name=division, edge_width=0, size=10,\n",
    "                        face_color=[128/255,128/255,128/255,0.2]) # grey\n",
    "\n",
    "\n",
    "    \n",
    "# Which subclasses are helpful in distinguishing MD boundaries?\n",
    "subclasses_to_plot = ['067 PVT-PT Ntrk1 Glut', # PVT (above MD)\n",
    "                      '068 CM-IAD-CL-PCN Glut'  # below MD\n",
    "                     ]\n",
    "# Plot subclasses\n",
    "groupby_col_name = 'subclass_id_label'\n",
    "for subclass, gb in adata.obs.groupby(groupby_col_name):\n",
    "    # Only display neuronal cells\n",
    "    if gb.division_id_label[0] not in divisions_neuronal:\n",
    "        continue\n",
    "    # Only display subclasses with at least 50 cells (I think that's what this is??)\n",
    "    if gb.shape[0]<50:\n",
    "        continue\n",
    "\n",
    "    # Get napari ZYX coords for displaying brain1 & brain3 together\n",
    "    all_locs = np.concatenate([gb.loc[:,['napari_z_brain1and3']].values,\n",
    "                               gb.loc[:,['napari_y_brain1and3']].values, \n",
    "                               gb.loc[:,['napari_x_brain1and3']].values], \n",
    "                              axis=1) \n",
    "\n",
    "    # Show points in napari Viewer window\n",
    "    # color the subclasses I used to make the MD annotations\n",
    "    if subclass in subclasses_to_plot:\n",
    "        v_reload.add_points(all_locs, name=subclass, edge_width=0, size=14,\n",
    "                            face_color=display_colors[color_iter,:])\n",
    "        color_iter +=1\n",
    "\n",
    "\n",
    "        \n",
    "# Which supertypes are helpful?\n",
    "supertypes_to_plot = ['0290 PF Fzd5 Glut_1', '0291 PF Fzd5 Glut_2', #PF (posterior end of MD)\n",
    "                      '0273 TH Prkcd Grin2c Glut_12',  # midline\n",
    "                      '0274 TH Prkcd Grin2c Glut_13',  # lateral/sides of MD\n",
    "                      '0279 TH Prkcd Grin2c Glut_5',  # lateral/sides of MD\n",
    "                      '0271 TH Prkcd Grin2c Glut_10',  # inside MD\n",
    "                      ]\n",
    "# Plot supertypes\n",
    "groupby_col_name = 'supertype_id_label'\n",
    "for supertype, gb in adata.obs.groupby(groupby_col_name):\n",
    "    # only display the relevant supertypes\n",
    "    if supertype not in supertypes_to_plot:\n",
    "        continue\n",
    "\n",
    "    # Get napari ZYX coords for displaying brain1 & brain3 together\n",
    "    all_locs = np.concatenate([gb.loc[:,['napari_z_brain1and3']].values,\n",
    "                               gb.loc[:,['napari_y_brain1and3']].values, \n",
    "                               gb.loc[:,['napari_x_brain1and3']].values], \n",
    "                              axis=1) \n",
    "\n",
    "    # plot points\n",
    "    v_reload.add_points(all_locs, name=supertype, edge_width=0, size=14,\n",
    "                        face_color=display_colors[color_iter,:])\n",
    "    color_iter +=1\n",
    "\n",
    "\n",
    "    \n",
    "# Which clusters are helpful?\n",
    "clusters_to_plot = ['1130 TH Prkcd Grin2c Glut_1'  # inside MD and also far away\n",
    "                   ]\n",
    "# these clusters belong to supertype '0271 TH Prkcd Grin2c Glut_10', which is\n",
    "# already plotted above:\n",
    "# '1132 TH Prkcd Grin2c Glut_10',\n",
    "# '1133 TH Prkcd Grin2c Glut_10'\n",
    "\n",
    "# Plot clusters\n",
    "groupby_col_name = 'cluster_label'\n",
    "for cluster, gb in adata.obs.groupby(groupby_col_name):\n",
    "    # only display the MD clusters\n",
    "    if cluster not in clusters_to_plot:\n",
    "        continue\n",
    "    \n",
    "    # Get napari ZYX coords for displaying brain1 & brain3 together\n",
    "    all_locs = np.concatenate([gb.loc[:,['napari_z_brain1and3']].values,\n",
    "                               gb.loc[:,['napari_y_brain1and3']].values, \n",
    "                               gb.loc[:,['napari_x_brain1and3']].values], \n",
    "                              axis=1) \n",
    "\n",
    "    # Show points in napari Viewer window\n",
    "    v_reload.add_points(all_locs, name=cluster, edge_width=0, size=14,\n",
    "                 face_color=display_colors[color_iter,:])\n",
    "    color_iter +=1"
   ]
  },
  {
   "cell_type": "code",
   "execution_count": null,
   "id": "9e424465-81ae-4a6f-bab6-c633e75da86b",
   "metadata": {},
   "outputs": [],
   "source": [
    "# Load in the MD annotation polygons from the geojson file\n",
    "# NB: coordinates stored as [z,y,x] to match napari's expected ordering\n",
    "write_path = '//allen/programs/celltypes/workgroups/rnaseqanalysis/mFISH/meghanturner/thalamus_data/MD_annotations'\n",
    "filename = '/MD_polygons_withZcoords_v230612.geojson'\n",
    "with open(write_path+filename,'r') as r:\n",
    "    gc = geojson.load(r)\n",
    "\n",
    "# merge the YX and Z coordinates into ZYX vertice arrays that napari recognizes\n",
    "MD_shapes_reload = [ np.concatenate((np.full((len(poly[\"coordinates\"]),1), poly[\"napari_z_coords\"]), \n",
    "                                     np.asarray(poly[\"coordinates\"])), \n",
    "                                    axis=1)\n",
    "             for poly in gc[\"geometries\"] ]"
   ]
  },
  {
   "cell_type": "code",
   "execution_count": null,
   "id": "b9107044-ea95-40eb-bd91-40df8280b180",
   "metadata": {},
   "outputs": [],
   "source": [
    "# Add MD annotations to a new Shapes layer in napari\n",
    "shapes_layer = v_reload.add_shapes()\n",
    "shapes_layer.add_polygons(\n",
    "  MD_shapes_reload,\n",
    "  edge_width=20,\n",
    "  edge_color=[0,0,0,1],\n",
    "  face_color=[1,1,1,0]\n",
    ")"
   ]
  },
  {
   "cell_type": "markdown",
   "id": "362f8322-ada6-405b-afaa-37e3ac5847ce",
   "metadata": {},
   "source": [
    "## Save new geojson, screenshots IFF manually updated annotations"
   ]
  },
  {
   "cell_type": "code",
   "execution_count": null,
   "id": "37c25e66-c4ea-4d69-a066-2f380ecd8fdd",
   "metadata": {},
   "outputs": [],
   "source": [
    "# # If you manually adjusted the annotations in napari, save to new geojson file\n",
    "\n",
    "# # Get 3D polygons from napari Shapes layer\n",
    "# MD_shapes_3D_adjusted = v_reload.layers[-1].data  # ZYX order\n",
    "\n",
    "# # # if you need to translate the polygons in Y, use this code chunk:\n",
    "# # MD_shapes_to_update = MD_shapes_3D_adjusted.copy()\n",
    "# # for i, shape in enumerate(MD_shapes_to_update):\n",
    "# #     if MD_shapes_to_update[i][0,1] > 3000:\n",
    "# #         MD_shapes_to_update[i][:,1] = MD_shapes_to_update[i][:,1]-8000\n",
    "\n",
    "# # Write MD annotation shapes to a GeoJSON file\n",
    "# write_path = '//allen/programs/celltypes/workgroups/rnaseqanalysis/mFISH/meghanturner/thalamus_data/MD_annotations'\n",
    "# filename = '/MD_polygons_withZcoords_v230613.geojson'\n",
    "\n",
    "# # Storing YX in \"coordinates\" and Z in \"napari_z_coords\"\n",
    "# gc = geojson.GeometryCollection()\n",
    "# gc.geometries.extend([geojson.Polygon(coordinates = [ [shape[ii,1], shape[ii,2]] \n",
    "#                                                      for ii in range(shape.shape[0])],\n",
    "#                                       napari_z_coords = shape[0,0]\n",
    "#                                      ) for shape in MD_shapes_3D_adjusted])\n",
    "\n",
    "# with open(write_path+filename,'w') as w:\n",
    "#     geojson.dump(gc,w)"
   ]
  },
  {
   "cell_type": "code",
   "execution_count": null,
   "id": "39f7d7d2-5c54-414d-945f-0bb7a678a458",
   "metadata": {},
   "outputs": [],
   "source": [
    "# # Save screenshots of the updated annotations\n",
    "# write_path = '//allen/programs/celltypes/workgroups/rnaseqanalysis/mFISH/meghanturner/thalamus_data/MD_annotations'\n",
    "# sub_dir = '/light_theme_latest'\n",
    "# filename_base = '/MD_annotations_brain_1_3'\n",
    "\n",
    "# all_z_pos_array = np.unique(adata.obs['napari_z_brain1and3']).astype(int)\n",
    "\n",
    "# for z in all_z_pos_array:\n",
    "#     v_reload.dims.set_point(0,z)\n",
    "#     curr_screenshot = v_reload.screenshot()\n",
    "#     filepath = write_path+sub_dir+filename_base+'_z'+str(z)+'.png'\n",
    "#     # print(filepath)\n",
    "#     iio.imwrite(filepath, curr_screenshot, format='png')"
   ]
  },
  {
   "cell_type": "markdown",
   "id": "903f98f7-0206-4b08-ba21-40850bb9bc70",
   "metadata": {},
   "source": [
    "# Add manual annotation polygons to anndata.uns"
   ]
  },
  {
   "cell_type": "code",
   "execution_count": null,
   "id": "56cc89c2-0f9a-42a3-9e89-0178e939d691",
   "metadata": {},
   "outputs": [],
   "source": [
    "# Add MD annotations to anndata\n",
    "# Load in the MD annotation polygons from the geojson file\n",
    "write_path = '//allen/programs/celltypes/workgroups/rnaseqanalysis/mFISH/meghanturner/thalamus_data/MD_annotations'\n",
    "filename = '/MD_polygons_withZcoords_v230612.geojson'\n",
    "with open(write_path+filename,'r') as r:\n",
    "    gc = geojson.load(r)\n",
    "\n",
    "# convert to a string\n",
    "MD_shapes_str = geojson.dumps(gc)\n",
    "\n",
    "# add that string to the unstructured portion of the anndata\n",
    "adata.uns['MD_polygons'] = MD_shapes_str\n",
    "\n",
    "# # to reload the string, use:\n",
    "# gc_reloaded = geojson.loads(adata.uns['MD_annotation'])"
   ]
  },
  {
   "cell_type": "markdown",
   "id": "8ad205ff-671c-41b8-b558-a7b6dedaee15",
   "metadata": {},
   "source": [
    "# Load MD annotations from geojson file"
   ]
  },
  {
   "cell_type": "code",
   "execution_count": null,
   "id": "475e2731-8630-4318-8d20-c4ef2478935f",
   "metadata": {},
   "outputs": [],
   "source": [
    "# Load geojson file\n",
    "write_path = '//allen/programs/celltypes/workgroups/rnaseqanalysis/mFISH/meghanturner/thalamus_data/MD_annotations'\n",
    "filename = '/MD_polygons_withZcoords_v230612.geojson'\n",
    "with open(write_path+filename,'r') as r:\n",
    "    gc = geojson.load(r)"
   ]
  },
  {
   "cell_type": "code",
   "execution_count": null,
   "id": "24a021bd-854f-403f-9442-b502d1f248dc",
   "metadata": {},
   "outputs": [],
   "source": [
    "# Get the MD annotation info we need from the geojson file\n",
    "MD_polys = [shapely.geometry.Polygon(poly[\"coordinates\"]) for poly in gc[\"geometries\"]]  #YZ coords stored as shapely polygons (expected by cells_in_polygon())\n",
    "MD_shapes_z = [ poly[\"napari_z_coords\"] for poly in gc[\"geometries\"] ]  # Z coords"
   ]
  },
  {
   "cell_type": "markdown",
   "id": "e60a9840-41c8-4c2c-8a95-ff573e2c8d07",
   "metadata": {},
   "source": [
    "# Determine which cells are in MD polygons"
   ]
  },
  {
   "cell_type": "markdown",
   "id": "2da86a41-cc4c-4e69-bb6d-9bf4b990305d",
   "metadata": {
    "jp-MarkdownHeadingCollapsed": true,
    "tags": []
   },
   "source": [
    "## cells_in_polygon()"
   ]
  },
  {
   "cell_type": "code",
   "execution_count": null,
   "id": "f27803c1-ff75-403c-abaa-44f7d80c34e9",
   "metadata": {},
   "outputs": [],
   "source": [
    "# method to find cells that are within the bounds of a polygon\n",
    "# (borrowed from Brian)\n",
    "def cells_in_polygon(cell_locations, polygon,\n",
    "                     checkBoundingBox = False):\n",
    "    \"\"\"\n",
    "    checks numpy array of point locations and determines if they're inside the  \n",
    "    polygon\n",
    "    - currently only checks in 2D\n",
    "    - uses shapely's contains() method\n",
    "\n",
    "    Args:\n",
    "        cell_locations is a numpy array size n_cells X 2  \n",
    "        polygon is a shapely.geometry.Polygon, with YX coordinates\n",
    "        checkBoundingBox if True, use bounding box coordinates to avoid making \n",
    "                         a containsPoint call.\n",
    "\n",
    "    Returns:\n",
    "        1D numpy array of Booleans indicating if the cells are in the polygon\n",
    "    \"\"\"\n",
    "    \n",
    "    # constrain the search area to just the polygon's bounding box so it can\n",
    "    # search for fewer cells and thus save time\n",
    "    if checkBoundingBox:\n",
    "\n",
    "        polySpots =[]\n",
    "        bb_bounds = polygon.bounds\n",
    "        conditionA = np.logical_or(cell_locations[:,0]< bb_bounds[0] ,\n",
    "                         cell_locations[:,0]> bb_bounds[2])\n",
    "        conditionB = np.logical_or(cell_locations[:,1]< bb_bounds[1] ,\n",
    "                         cell_locations[:,1]> bb_bounds[3]) \n",
    "\n",
    "        conditions = np.logical_not( np.logical_or(conditionA, conditionB))\n",
    "        # this is the subset of spots within the xy bounding box of the polygon:\n",
    "\n",
    "        okSpots = np.where(conditions)[0]\n",
    "    else:\n",
    "        \n",
    "        okSpots = range(cell_locations.shape[0])\n",
    "\n",
    "                         \n",
    "    spotList = []\n",
    "\n",
    "    for spot_row in okSpots:\n",
    "        spotList.append( Point(cell_locations[spot_row,0:2]))\n",
    "            \n",
    "    is_in_roi = [polygon.contains(spot) for spot in spotList]\n",
    "                                \n",
    "    output = np.zeros(cell_locations.shape[0],dtype=bool)\n",
    "    output[okSpots] = is_in_roi\n",
    "                            \n",
    "                                        \n",
    "    return output"
   ]
  },
  {
   "cell_type": "markdown",
   "id": "7a0bd568-64cc-409a-851e-1ba26203f82f",
   "metadata": {},
   "source": [
    "## Assign L vs R to each MD polygon"
   ]
  },
  {
   "cell_type": "code",
   "execution_count": null,
   "id": "4fc51226-fb3e-42e0-b9da-b01ef2f033fd",
   "metadata": {},
   "outputs": [],
   "source": [
    "# Set up useful array for iterations\n",
    "ap_locs = sorted(list(adata.obs['napari_z_brain1and3'].unique()))"
   ]
  },
  {
   "cell_type": "code",
   "execution_count": null,
   "id": "f3a4e181-6d48-4a62-b9bb-02e02b1f344b",
   "metadata": {},
   "outputs": [],
   "source": [
    "# Determine left vs right MD polygons in each section\n",
    "\n",
    "# get the centroids of each polygon\n",
    "MD_centers = np.array([p.centroid.coords[0] for p in MD_polys])\n",
    "\n",
    "# initialize arrays\n",
    "MD_polys_L_R = np.asarray([None for p in range(len(MD_polys))])\n",
    "MD_polys_brain_id = np.asarray([None for p in range(len(MD_polys))])\n",
    "\n",
    "for i, ap_loc in enumerate(ap_locs):\n",
    "    # keep track of which polygons we're dealing with in this section\n",
    "    curr_polys_ind = np.where(MD_shapes_z==ap_loc)[0]\n",
    "\n",
    "    # skip if we have no annotations in this section\n",
    "    if len(curr_polys_ind)==0:\n",
    "        continue\n",
    "\n",
    "    centroids_x = np.asarray([MD_centers[p][1] for p in curr_polys_ind])  # the 1th coord is left-right (X) in napari coords\n",
    "    centroids_y = np.asarray([MD_centers[p][0] for p in curr_polys_ind])  # the 0th coord is up-down (Y) in napari coords\n",
    "    \n",
    "    # Handle the potential presence of both brain1 & brain3 MD annotations\n",
    "    # if we just have one brain's MD annotated\n",
    "    if len(curr_polys_ind)==2:\n",
    "        # set the brain ID\n",
    "        # use the brain1 offset to determine which polygons belong to which brain\n",
    "        # 2023-06-01 MT: brain1 offset = -4000; brain1 polygon centroid Y-coords \n",
    "        #   are all in the [-3200,-3900] range; brain3 are in [-320, 301]\n",
    "        #   So, adding 1000 to the offset to catch all the brain1 polygons\n",
    "        if centroids_y[0] < (napari_brain1_y_offset+1000):\n",
    "            MD_polys_brain_id = np.asarray([1 if i in curr_polys_ind \n",
    "                                                     else val \n",
    "                                            for i, val in enumerate(MD_polys_brain_id)])\n",
    "        else:\n",
    "            MD_polys_brain_id = np.asarray([3 if i in curr_polys_ind \n",
    "                                                     else val \n",
    "                                            for i, val in enumerate(MD_polys_brain_id)])\n",
    "        \n",
    "        # set the left-right identity\n",
    "        right_poly_index = curr_polys_ind[np.argmax(centroids_x)] # larger X is right polygon\n",
    "        left_poly_index = curr_polys_ind[np.argmin(centroids_x)]  # smaller X is left polygon\n",
    "        MD_polys_L_R[right_poly_index] = 'right'\n",
    "        MD_polys_L_R[left_poly_index] = 'left' \n",
    "    \n",
    "    # if we have both brains' MDs annotated\n",
    "    elif len(curr_polys_ind)==4:\n",
    "        right_poly_ind = [np.nan, np.nan]\n",
    "        left_poly_ind = [np.nan, np.nan]\n",
    "        \n",
    "        # use the brain1 offset to determine which polygons belong to which brain\n",
    "        # (see if statement above for detailed explanation)\n",
    "        brain1_poly_filt = centroids_y < napari_brain1_y_offset+1000 # the 0th coord is up-down in napari coords\n",
    "        brain1_polys_ind = curr_polys_ind[brain1_poly_filt]\n",
    "        brain3_polys_ind = curr_polys_ind[~brain1_poly_filt]\n",
    "\n",
    "        # set brain IDs\n",
    "        MD_polys_brain_id = np.asarray([1 if i in brain1_polys_ind else val for i, val in enumerate(MD_polys_brain_id)])\n",
    "        MD_polys_brain_id = np.asarray([3 if i in brain3_polys_ind else val for i, val in enumerate(MD_polys_brain_id)])\n",
    "        \n",
    "        # determine left-right for ...\n",
    "        # brain1\n",
    "        brain1_centroids_x = centroids_x[brain1_poly_filt]\n",
    "        right_poly_ind[0] = brain1_polys_ind[np.argmax(brain1_centroids_x)] # larger X is right polygon\n",
    "        left_poly_ind[0] = brain1_polys_ind[np.argmin(brain1_centroids_x)]  # smaller X is left polygon\n",
    "        # brain3\n",
    "        brain3_centroids_x = centroids_x[~brain1_poly_filt]\n",
    "        right_poly_ind[1] = brain3_polys_ind[np.argmax(brain3_centroids_x)] # larger X is right polygon\n",
    "        left_poly_ind[1] = brain3_polys_ind[np.argmin(brain3_centroids_x)]  # smaller X is left polygon\n",
    "\n",
    "        # set left-right identity\n",
    "        MD_polys_L_R = np.asarray(['right' if i in right_poly_ind else val for i, val in enumerate(MD_polys_L_R)])\n",
    "        MD_polys_L_R = np.asarray(['left' if i in left_poly_ind else val for i, val in enumerate(MD_polys_L_R)])\n",
    "        \n",
    "    else:\n",
    "        print('Warning: Too many or too few MD annotations')  \n",
    "\n",
    "# print('MD_polys_brain_id:', MD_polys_brain_id)\n",
    "# print('MD_polys_L_R:', MD_polys_L_R)"
   ]
  },
  {
   "cell_type": "code",
   "execution_count": null,
   "id": "dfcc8a48-c98f-41a5-be6a-3631cb2335c2",
   "metadata": {},
   "outputs": [],
   "source": [
    "# Sanity checking that we have:\n",
    "# (a) right number of polys from each brain (brain1=9, brain3=4)\n",
    "# (b) same number of left and right polys per brain\n",
    "brain1_polys_LR = MD_polys_L_R[MD_polys_brain_id==1]\n",
    "brain3_polys_LR = MD_polys_L_R[MD_polys_brain_id==3]\n",
    "\n",
    "print('brain1 MD right polys:', list(brain1_polys_LR).count('right'))\n",
    "print('brain1 MD left polys:', list(brain1_polys_LR).count('left'))\n",
    "print('brain3 MD right polys:', list(brain3_polys_LR).count('right'))\n",
    "print('brain3 MD left polys:', list(brain3_polys_LR).count('left'))"
   ]
  },
  {
   "cell_type": "markdown",
   "id": "ff64ce06-bdc1-459e-b0b5-92f03f64103b",
   "metadata": {},
   "source": [
    "## Assign cells to poly, give L-R label"
   ]
  },
  {
   "cell_type": "code",
   "execution_count": null,
   "id": "908b27b3-c89e-42c9-bd23-ce04676af6d4",
   "metadata": {},
   "outputs": [],
   "source": [
    "# initialize new .obs columns that we're going to fill\n",
    "adata.obs['is_in_MD'] = False\n",
    "adata.obs['left_right_MD'] = 'not in MD'\n",
    "\n",
    "# For each AP section, assign cells to the MD and then the left or right polygon\n",
    "for i, ap_loc in enumerate(ap_locs):\n",
    "\n",
    "    # Get the ADJUSTED napari coordinates for each cell in this section so the\n",
    "    # cells and polygons are in the same coordinates\n",
    "    cell_locs = adata.obs.loc[adata.obs.napari_z_brain1and3==ap_loc, ['napari_y_brain1and3', 'napari_x_brain1and3']].values\n",
    "\n",
    "    # For each MD polygon, find all the cells that fall inside\n",
    "    for j, poly in enumerate(MD_polys):\n",
    "\n",
    "        # only procede to checking if cells are in polygon, IFF current poly is\n",
    "        # in the same ap section as current cell_locs\n",
    "        ap = MD_shapes_z[j]\n",
    "        if ap != ap_loc:\n",
    "            continue\n",
    "            \n",
    "        cell_is_in_MD = cells_in_polygon(cell_locs, poly, checkBoundingBox=True)\n",
    "\n",
    "        # Update 'is_in_MD' to flag cells found to be in this MD polygon \n",
    "        # BUT don't overwrite if already confirmed to be in a previous MD polygon\n",
    "        adata.obs.loc[adata.obs['napari_z_brain1and3']==ap_loc,'is_in_MD'] = np.logical_or(adata.obs.loc[adata.obs['napari_z_brain1and3']==ap_loc,\"is_in_MD\"], cell_is_in_MD)\n",
    "\n",
    "        # Update 'left_right_MD' field for cells in the MD in this section\n",
    "        multimask = (adata.obs.napari_z_brain1and3==ap_loc).values\n",
    "        multimask[multimask.nonzero()] = cell_is_in_MD\n",
    "        adata.obs.loc[np.logical_and(adata.obs.napari_z_brain1and3==ap_loc,multimask),'left_right_MD'] = MD_polys_L_R[j]\n",
    "        "
   ]
  },
  {
   "cell_type": "markdown",
   "id": "04fc3ed4-7c7d-4fcd-a925-7825b3244035",
   "metadata": {},
   "source": [
    "### Sanity checking left-right assignment"
   ]
  },
  {
   "cell_type": "code",
   "execution_count": null,
   "id": "210c9e30-3477-4c4d-90f7-e7c623eff376",
   "metadata": {},
   "outputs": [],
   "source": [
    "# sanity checking all this left-right stuff....\n",
    "plt.figure(figsize=(12,9))\n",
    "for ii in range(len(MD_polys_L_R)):\n",
    "    # print('polygon # ',ii)\n",
    "    if MD_polys_L_R[ii] =='right':\n",
    "        mask = np.logical_and(adata.obs.napari_z_brain1and3.astype(int) == int(MD_shapes_z[ii]), \n",
    "                               adata.obs.left_right_MD==\"right\")\n",
    "        # print('mask sum:', sum(mask))\n",
    "        xy = adata.obs.loc[mask, [\"napari_y_brain1and3\",\"napari_x_brain1and3\"]].values\n",
    "        # change signs on both x & y coords to convert from napari to plt expectations \n",
    "        plt.plot(xy[::10,1], -xy[::10,0],'.r')\n",
    "        plt.plot(MD_centers[ii][1], -MD_centers[ii][0], \"*k\")\n",
    "        plt.plot(np.array(MD_polys[ii].exterior.coords)[:,1], -np.array(MD_polys[ii].exterior.coords)[:,0], 'k')\n",
    "\n",
    "    else:\n",
    "        mask = np.logical_and(adata.obs.napari_z_brain1and3.astype(int) == int(MD_shapes_z[ii]),\n",
    "                              adata.obs.left_right_MD==\"left\")\n",
    "        xy = adata.obs.loc[mask, [\"napari_y_brain1and3\",\"napari_x_brain1and3\"]].values\n",
    "        # change signs on both x & y coords to convert from napari to plt expectations\n",
    "        plt.plot(xy[::10,1], -xy[::10,0],'.g')\n",
    "        plt.plot(MD_centers[ii][1], -MD_centers[ii][0], \"*k\")\n",
    "        plt.plot(np.array(MD_polys[ii].exterior.coords)[:,1], -np.array(MD_polys[ii].exterior.coords)[:,0], 'k')\n",
    "\n",
    "plt.axis('equal');"
   ]
  },
  {
   "cell_type": "markdown",
   "id": "170c6ef7-efd1-4f81-93ff-cf03225e35cc",
   "metadata": {},
   "source": [
    "### Save per-polygon L-R info to adata.uns"
   ]
  },
  {
   "cell_type": "code",
   "execution_count": null,
   "id": "4343f37b-0784-4153-8f32-9481f9982ca5",
   "metadata": {},
   "outputs": [],
   "source": [
    "# These will come in handy when we want to plot things from just the adata file\n",
    "# (e.g. inside a CodeOcean capsule)\n",
    "\n",
    "adata.uns['MD_polys_left_right'] = MD_polys_L_R\n",
    "adata.uns['MD_polys_brain'] = MD_polys_brain_id"
   ]
  },
  {
   "cell_type": "markdown",
   "id": "c98e316c-b5fa-4164-89ae-05aefe235d6b",
   "metadata": {},
   "source": [
    "# Collapse all MD polygons together\n",
    "\n",
    "We want to generate an \"average MD\" (across animals, sections, and hemispheres) so that we can ask questions about the average spatial patterns of cell types and gene expression that we hope is more informative than just looking at noisy individual sections "
   ]
  },
  {
   "cell_type": "markdown",
   "id": "8d290b51-c68a-4d6b-bef9-6cc61b521643",
   "metadata": {},
   "source": [
    "## Orient left & right MDs the same"
   ]
  },
  {
   "cell_type": "code",
   "execution_count": null,
   "id": "e82da5e5-09aa-45ba-8888-aef5a8dc4edd",
   "metadata": {},
   "outputs": [],
   "source": [
    "# set up variables needed to plot the MD regions\n",
    "\n",
    "# random colors that will show up well on a white background (-0.2 to darken)\n",
    "random_colors = np.clip(np.random.rand(1000,4)-0.2, a_max=1.0, a_min=0)\n",
    "random_colors[:,3]=1.0\n",
    "\n",
    "# Find all the clusters that are represented in the MD\n",
    "MD_clusters = adata.obs.loc[adata.obs.is_in_MD,\"cluster_label\"].unique()\n",
    "MD_clusters = [cl for cl in MD_clusters if adata.obs.loc[adata.obs.cluster_label==cl,\"division_id_label\"].values[0] in divisions_neuronal]\n",
    "MD_clusters = np.asarray(sorted(list(MD_clusters)))\n",
    "# MD_clusters"
   ]
  },
  {
   "cell_type": "code",
   "execution_count": null,
   "id": "78524484-cce1-4b19-a2c4-c195b6155024",
   "metadata": {},
   "outputs": [],
   "source": [
    "plt.figure(figsize=(20,9))\n",
    "shift_for_plot = 1000  # to line all the MDs up in a row to see them at once\n",
    "MD_values_list = []\n",
    "\n",
    "# Flip each \"left\" polygon along the midline to match the \"right\" polygons, then\n",
    "# display each polygon so we can see that we've done this re-orienting correctly\n",
    "for i in range(len(MD_polys_L_R)):\n",
    "    # get the correct cells from this polygon\n",
    "    # first check for left vs right\n",
    "    if MD_polys_L_R[i] =='right':\n",
    "        zLR_mask = np.logical_and(adata.obs.napari_z_brain1and3==MD_shapes_z[i], \n",
    "                                  adata.obs.left_right_MD==\"right\")\n",
    "    else:\n",
    "        zLR_mask = np.logical_and(adata.obs.napari_z_brain1and3==MD_shapes_z[i],\n",
    "                                  adata.obs.left_right_MD==\"left\")\n",
    "    # then check for brain1 vs brain3\n",
    "    if MD_polys_brain_id[i] ==1:\n",
    "        zLRbrain_mask = np.logical_and(zLR_mask, adata.obs.brain==1)\n",
    "    else:\n",
    "        zLRbrain_mask = np.logical_and(zLR_mask, adata.obs.brain==3)\n",
    "        \n",
    "    xy = adata.obs.loc[zLRbrain_mask, [\"napari_y_brain1and3\",\"napari_x_brain1and3\"]].values\n",
    "    \n",
    "\n",
    "    # Find distance of each selected cell from center of the current MD polygon\n",
    "    center = MD_centers[i]\n",
    "    xy_from_center = np.zeros([xy.shape[0], 4])\n",
    "    xy_from_center[:,0] = xy[:,0]-center[0]\n",
    "    \n",
    "    # flop left side over to right\n",
    "    if MD_polys_L_R[i] =='right':\n",
    "        xy_from_center[:,1] = xy[:,1]-center[1]\n",
    "    else:\n",
    "        xy_from_center[:,1] = -(xy[:,1]-center[1])\n",
    "    \n",
    "    # calculate polar coordinates\n",
    "    xy_from_center[:,2] = np.sqrt(xy_from_center[:,0]**2 + xy_from_center[:,1]**2 )\n",
    "    xy_from_center[:,3] = np.arctan2(xy_from_center[:,1],xy_from_center[:,0])\n",
    "    \n",
    "    # save YX and polar coordinates to anndata\n",
    "    adata.obs.loc[zLRbrain_mask,[\"napari_y_from_center\",\"napari_x_from_center\",\"r_from_center\",\"angle_from_center\"]] = xy_from_center\n",
    "\n",
    "    # plot clusters in MD to make sure we've calculated the coordinates correctly\n",
    "    for cl in adata.obs.loc[zLRbrain_mask,:].cluster_label.unique():\n",
    "        if \"NN\" in cl:\n",
    "            continue\n",
    "        if not any([(a in cl) for a in [\"1132\",\"1133\",\"1130\"]]):\n",
    "            clmask = adata.obs.loc[zLRbrain_mask,[\"cluster_label\"]]==cl\n",
    "\n",
    "            plt.plot(xy_from_center[clmask.values.flatten(),1]+(shift_for_plot*i), \n",
    "                     xy_from_center[clmask.values.flatten(),0],\n",
    "                     '.', color = 'gray', markersize=1)\n",
    "        else:\n",
    "            color_index = np.where(np.array(MD_clusters)==cl)[0][0]\n",
    "\n",
    "            clmask = adata.obs.loc[zLRbrain_mask,[\"cluster_label\"]]==cl\n",
    "            plt.plot(xy_from_center[clmask.values.flatten(),1]+(shift_for_plot*i), \n",
    "                     xy_from_center[clmask.values.flatten(),0],\n",
    "                     '.', color = random_colors[color_index,:], markersize=1)\n",
    "plt.axis([-500, 25500, -1000, 1000])\n",
    "plt.gca().set_aspect('equal', adjustable='box')"
   ]
  },
  {
   "cell_type": "markdown",
   "id": "6dcc639f-3d9e-41d4-8771-1cbaa6b3087f",
   "metadata": {},
   "source": [
    "# Save new h5ad with MD polygon info\n",
    "\n",
    "We need to store 7 key categories of metadata in the anndata object to be able to use them later in other notebooks (e.g. codeocean):\n",
    "\n",
    "1. per cell (stored as columns in adata.obs):\n",
    "    1. 'napari_z_brain1and3','napari_y_brain1and3','napari_x_brain1and3': ZYX coordinates adjusted for displaying brain1 & brain3 in napari\n",
    "    2. 'is_in_MD': boolean for whether or not the cell in is an MD polygon\n",
    "    3. 'left_right_MD': indicates whether each cell is in the 'left' or 'right' MD polygon or 'not_in_MD' at all\n",
    "    4. 'napari_y_from_center','napari_x_from_center','r_from_center','angle_from_center: cartesian & polar coordinates, using the center of the MD polygon as a reference\n",
    "2. per MD annotation polygon (stored in adata.uns):\n",
    "    1. 'MD_polygons': Shapely Polygons of the manually annotated MD regions, stored as a string of a geojson object\n",
    "    2. 'MD_polys_left_right': L/R MD assignment for each polygon\n",
    "    3. 'MD_polys_brain': brain assignment for each polygon"
   ]
  },
  {
   "cell_type": "code",
   "execution_count": null,
   "id": "249fc3d5-c9be-4efe-b178-f52525cefd77",
   "metadata": {},
   "outputs": [],
   "source": [
    "adata.obs.columns"
   ]
  },
  {
   "cell_type": "code",
   "execution_count": null,
   "id": "54593ff8-139a-4b8c-9d66-07ad05265178",
   "metadata": {},
   "outputs": [],
   "source": [
    "filename = 'your_updated_anndata_with_annotations.h5ad'\n",
    "adata.write('//allen/programs/celltypes/workgroups/rnaseqanalysis/mFISH/meghanturner/thalamus_data/'+filename, compression=\"gzip\")"
   ]
  }
 ],
 "metadata": {
  "kernelspec": {
   "display_name": "Python 3",
   "language": "python",
   "name": "python3"
  },
  "language_info": {
   "codemirror_mode": {
    "name": "ipython",
    "version": 3
   },
   "file_extension": ".py",
   "mimetype": "text/x-python",
   "name": "python",
   "nbconvert_exporter": "python",
   "pygments_lexer": "ipython3",
   "version": "3.9.12"
  },
  "toc-autonumbering": false
 },
 "nbformat": 4,
 "nbformat_minor": 5
}
