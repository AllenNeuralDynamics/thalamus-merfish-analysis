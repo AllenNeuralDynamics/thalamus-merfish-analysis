{
 "cells": [
  {
   "cell_type": "code",
   "execution_count": 1,
   "id": "58651690-6f04-423a-8457-beba0aea1f5d",
   "metadata": {},
   "outputs": [],
   "source": [
    "import anndata as ad\n",
    "import pandas as pd\n",
    "import scanpy as sc\n",
    "%matplotlib inline\n",
    "\n",
    "import numpy as np\n",
    "import matplotlib.pyplot as plt\n",
    "import matplotlib.colors\n",
    "import seaborn as sns"
   ]
  },
  {
   "cell_type": "code",
   "execution_count": 2,
   "id": "19168271-88b2-4b67-ab54-dd6f385dc56c",
   "metadata": {},
   "outputs": [],
   "source": [
    "# Load MERFISH data\n",
    "merData = ad.read_h5ad(\"/data/merfish_609882_AIT17.1_annotated_TH_ZI_only_2023-02-16_00-00-00/atlas_brain_609882_AIT17_1_annotated_TH_ZI_only.h5ad\")\n",
    "\n",
    "# Subset to neuronal\n",
    "merData = merData[merData.obs[\"division_id_label\"].isin([\"3 PAL-sAMY-TH-HY-MB-HB neuronal\"])]"
   ]
  },
  {
   "cell_type": "code",
   "execution_count": 3,
   "id": "37a756bc-a50f-4412-ade6-d11a5824ed3b",
   "metadata": {
    "tags": []
   },
   "outputs": [
    {
     "data": {
      "text/plain": [
       "8_TH               144144\n",
       "10_CNU-HY GABA      23239\n",
       "14_MB Glut           4963\n",
       "18_MB Gaba           4441\n",
       "12_CNU-HYa Glut      1116\n",
       "13_HY Glut            522\n",
       "17_MY Glut            282\n",
       "Name: Level1_id_label, dtype: int64"
      ]
     },
     "execution_count": 3,
     "metadata": {},
     "output_type": "execute_result"
    }
   ],
   "source": [
    "merData.obs['Level1_id_label'].value_counts(normalize=False).loc[lambda x: x>100]"
   ]
  },
  {
   "cell_type": "code",
   "execution_count": 4,
   "id": "8f6d085d-9b58-4ff0-8d13-b1f5e7a7722f",
   "metadata": {},
   "outputs": [],
   "source": [
    "# Load sequencing data\n",
    "seqData = ad.read_h5ad(\"/data/rnaseq_AIT17.2_2022-12-15_12-00-00/rnaseq/processed.U19_TH-EPI.postQC.h5ad\", backed=False)\n",
    "\n",
    "data = seqData[seqData.obs['Level1_id_label']=='8_TH']"
   ]
  },
  {
   "cell_type": "code",
   "execution_count": 5,
   "id": "e426067d-315a-4ebb-8b80-c9059d1c7e8e",
   "metadata": {},
   "outputs": [
    {
     "data": {
      "text/plain": [
       "View of AnnData object with n_obs × n_vars = 126756 × 32285\n",
       "    obs: 'sample_id', 'cl', 'cluster_label', 'Level2_id_label', 'Level1_id_label', 'supertype_id_label', 'class_id_label', 'nt_type_label', 'cluster_id.AIT16', 'library_prep', 'gene.counts.0', 'doublet_score', 'roi', 'umi.counts', 'qc.score', 'method', 'region_label', 'region_id', 'sex', 'external_donor_name', 'age', 'platform', 'knn.dist', 'knn.dist.z', 'medical_conditions', 'broad_region'\n",
       "    uns: 'Level2_id_label_colors', 'cluster_label_colors'\n",
       "    obsm: 'EMBED2', 'EMBED3'"
      ]
     },
     "execution_count": 5,
     "metadata": {},
     "output_type": "execute_result"
    }
   ],
   "source": [
    "data"
   ]
  },
  {
   "cell_type": "code",
   "execution_count": 7,
   "id": "0543645c-0e28-4770-b00a-30792b940e27",
   "metadata": {},
   "outputs": [
    {
     "data": {
      "text/plain": [
       "Glut    123236\n",
       "Chol      3520\n",
       "Name: nt_type_label, dtype: int64"
      ]
     },
     "execution_count": 7,
     "metadata": {},
     "output_type": "execute_result"
    }
   ],
   "source": [
    "data.obs['nt_type_label'].value_counts()"
   ]
  },
  {
   "cell_type": "code",
   "execution_count": 9,
   "id": "f45ba11b-4ba9-4e1b-aa5a-4da2beb98cda",
   "metadata": {
    "collapsed": true,
    "jupyter": {
     "outputs_hidden": true
    },
    "tags": []
   },
   "outputs": [
    {
     "data": {
      "text/plain": [
       "248 MH Tac2 Glut_1              2335\n",
       "249 MH Tac2 Glut_2               887\n",
       "250 MH Tac2 Glut_3              4351\n",
       "251 MH Tac2 Glut_4               159\n",
       "252 MH Tac2 Glut_5               331\n",
       "253 LH Pou4f1 Sox1 Glut_1       1269\n",
       "254 LH Pou4f1 Sox1 Glut_2        657\n",
       "255 LH Pou4f1 Sox1 Glut_3        529\n",
       "256 LH Pou4f1 Sox1 Glut_4        321\n",
       "257 AD Serpinb7 Glut             729\n",
       "258 AV Col27a1 Glut             7519\n",
       "259 PVT-PT Ntrk1 Glut_1          686\n",
       "260 PVT-PT Ntrk1 Glut_2         5544\n",
       "261 PVT-PT Ntrk1 Glut_3         1326\n",
       "262 PVT-PT Ntrk1 Glut_4         1947\n",
       "263 PVT-PT Ntrk1 Glut_5          648\n",
       "264 PVT-PT Ntrk1 Glut_6          168\n",
       "265 CM-IAD-CL-PCN Glut_1        5617\n",
       "266 CM-IAD-CL-PCN Glut_2        3173\n",
       "267 CM-IAD-CL-PCN Glut_3         848\n",
       "268 CM-IAD-CL-PCN Glut_4        3453\n",
       "269 CM-IAD-CL-PCN Glut_5         568\n",
       "270 TH Prkcd Grin2c Glut_1      7746\n",
       "271 TH Prkcd Grin2c Glut_10     4303\n",
       "272 TH Prkcd Grin2c Glut_11     1922\n",
       "273 TH Prkcd Grin2c Glut_12     1584\n",
       "274 TH Prkcd Grin2c Glut_13     3119\n",
       "275 TH Prkcd Grin2c Glut_14     1787\n",
       "276 TH Prkcd Grin2c Glut_2      8352\n",
       "277 TH Prkcd Grin2c Glut_3     11288\n",
       "278 TH Prkcd Grin2c Glut_4      1473\n",
       "279 TH Prkcd Grin2c Glut_5      5614\n",
       "280 TH Prkcd Grin2c Glut_6     10767\n",
       "281 TH Prkcd Grin2c Glut_7      2987\n",
       "282 TH Prkcd Grin2c Glut_8      4754\n",
       "283 TH Prkcd Grin2c Glut_9      2900\n",
       "284 RE-Xi Nox4 Glut_1           1593\n",
       "285 RE-Xi Nox4 Glut_2           2158\n",
       "286 RE-Xi Nox4 Glut_3           2193\n",
       "287 RE-Xi Nox4 Glut_4            207\n",
       "288 MG-POL-SGN Glut_1           1465\n",
       "289 MG-POL-SGN Glut_2            650\n",
       "290 PF Fzd5 Glut_1              3657\n",
       "291 PF Fzd5 Glut_2              3172\n",
       "Name: supertype_id_label, dtype: int64"
      ]
     },
     "execution_count": 9,
     "metadata": {},
     "output_type": "execute_result"
    }
   ],
   "source": [
    "supertypes = data.obs['supertype_id_label'].value_counts(normalize=False).loc[lambda x: x>0]\n",
    "supertypes.sort_index()"
   ]
  },
  {
   "cell_type": "code",
   "execution_count": 10,
   "id": "6fbced99-6d16-4d7e-9727-44b699727792",
   "metadata": {},
   "outputs": [
    {
     "data": {
      "text/plain": [
       "['63_MH Tac2 Glut',\n",
       " '64_LH Pou4f1 Sox1 Glut',\n",
       " '65_AD Serpinb7 Glut',\n",
       " '66_AV Col27a1 Glut',\n",
       " '67_PVT-PT Ntrk1 Glut',\n",
       " '68_CM-IAD-CL-PCN Glut',\n",
       " '69_TH Prkcd Grin2c Glut',\n",
       " '70_RE-Xi Nox4 Glut',\n",
       " '71_MG-POL-SGN Glut',\n",
       " '72_PF Fzd5 Glut']"
      ]
     },
     "execution_count": 10,
     "metadata": {},
     "output_type": "execute_result"
    }
   ],
   "source": [
    "sorted(data.obs['Level2_id_label'].unique())"
   ]
  },
  {
   "cell_type": "code",
   "execution_count": 11,
   "id": "99080e41-ec1b-4cbf-b863-a6e41838494d",
   "metadata": {},
   "outputs": [
    {
     "name": "stderr",
     "output_type": "stream",
     "text": [
      "<ipython-input-11-e94c9ee6ecd9>:2: ImplicitModificationWarning: Trying to modify attribute `.obs` of view, initializing view as actual.\n",
      "  data.obs['grouped_cell_type'] = data.obs['Level2_id_label'].astype(str)\n"
     ]
    },
    {
     "data": {
      "text/plain": [
       "68_CM-IAD-CL-PCN Glut          13659\n",
       "277 TH Prkcd Grin2c Glut_3     11288\n",
       "280 TH Prkcd Grin2c Glut_6     10767\n",
       "67_PVT-PT Ntrk1 Glut           10319\n",
       "276 TH Prkcd Grin2c Glut_2      8352\n",
       "63_MH Tac2 Glut                 8063\n",
       "270 TH Prkcd Grin2c Glut_1      7746\n",
       "258 AV Col27a1 Glut             7519\n",
       "72_PF Fzd5 Glut                 6829\n",
       "70_RE-Xi Nox4 Glut              6151\n",
       "279 TH Prkcd Grin2c Glut_5      5614\n",
       "282 TH Prkcd Grin2c Glut_8      4754\n",
       "271 TH Prkcd Grin2c Glut_10     4303\n",
       "274 TH Prkcd Grin2c Glut_13     3119\n",
       "281 TH Prkcd Grin2c Glut_7      2987\n",
       "283 TH Prkcd Grin2c Glut_9      2900\n",
       "64_LH Pou4f1 Sox1 Glut          2776\n",
       "71_MG-POL-SGN Glut              2115\n",
       "272 TH Prkcd Grin2c Glut_11     1922\n",
       "275 TH Prkcd Grin2c Glut_14     1787\n",
       "273 TH Prkcd Grin2c Glut_12     1584\n",
       "278 TH Prkcd Grin2c Glut_4      1473\n",
       "257 AD Serpinb7 Glut             729\n",
       "Name: grouped_cell_type, dtype: int64"
      ]
     },
     "execution_count": 11,
     "metadata": {},
     "output_type": "execute_result"
    }
   ],
   "source": [
    "expand = ['65_AD Serpinb7 Glut', '66_AV Col27a1 Glut', '69_TH Prkcd Grin2c Glut']\n",
    "data.obs['grouped_cell_type'] = data.obs['Level2_id_label'].astype(str)\n",
    "data.obs.loc[lambda df: df['grouped_cell_type'].isin(expand), 'grouped_cell_type'] = data.obs.loc[lambda df: df['grouped_cell_type'].isin(expand), 'supertype_id_label']\n",
    "data.obs['grouped_cell_type'].value_counts()"
   ]
  },
  {
   "cell_type": "code",
   "execution_count": 12,
   "id": "0f190c5a-59d5-4b51-871e-6f1c5c8c7d5a",
   "metadata": {},
   "outputs": [
    {
     "data": {
      "text/plain": [
       "529"
      ]
     },
     "execution_count": 12,
     "metadata": {},
     "output_type": "execute_result"
    }
   ],
   "source": [
    "len(data.obs['grouped_cell_type'].unique())**2"
   ]
  },
  {
   "cell_type": "code",
   "execution_count": 13,
   "id": "5bb2afb7-0cf9-4119-a513-82920f9b83e0",
   "metadata": {},
   "outputs": [
    {
     "data": {
      "text/plain": [
       "10Xv2    74168\n",
       "10Xv3    52588\n",
       "Name: method, dtype: int64"
      ]
     },
     "execution_count": 13,
     "metadata": {},
     "output_type": "execute_result"
    }
   ],
   "source": [
    "data.obs['method'].value_counts()"
   ]
  },
  {
   "cell_type": "code",
   "execution_count": 23,
   "id": "8d63c1f9-c43a-4baf-8644-66d2ea6fe55a",
   "metadata": {},
   "outputs": [],
   "source": [
    "import dprime\n",
    "import scipy.spatial.distance as distance\n",
    "from diskcache import Cache\n",
    "\n",
    "cache = Cache(\"/scratch/cache\")\n",
    "\n",
    "@cache.memoize()\n",
    "def tx_dprime(cluster_label, features=None, type_list=None, n_folds=5, r=3, zero_inflated=True, n_subsample=1000, **kwargs ):\n",
    "    global data\n",
    "    adata = data[data.obs.groupby(cluster_label).sample(n_subsample, replace=True).index]\n",
    "    df = adata.obs\n",
    "    type_labels = df[cluster_label]\n",
    "    data = adata.X if features is None else adata[:, features].X\n",
    "    if type_list is None:\n",
    "        type_list = type_labels.unique()\n",
    "    # d-prime calculation\n",
    "    if zero_inflated:\n",
    "        dprime_results = dprime.zinb_dprime(\n",
    "            data, type_list, type_labels, n_folds=n_folds,\n",
    "            r=r, **kwargs)\n",
    "    else:\n",
    "        dprime_results = dprime.negative_binomial_dprime(\n",
    "            data, type_list, type_labels, n_folds=n_folds,\n",
    "            r=r, **kwargs)\n",
    "\n",
    "    dprime_mat = distance.squareform(\n",
    "        [np.abs(dprime_results[k][\"dprime\"]) for k in dprime_results])\n",
    "    output_dprime_df = pd.DataFrame(dprime_mat, index=type_list, columns=type_list)\n",
    "#     return output_dprime_df, dprime_results\n",
    "    return output_dprime_df\n"
   ]
  },
  {
   "cell_type": "code",
   "execution_count": 24,
   "id": "efe52665-2e10-421d-9428-db5e8213eca0",
   "metadata": {},
   "outputs": [
    {
     "name": "stdout",
     "output_type": "stream",
     "text": [
      "0\n",
      "50\n",
      "100\n",
      "150\n",
      "200\n",
      "250\n"
     ]
    }
   ],
   "source": [
    "result = tx_dprime(cluster_label='grouped_cell_type', zero_inflated=False, r=1)"
   ]
  },
  {
   "cell_type": "code",
   "execution_count": 45,
   "id": "9ff302a5-446d-4500-b391-49f937295c49",
   "metadata": {},
   "outputs": [],
   "source": [
    "result.to_csv(\"../resources/grouped_supertype_dprime.csv\")"
   ]
  },
  {
   "cell_type": "code",
   "execution_count": 34,
   "id": "c4637b5f-afde-49a2-8a89-18361d71d0a0",
   "metadata": {},
   "outputs": [
    {
     "data": {
      "text/plain": [
       "['AD Serpinb7 Glut',\n",
       " 'AV Col27a1 Glut',\n",
       " 'TH Prkcd Grin2c Glut 1',\n",
       " 'TH Prkcd Grin2c Glut 10',\n",
       " 'TH Prkcd Grin2c Glut 11',\n",
       " 'TH Prkcd Grin2c Glut 12',\n",
       " 'TH Prkcd Grin2c Glut 13',\n",
       " 'TH Prkcd Grin2c Glut 14',\n",
       " 'TH Prkcd Grin2c Glut 2',\n",
       " 'TH Prkcd Grin2c Glut 3',\n",
       " 'TH Prkcd Grin2c Glut 4',\n",
       " 'TH Prkcd Grin2c Glut 5',\n",
       " 'TH Prkcd Grin2c Glut 6',\n",
       " 'TH Prkcd Grin2c Glut 7',\n",
       " 'TH Prkcd Grin2c Glut 8',\n",
       " 'TH Prkcd Grin2c Glut 9',\n",
       " 'MH Tac2 Glut',\n",
       " 'LH Pou4f1 Sox1 Glut',\n",
       " 'PVT-PT Ntrk1 Glut',\n",
       " 'CM-IAD-CL-PCN Glut',\n",
       " 'RE-Xi Nox4 Glut',\n",
       " 'MG-POL-SGN Glut',\n",
       " 'PF Fzd5 Glut']"
      ]
     },
     "execution_count": 34,
     "metadata": {},
     "output_type": "execute_result"
    }
   ],
   "source": [
    "import re\n",
    "labels = dprime.columns\n",
    "labels = [' '.join(re.split(' |_', x)[1:]) for x in labels]\n",
    "labels"
   ]
  },
  {
   "cell_type": "code",
   "execution_count": 41,
   "id": "b8913403-8e2f-4f6d-a0ab-020c76d12a31",
   "metadata": {},
   "outputs": [],
   "source": [
    "dprime = result.copy()\n",
    "\n",
    "dprime.index = labels\n",
    "dprime.columns = labels\n",
    "order = ['AD Serpinb7 Glut',\n",
    " 'AV Col27a1 Glut',\n",
    " 'TH Prkcd Grin2c Glut 9',\n",
    " 'TH Prkcd Grin2c Glut 13',\n",
    " 'TH Prkcd Grin2c Glut 10',\n",
    " 'TH Prkcd Grin2c Glut 4',\n",
    " 'TH Prkcd Grin2c Glut 6',\n",
    " 'TH Prkcd Grin2c Glut 7',\n",
    " 'TH Prkcd Grin2c Glut 11',\n",
    " 'TH Prkcd Grin2c Glut 12',\n",
    " 'TH Prkcd Grin2c Glut 8',\n",
    " 'TH Prkcd Grin2c Glut 14',\n",
    " 'TH Prkcd Grin2c Glut 1',\n",
    " 'TH Prkcd Grin2c Glut 2',\n",
    " 'TH Prkcd Grin2c Glut 3',\n",
    " 'TH Prkcd Grin2c Glut 5',\n",
    " 'PVT-PT Ntrk1 Glut',\n",
    " 'CM-IAD-CL-PCN Glut',\n",
    " 'RE-Xi Nox4 Glut',\n",
    " 'MG-POL-SGN Glut',\n",
    " 'PF Fzd5 Glut',\n",
    " 'MH Tac2 Glut',\n",
    " 'LH Pou4f1 Sox1 Glut',\n",
    "        ]\n",
    "dprime = dprime.loc[order, order]\n",
    "order[order.index('TH Prkcd Grin2c Glut 9')] += ' (AM)'\n",
    "order[order.index('TH Prkcd Grin2c Glut 10')] += ' (MD)'\n",
    "order[order.index('TH Prkcd Grin2c Glut 13')] += ' (VM/VAL)'\n",
    "dprime.index = order\n",
    "dprime.columns = order"
   ]
  },
  {
   "cell_type": "code",
   "execution_count": 43,
   "id": "f6d30b14-0059-4938-978d-22498ffb77e5",
   "metadata": {},
   "outputs": [
    {
     "data": {
      "text/plain": [
       "(0.0, 23.0, 23.0, 0.0)"
      ]
     },
     "execution_count": 43,
     "metadata": {},
     "output_type": "execute_result"
    },
    {
     "data": {
      "image/png": "[encoded data removed]",
      "text/plain": [
       "<Figure size 700x700 with 2 Axes>"
      ]
     },
     "metadata": {},
     "output_type": "display_data"
    }
   ],
   "source": [
    "plt.figure(figsize=(7,7))\n",
    "sns.heatmap(dprime, cmap='viridis_r', vmin=0, vmax=4, cbar=True, cbar_kws=dict(label=\"distinctness d'\"))\n",
    "plt.axis('image')"
   ]
  },
  {
   "cell_type": "code",
   "execution_count": 27,
   "id": "1956ba22-402a-479f-b856-986e0e702185",
   "metadata": {},
   "outputs": [
    {
     "ename": "NameError",
     "evalue": "name 'dprime' is not defined",
     "output_type": "error",
     "traceback": [
      "\u001b[0;31m---------------------------------------------------------------------------\u001b[0m",
      "\u001b[0;31mNameError\u001b[0m                                 Traceback (most recent call last)",
      "Cell \u001b[0;32mIn [27], line 2\u001b[0m\n\u001b[1;32m      1\u001b[0m \u001b[38;5;28;01mfrom\u001b[39;00m \u001b[38;5;21;01mimportlib\u001b[39;00m \u001b[38;5;28;01mimport\u001b[39;00m reload\n\u001b[0;32m----> 2\u001b[0m reload(dprime)\n",
      "File \u001b[0;32m/opt/conda/lib/python3.9/importlib/__init__.py:169\u001b[0m, in \u001b[0;36mreload\u001b[0;34m(module)\u001b[0m\n\u001b[1;32m    167\u001b[0m \u001b[38;5;28;01mif\u001b[39;00m spec \u001b[38;5;129;01mis\u001b[39;00m \u001b[38;5;28;01mNone\u001b[39;00m:\n\u001b[1;32m    168\u001b[0m     \u001b[38;5;28;01mraise\u001b[39;00m \u001b[38;5;167;01mModuleNotFoundError\u001b[39;00m(\u001b[38;5;124mf\u001b[39m\u001b[38;5;124m\"\u001b[39m\u001b[38;5;124mspec not found for the module \u001b[39m\u001b[38;5;132;01m{\u001b[39;00mname\u001b[38;5;132;01m!r}\u001b[39;00m\u001b[38;5;124m\"\u001b[39m, name\u001b[38;5;241m=\u001b[39mname)\n\u001b[0;32m--> 169\u001b[0m \u001b[43m_bootstrap\u001b[49m\u001b[38;5;241;43m.\u001b[39;49m\u001b[43m_exec\u001b[49m\u001b[43m(\u001b[49m\u001b[43mspec\u001b[49m\u001b[43m,\u001b[49m\u001b[43m \u001b[49m\u001b[43mmodule\u001b[49m\u001b[43m)\u001b[49m\n\u001b[1;32m    170\u001b[0m \u001b[38;5;66;03m# The module may have replaced itself in sys.modules!\u001b[39;00m\n\u001b[1;32m    171\u001b[0m \u001b[38;5;28;01mreturn\u001b[39;00m sys\u001b[38;5;241m.\u001b[39mmodules[name]\n",
      "File \u001b[0;32m<frozen importlib._bootstrap>:613\u001b[0m, in \u001b[0;36m_exec\u001b[0;34m(spec, module)\u001b[0m\n",
      "File \u001b[0;32m<frozen importlib._bootstrap_external>:850\u001b[0m, in \u001b[0;36mexec_module\u001b[0;34m(self, module)\u001b[0m\n",
      "File \u001b[0;32m<frozen importlib._bootstrap>:228\u001b[0m, in \u001b[0;36m_call_with_frames_removed\u001b[0;34m(f, *args, **kwds)\u001b[0m\n",
      "File \u001b[0;32m~/capsule/code/dprime.py:10\u001b[0m\n\u001b[1;32m      6\u001b[0m \u001b[38;5;28;01mimport\u001b[39;00m \u001b[38;5;21;01mseaborn\u001b[39;00m \u001b[38;5;28;01mas\u001b[39;00m \u001b[38;5;21;01msns\u001b[39;00m\n\u001b[1;32m      7\u001b[0m \u001b[38;5;28;01mimport\u001b[39;00m \u001b[38;5;21;01mmatplotlib\u001b[39;00m\u001b[38;5;21;01m.\u001b[39;00m\u001b[38;5;21;01mpyplot\u001b[39;00m \u001b[38;5;28;01mas\u001b[39;00m \u001b[38;5;21;01mplt\u001b[39;00m\n\u001b[1;32m      9\u001b[0m \u001b[38;5;28;01mdef\u001b[39;00m \u001b[38;5;21mplot_dprime\u001b[39m(clf, data, features, cluster\u001b[38;5;241m=\u001b[39m\u001b[38;5;124m'\u001b[39m\u001b[38;5;124mt-type\u001b[39m\u001b[38;5;124m'\u001b[39m,  cluster_list\u001b[38;5;241m=\u001b[39m\u001b[38;5;28;01mNone\u001b[39;00m, \n\u001b[0;32m---> 10\u001b[0m                 metric\u001b[38;5;241m=\u001b[39m\u001b[43mdprime\u001b[49m, method\u001b[38;5;241m=\u001b[39m\u001b[38;5;124m'\u001b[39m\u001b[38;5;124mpredict_proba\u001b[39m\u001b[38;5;124m'\u001b[39m, cv\u001b[38;5;241m=\u001b[39m\u001b[38;5;28;01mNone\u001b[39;00m):\n\u001b[1;32m     11\u001b[0m     dprime, _ \u001b[38;5;241m=\u001b[39m pairwise_cluster_distances(clf, data, features, cluster, \n\u001b[1;32m     12\u001b[0m                                     fit_pairwise\u001b[38;5;241m=\u001b[39m\u001b[38;5;28;01mTrue\u001b[39;00m, details\u001b[38;5;241m=\u001b[39m\u001b[38;5;28;01mFalse\u001b[39;00m, \n\u001b[1;32m     13\u001b[0m                                            metric\u001b[38;5;241m=\u001b[39mmetric, method\u001b[38;5;241m=\u001b[39mmethod, cv\u001b[38;5;241m=\u001b[39mcv)\n\u001b[1;32m     14\u001b[0m     \u001b[38;5;28;01mreturn\u001b[39;00m plot_dprime_data(dprime, cluster_list)\n",
      "\u001b[0;31mNameError\u001b[0m: name 'dprime' is not defined"
     ]
    }
   ],
   "source": [
    "ax = plt.gca()\n",
    "args = dict(linewidth=3, facecolor='none')\n",
    "boxes = [\n",
    "    ax.add_patch(Rectangle((0,0), 3, 3, edgecolor=palette_subclass['LAMP5'], **args)),\n",
    "    ax.add_patch(Rectangle((3,3), 2, 2, edgecolor=palette_subclass['MC4R'], **args)),\n",
    "    ax.add_patch(Rectangle((5,5), 2, 2, edgecolor=palette_subclass['PAX6'], **args)),\n",
    "    ax.add_patch(Rectangle((7,7), 1, 1, edgecolor=palette_subclass['L1 VIP'], **args)),\n",
    "    ax.add_patch(Rectangle((8,8), 2, 2, edgecolor=palette_subclass['other'], **args)),\n",
    "]\n",
    "plt.legend(boxes, ['LAMP5', 'MC4R','PAX6','L1 VIP','other'], title='subclass',\n",
    "           bbox_to_anchor=(1.4, 0.5), loc='center left')\n",
    "plt.show()"
   ]
  },
  {
   "cell_type": "code",
   "execution_count": 51,
   "id": "cab8ed5d-4b26-4fe3-9031-0dc632bbb51d",
   "metadata": {},
   "outputs": [],
   "source": [
    "types = [\"277 TH Prkcd Grin2c Glut_3\",\n",
    "         \"280 TH Prkcd Grin2c Glut_6\"\n",
    "        ]"
   ]
  },
  {
   "cell_type": "code",
   "execution_count": 30,
   "id": "ffde1fb1-8c99-4096-ba29-b5f96ad43bcd",
   "metadata": {},
   "outputs": [
    {
     "name": "stdout",
     "output_type": "stream",
     "text": [
      "0\n"
     ]
    }
   ],
   "source": [
    "facs_dprime = tx_dprime(seqData, cluster_label='supertype_id_label', type_list=types, zero_inflated=False, r=1)"
   ]
  },
  {
   "cell_type": "code",
   "execution_count": 31,
   "id": "fdd2d8ed-3dda-4ba2-a531-b79a01ad89a1",
   "metadata": {},
   "outputs": [
    {
     "data": {
      "text/html": [
       "<div>\n",
       "<style scoped>\n",
       "    .dataframe tbody tr th:only-of-type {\n",
       "        vertical-align: middle;\n",
       "    }\n",
       "\n",
       "    .dataframe tbody tr th {\n",
       "        vertical-align: top;\n",
       "    }\n",
       "\n",
       "    .dataframe thead th {\n",
       "        text-align: right;\n",
       "    }\n",
       "</style>\n",
       "<table border=\"1\" class=\"dataframe\">\n",
       "  <thead>\n",
       "    <tr style=\"text-align: right;\">\n",
       "      <th></th>\n",
       "      <th>277 TH Prkcd Grin2c Glut_3</th>\n",
       "      <th>280 TH Prkcd Grin2c Glut_6</th>\n",
       "    </tr>\n",
       "  </thead>\n",
       "  <tbody>\n",
       "    <tr>\n",
       "      <th>277 TH Prkcd Grin2c Glut_3</th>\n",
       "      <td>0.000000</td>\n",
       "      <td>3.702156</td>\n",
       "    </tr>\n",
       "    <tr>\n",
       "      <th>280 TH Prkcd Grin2c Glut_6</th>\n",
       "      <td>3.702156</td>\n",
       "      <td>0.000000</td>\n",
       "    </tr>\n",
       "  </tbody>\n",
       "</table>\n",
       "</div>"
      ],
      "text/plain": [
       "                            277 TH Prkcd Grin2c Glut_3  \\\n",
       "277 TH Prkcd Grin2c Glut_3                    0.000000   \n",
       "280 TH Prkcd Grin2c Glut_6                    3.702156   \n",
       "\n",
       "                            280 TH Prkcd Grin2c Glut_6  \n",
       "277 TH Prkcd Grin2c Glut_3                    3.702156  \n",
       "280 TH Prkcd Grin2c Glut_6                    0.000000  "
      ]
     },
     "execution_count": 31,
     "metadata": {},
     "output_type": "execute_result"
    }
   ],
   "source": [
    "facs_dprime"
   ]
  },
  {
   "cell_type": "code",
   "execution_count": 54,
   "id": "25739069-ac37-4bfa-abc1-f9a5e5b0ab7a",
   "metadata": {},
   "outputs": [
    {
     "name": "stdout",
     "output_type": "stream",
     "text": [
      "0\n"
     ]
    },
    {
     "data": {
      "text/html": [
       "<div>\n",
       "<style scoped>\n",
       "    .dataframe tbody tr th:only-of-type {\n",
       "        vertical-align: middle;\n",
       "    }\n",
       "\n",
       "    .dataframe tbody tr th {\n",
       "        vertical-align: top;\n",
       "    }\n",
       "\n",
       "    .dataframe thead th {\n",
       "        text-align: right;\n",
       "    }\n",
       "</style>\n",
       "<table border=\"1\" class=\"dataframe\">\n",
       "  <thead>\n",
       "    <tr style=\"text-align: right;\">\n",
       "      <th></th>\n",
       "      <th>277 TH Prkcd Grin2c Glut_3</th>\n",
       "      <th>280 TH Prkcd Grin2c Glut_6</th>\n",
       "    </tr>\n",
       "  </thead>\n",
       "  <tbody>\n",
       "    <tr>\n",
       "      <th>277 TH Prkcd Grin2c Glut_3</th>\n",
       "      <td>0.000000</td>\n",
       "      <td>3.811872</td>\n",
       "    </tr>\n",
       "    <tr>\n",
       "      <th>280 TH Prkcd Grin2c Glut_6</th>\n",
       "      <td>3.811872</td>\n",
       "      <td>0.000000</td>\n",
       "    </tr>\n",
       "  </tbody>\n",
       "</table>\n",
       "</div>"
      ],
      "text/plain": [
       "                            277 TH Prkcd Grin2c Glut_3  \\\n",
       "277 TH Prkcd Grin2c Glut_3                    0.000000   \n",
       "280 TH Prkcd Grin2c Glut_6                    3.811872   \n",
       "\n",
       "                            280 TH Prkcd Grin2c Glut_6  \n",
       "277 TH Prkcd Grin2c Glut_3                    3.811872  \n",
       "280 TH Prkcd Grin2c Glut_6                    0.000000  "
      ]
     },
     "execution_count": 54,
     "metadata": {},
     "output_type": "execute_result"
    }
   ],
   "source": [
    "# higher r / lower dispersion\n",
    "tx_dprime(seqData, cluster_label='supertype_id_label', type_list=types, zero_inflated=False, r=10)"
   ]
  },
  {
   "cell_type": "code",
   "execution_count": null,
   "id": "9e91c295-bf56-4963-be88-0fe0dc5f88b5",
   "metadata": {},
   "outputs": [],
   "source": []
  },
  {
   "cell_type": "code",
   "execution_count": 32,
   "id": "58ebc30b-ad3d-40f7-9fbb-022710ade1b2",
   "metadata": {},
   "outputs": [
    {
     "name": "stdout",
     "output_type": "stream",
     "text": [
      "0\n"
     ]
    },
    {
     "data": {
      "text/html": [
       "<div>\n",
       "<style scoped>\n",
       "    .dataframe tbody tr th:only-of-type {\n",
       "        vertical-align: middle;\n",
       "    }\n",
       "\n",
       "    .dataframe tbody tr th {\n",
       "        vertical-align: top;\n",
       "    }\n",
       "\n",
       "    .dataframe thead th {\n",
       "        text-align: right;\n",
       "    }\n",
       "</style>\n",
       "<table border=\"1\" class=\"dataframe\">\n",
       "  <thead>\n",
       "    <tr style=\"text-align: right;\">\n",
       "      <th></th>\n",
       "      <th>277 TH Prkcd Grin2c Glut_3</th>\n",
       "      <th>280 TH Prkcd Grin2c Glut_6</th>\n",
       "    </tr>\n",
       "  </thead>\n",
       "  <tbody>\n",
       "    <tr>\n",
       "      <th>277 TH Prkcd Grin2c Glut_3</th>\n",
       "      <td>0.000000</td>\n",
       "      <td>3.464626</td>\n",
       "    </tr>\n",
       "    <tr>\n",
       "      <th>280 TH Prkcd Grin2c Glut_6</th>\n",
       "      <td>3.464626</td>\n",
       "      <td>0.000000</td>\n",
       "    </tr>\n",
       "  </tbody>\n",
       "</table>\n",
       "</div>"
      ],
      "text/plain": [
       "                            277 TH Prkcd Grin2c Glut_3  \\\n",
       "277 TH Prkcd Grin2c Glut_3                    0.000000   \n",
       "280 TH Prkcd Grin2c Glut_6                    3.464626   \n",
       "\n",
       "                            280 TH Prkcd Grin2c Glut_6  \n",
       "277 TH Prkcd Grin2c Glut_3                    3.464626  \n",
       "280 TH Prkcd Grin2c Glut_6                    0.000000  "
      ]
     },
     "execution_count": 32,
     "metadata": {},
     "output_type": "execute_result"
    }
   ],
   "source": [
    "tx_dprime(seqData, cluster_label='supertype_id_label', features=seqData.var_names[:10000], type_list=types, zero_inflated=False, r=1)"
   ]
  },
  {
   "cell_type": "code",
   "execution_count": 41,
   "id": "452f7fc9-4d58-4762-b5b4-c3750a35ff50",
   "metadata": {},
   "outputs": [
    {
     "name": "stderr",
     "output_type": "stream",
     "text": [
      "/opt/conda/lib/python3.9/site-packages/scanpy/preprocessing/_highly_variable_genes.py:62: UserWarning: `flavor='seurat_v3'` expects raw count data, but non-integers were found.\n",
      "  warnings.warn(\n"
     ]
    }
   ],
   "source": [
    "sc.pp.highly_variable_genes(seqData, flavor='seurat_v3', n_top_genes=10000)"
   ]
  },
  {
   "cell_type": "code",
   "execution_count": 42,
   "id": "df918d5c-3a11-4f78-bd4b-2a7b2c310ed1",
   "metadata": {},
   "outputs": [
    {
     "name": "stdout",
     "output_type": "stream",
     "text": [
      "0\n"
     ]
    },
    {
     "data": {
      "text/html": [
       "<div>\n",
       "<style scoped>\n",
       "    .dataframe tbody tr th:only-of-type {\n",
       "        vertical-align: middle;\n",
       "    }\n",
       "\n",
       "    .dataframe tbody tr th {\n",
       "        vertical-align: top;\n",
       "    }\n",
       "\n",
       "    .dataframe thead th {\n",
       "        text-align: right;\n",
       "    }\n",
       "</style>\n",
       "<table border=\"1\" class=\"dataframe\">\n",
       "  <thead>\n",
       "    <tr style=\"text-align: right;\">\n",
       "      <th></th>\n",
       "      <th>277 TH Prkcd Grin2c Glut_3</th>\n",
       "      <th>280 TH Prkcd Grin2c Glut_6</th>\n",
       "    </tr>\n",
       "  </thead>\n",
       "  <tbody>\n",
       "    <tr>\n",
       "      <th>277 TH Prkcd Grin2c Glut_3</th>\n",
       "      <td>0.000000</td>\n",
       "      <td>3.535094</td>\n",
       "    </tr>\n",
       "    <tr>\n",
       "      <th>280 TH Prkcd Grin2c Glut_6</th>\n",
       "      <td>3.535094</td>\n",
       "      <td>0.000000</td>\n",
       "    </tr>\n",
       "  </tbody>\n",
       "</table>\n",
       "</div>"
      ],
      "text/plain": [
       "                            277 TH Prkcd Grin2c Glut_3  \\\n",
       "277 TH Prkcd Grin2c Glut_3                    0.000000   \n",
       "280 TH Prkcd Grin2c Glut_6                    3.535094   \n",
       "\n",
       "                            280 TH Prkcd Grin2c Glut_6  \n",
       "277 TH Prkcd Grin2c Glut_3                    3.535094  \n",
       "280 TH Prkcd Grin2c Glut_6                    0.000000  "
      ]
     },
     "execution_count": 42,
     "metadata": {},
     "output_type": "execute_result"
    }
   ],
   "source": [
    "tx_dprime(seqData, cluster_label='supertype_id_label', features=seqData.var.query('highly_variable').index, type_list=types, zero_inflated=False, r=1)"
   ]
  },
  {
   "cell_type": "code",
   "execution_count": 43,
   "id": "f4cd2b5b-5cb3-4590-832a-2740a926229b",
   "metadata": {},
   "outputs": [
    {
     "name": "stderr",
     "output_type": "stream",
     "text": [
      "/opt/conda/lib/python3.9/site-packages/scanpy/experimental/pp/_highly_variable_genes.py:73: UserWarning: `flavor='pearson_residuals'` expects raw count data, but non-integers were found.\n",
      "  warnings.warn(\n"
     ]
    }
   ],
   "source": [
    "hvg = sc.experimental.pp.highly_variable_genes(seqData, n_top_genes=10000, inplace=False)"
   ]
  },
  {
   "cell_type": "code",
   "execution_count": 45,
   "id": "64d9e926-cbc8-4d6d-bb92-089b64344a8e",
   "metadata": {},
   "outputs": [
    {
     "name": "stdout",
     "output_type": "stream",
     "text": [
      "0\n"
     ]
    },
    {
     "data": {
      "text/html": [
       "<div>\n",
       "<style scoped>\n",
       "    .dataframe tbody tr th:only-of-type {\n",
       "        vertical-align: middle;\n",
       "    }\n",
       "\n",
       "    .dataframe tbody tr th {\n",
       "        vertical-align: top;\n",
       "    }\n",
       "\n",
       "    .dataframe thead th {\n",
       "        text-align: right;\n",
       "    }\n",
       "</style>\n",
       "<table border=\"1\" class=\"dataframe\">\n",
       "  <thead>\n",
       "    <tr style=\"text-align: right;\">\n",
       "      <th></th>\n",
       "      <th>277 TH Prkcd Grin2c Glut_3</th>\n",
       "      <th>280 TH Prkcd Grin2c Glut_6</th>\n",
       "    </tr>\n",
       "  </thead>\n",
       "  <tbody>\n",
       "    <tr>\n",
       "      <th>277 TH Prkcd Grin2c Glut_3</th>\n",
       "      <td>0.000000</td>\n",
       "      <td>3.219919</td>\n",
       "    </tr>\n",
       "    <tr>\n",
       "      <th>280 TH Prkcd Grin2c Glut_6</th>\n",
       "      <td>3.219919</td>\n",
       "      <td>0.000000</td>\n",
       "    </tr>\n",
       "  </tbody>\n",
       "</table>\n",
       "</div>"
      ],
      "text/plain": [
       "                            277 TH Prkcd Grin2c Glut_3  \\\n",
       "277 TH Prkcd Grin2c Glut_3                    0.000000   \n",
       "280 TH Prkcd Grin2c Glut_6                    3.219919   \n",
       "\n",
       "                            280 TH Prkcd Grin2c Glut_6  \n",
       "277 TH Prkcd Grin2c Glut_3                    3.219919  \n",
       "280 TH Prkcd Grin2c Glut_6                    0.000000  "
      ]
     },
     "execution_count": 45,
     "metadata": {},
     "output_type": "execute_result"
    }
   ],
   "source": [
    "tx_dprime(seqData, cluster_label='supertype_id_label', features=hvg.query('highly_variable').index, type_list=types, zero_inflated=False, r=1)"
   ]
  },
  {
   "cell_type": "code",
   "execution_count": null,
   "id": "00be6b6e-0bf3-4364-8c57-8ca5cc9e2cff",
   "metadata": {},
   "outputs": [],
   "source": []
  }
 ],
 "metadata": {
  "kernelspec": {
   "display_name": "Python 3",
   "language": "python",
   "name": "python3"
  },
  "language_info": {
   "codemirror_mode": {
    "name": "ipython",
    "version": 3
   },
   "file_extension": ".py",
   "mimetype": "text/x-python",
   "name": "python",
   "nbconvert_exporter": "python",
   "pygments_lexer": "ipython3",
   "version": "3.9.12"
  }
 },
 "nbformat": 4,
 "nbformat_minor": 5
}
