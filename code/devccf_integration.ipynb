{
 "cells": [
  {
   "cell_type": "code",
   "execution_count": 1,
   "metadata": {},
   "outputs": [],
   "source": [
    "\n",
    "import spatialdata as sd\n",
    "import pandas as pd\n",
    "import numpy as np\n",
    "import matplotlib.pyplot as plt\n",
    "from thalamus_merfish_analysis import abc_load as abc\n",
    "from thalamus_merfish_analysis import ccf_registration as ccf\n",
    "from thalamus_merfish_analysis import ccf_transforms as ccft\n",
    "%matplotlib inline"
   ]
  },
  {
   "cell_type": "code",
   "execution_count": 2,
   "metadata": {},
   "outputs": [],
   "source": [
    "import nibabel\n",
    "\n",
    "img = nibabel.load(\"/data/KimLabDevCCFv001/KimLabDevCCFv001_Annotations_ASL_Oriented_10um.nii.gz\")"
   ]
  },
  {
   "cell_type": "code",
   "execution_count": 3,
   "metadata": {},
   "outputs": [
    {
     "data": {
      "text/plain": [
       "(1320, 800, 1140)"
      ]
     },
     "execution_count": 3,
     "metadata": {},
     "output_type": "execute_result"
    }
   ],
   "source": [
    "img.shape"
   ]
  },
  {
   "cell_type": "code",
   "execution_count": 4,
   "metadata": {},
   "outputs": [],
   "source": [
    "imdata = np.array(img.dataobj).astype(int)"
   ]
  },
  {
   "cell_type": "code",
   "execution_count": 5,
   "metadata": {},
   "outputs": [
    {
     "data": {
      "text/plain": [
       "(1320, 800, 1140)"
      ]
     },
     "execution_count": 5,
     "metadata": {},
     "output_type": "execute_result"
    }
   ],
   "source": [
    "img_ccf = abc.get_ccf_labels_image(resampled=False)\n",
    "img_ccf.shape\n"
   ]
  },
  {
   "cell_type": "code",
   "execution_count": 6,
   "metadata": {},
   "outputs": [],
   "source": [
    "df = abc.get_combined_metadata(realigned=True)"
   ]
  },
  {
   "cell_type": "code",
   "execution_count": 7,
   "metadata": {},
   "outputs": [],
   "source": [
    "\n",
    "coords = ['x_section', 'y_section', 'z_section']\n",
    "slice_label = 'slice_int'\n",
    "df[slice_label] = df['z_section'].apply(lambda x: int(x*10))\n",
    "\n",
    "transforms_by_section = ccf.read_quicknii_file(\"/code/resources/quicknii_transforms_20231010.json\", scale=25)\n",
    "minmax = pd.read_csv(\"/code/resources/brain3_thalamus_coordinate_bounds.csv\", index_col=0)\n",
    "\n",
    "# load to spatialdata\n",
    "norm_transform = ccft.get_normalizing_transform(\n",
    "                                           min_xy=minmax.loc['min'].values, \n",
    "                                           max_xy=minmax.loc['max'].values, \n",
    "                                           flip_y=True)\n",
    "cells_by_section = ccft.parse_cells_by_section(df, transforms_by_section, norm_transform, coords, slice_label=slice_label)\n",
    "sdata = sd.SpatialData.from_elements_dict(cells_by_section)\n"
   ]
  },
  {
   "cell_type": "code",
   "execution_count": 8,
   "metadata": {},
   "outputs": [
    {
     "name": "stdout",
     "output_type": "stream",
     "text": [
      "\u001b[34mINFO    \u001b[0m Transposing `data` of type: \u001b[1m<\u001b[0m\u001b[1;95mclass\u001b[0m\u001b[39m \u001b[0m\u001b[32m'dask.array.core.Array'\u001b[0m\u001b[1m>\u001b[0m to \u001b[1m(\u001b[0m\u001b[32m'z'\u001b[0m, \u001b[32m'y'\u001b[0m, \u001b[32m'x'\u001b[0m\u001b[1m)\u001b[0m.                           \n"
     ]
    }
   ],
   "source": [
    "\n",
    "# saving resampled images\n",
    "img_transform = sd.transformations.Scale(10e-3*np.ones(3), 'xyz')\n",
    "labels = sd.models.Labels3DModel.parse(imdata, dims='xyz', transformations={'ccf': img_transform})\n",
    "sdata.add_labels('ccf_regions', labels)\n"
   ]
  },
  {
   "cell_type": "code",
   "execution_count": 13,
   "metadata": {},
   "outputs": [
    {
     "data": {
      "text/plain": [
       "<module 'thalamus_merfish_analysis.ccf_transforms' from '/root/capsule/code/thalamus_merfish_analysis/ccf_transforms.py'>"
      ]
     },
     "execution_count": 13,
     "metadata": {},
     "output_type": "execute_result"
    }
   ],
   "source": [
    "from importlib import reload\n",
    "reload(ccft)"
   ]
  },
  {
   "cell_type": "code",
   "execution_count": 27,
   "metadata": {},
   "outputs": [
    {
     "data": {
      "text/plain": [
       "5.0"
      ]
     },
     "execution_count": 27,
     "metadata": {},
     "output_type": "execute_result"
    }
   ],
   "source": []
  },
  {
   "cell_type": "code",
   "execution_count": 14,
   "metadata": {},
   "outputs": [
    {
     "ename": "TypeError",
     "evalue": "'<' not supported between instances of 'int' and 'str'",
     "output_type": "error",
     "traceback": [
      "\u001b[0;31m---------------------------------------------------------------------------\u001b[0m",
      "\u001b[0;31mTypeError\u001b[0m                                 Traceback (most recent call last)",
      "\u001b[1;32m/root/capsule/code/devccf_integration.ipynb Cell 10\u001b[0m line \u001b[0;36m1\n\u001b[1;32m      <a href='vscode-notebook-cell://codeocean.allenneuraldynamics.org/root/capsule/code/devccf_integration.ipynb#X11sdnNjb2RlLXJlbW90ZQ%3D%3D?line=7'>8</a>\u001b[0m source \u001b[39m=\u001b[39m sdata[\u001b[39m'\u001b[39m\u001b[39mccf_regions\u001b[39m\u001b[39m'\u001b[39m]\n\u001b[1;32m      <a href='vscode-notebook-cell://codeocean.allenneuraldynamics.org/root/capsule/code/devccf_integration.ipynb#X11sdnNjb2RlLXJlbW90ZQ%3D%3D?line=8'>9</a>\u001b[0m scale \u001b[39m=\u001b[39m \u001b[39m10e-3\u001b[39m\n\u001b[0;32m---> <a href='vscode-notebook-cell://codeocean.allenneuraldynamics.org/root/capsule/code/devccf_integration.ipynb#X11sdnNjb2RlLXJlbW90ZQ%3D%3D?line=9'>10</a>\u001b[0m target_img, target_grid_transform \u001b[39m=\u001b[39m ccft\u001b[39m.\u001b[39;49mmap_image_to_slice(sdata, imdata, source, target, scale\u001b[39m=\u001b[39;49mscale, ngrid\u001b[39m=\u001b[39;49mngrid, centered\u001b[39m=\u001b[39;49m\u001b[39mFalse\u001b[39;49;00m)\n\u001b[1;32m     <a href='vscode-notebook-cell://codeocean.allenneuraldynamics.org/root/capsule/code/devccf_integration.ipynb#X11sdnNjb2RlLXJlbW90ZQ%3D%3D?line=10'>11</a>\u001b[0m img_stack[:,:,i] \u001b[39m=\u001b[39m target_img\u001b[39m.\u001b[39mT\n",
      "File \u001b[0;32m~/capsule/code/thalamus_merfish_analysis/ccf_transforms.py:67\u001b[0m, in \u001b[0;36mmap_image_to_slice\u001b[0;34m(sdata, imdata, source, target, centered, scale, ngrid)\u001b[0m\n\u001b[1;32m     65\u001b[0m     source_points, target_grid_transform \u001b[39m=\u001b[39m get_sample_points_centered(sdata, source, target, scale, ngrid)\n\u001b[1;32m     66\u001b[0m \u001b[39melse\u001b[39;00m:\n\u001b[0;32m---> 67\u001b[0m     source_points, target_grid_transform \u001b[39m=\u001b[39m get_sample_points_square(sdata, source, target, scale, ngrid)\n\u001b[1;32m     68\u001b[0m \u001b[39m# scipy.ndimage evaluates at integers not pixel centers\u001b[39;00m\n\u001b[1;32m     69\u001b[0m points \u001b[39m=\u001b[39m source_points[[\u001b[39m'\u001b[39m\u001b[39mx\u001b[39m\u001b[39m'\u001b[39m,\u001b[39m'\u001b[39m\u001b[39my\u001b[39m\u001b[39m'\u001b[39m,\u001b[39m'\u001b[39m\u001b[39mz\u001b[39m\u001b[39m'\u001b[39m]]\u001b[39m.\u001b[39mvalues\u001b[39m.\u001b[39mT \u001b[39m-\u001b[39m \u001b[39m0.5\u001b[39m\n",
      "File \u001b[0;32m~/capsule/code/thalamus_merfish_analysis/ccf_transforms.py:44\u001b[0m, in \u001b[0;36mget_sample_points_square\u001b[0;34m(sdata, source, target, scale, ngrid)\u001b[0m\n\u001b[1;32m     42\u001b[0m \u001b[39mdef\u001b[39;00m \u001b[39mget_sample_points_square\u001b[39m(sdata, source, target, scale\u001b[39m=\u001b[39m\u001b[39mNone\u001b[39;00m, ngrid\u001b[39m=\u001b[39m\u001b[39m1100\u001b[39m):\n\u001b[1;32m     43\u001b[0m     inv_transform \u001b[39m=\u001b[39m sd\u001b[39m.\u001b[39mtransformations\u001b[39m.\u001b[39mget_transformation_between_coordinate_systems(sdata, target, source)\n\u001b[0;32m---> 44\u001b[0m     target_z \u001b[39m=\u001b[39m target[\u001b[39m'\u001b[39;49m\u001b[39mz\u001b[39;49m\u001b[39m'\u001b[39;49m][\u001b[39m0\u001b[39;49m]\n\u001b[1;32m     45\u001b[0m     \u001b[39m# xyz grid (pixel centers)\u001b[39;00m\n\u001b[1;32m     46\u001b[0m     grid \u001b[39m=\u001b[39m np\u001b[39m.\u001b[39mstack((\u001b[39m*\u001b[39mnp\u001b[39m.\u001b[39mmgrid[\u001b[39m0\u001b[39m:ngrid, \u001b[39m0\u001b[39m:ngrid][::\u001b[39m-\u001b[39m\u001b[39m1\u001b[39m], np\u001b[39m.\u001b[39mzeros((ngrid, ngrid))), axis\u001b[39m=\u001b[39m\u001b[39m0\u001b[39m)\n",
      "File \u001b[0;32m/opt/conda/lib/python3.9/site-packages/dask/dataframe/core.py:4265\u001b[0m, in \u001b[0;36mSeries.__getitem__\u001b[0;34m(self, key)\u001b[0m\n\u001b[1;32m   4263\u001b[0m     graph \u001b[39m=\u001b[39m HighLevelGraph\u001b[39m.\u001b[39mfrom_collections(name, dsk, dependencies\u001b[39m=\u001b[39m[\u001b[39mself\u001b[39m, key])\n\u001b[1;32m   4264\u001b[0m     \u001b[39mreturn\u001b[39;00m Series(graph, name, \u001b[39mself\u001b[39m\u001b[39m.\u001b[39m_meta, \u001b[39mself\u001b[39m\u001b[39m.\u001b[39mdivisions)\n\u001b[0;32m-> 4265\u001b[0m \u001b[39mreturn\u001b[39;00m \u001b[39mself\u001b[39;49m\u001b[39m.\u001b[39;49mloc[key]\n",
      "File \u001b[0;32m/opt/conda/lib/python3.9/site-packages/dask/dataframe/indexing.py:104\u001b[0m, in \u001b[0;36m_LocIndexer.__getitem__\u001b[0;34m(self, key)\u001b[0m\n\u001b[1;32m    102\u001b[0m     iindexer \u001b[39m=\u001b[39m key\n\u001b[1;32m    103\u001b[0m     cindexer \u001b[39m=\u001b[39m \u001b[39mNone\u001b[39;00m\n\u001b[0;32m--> 104\u001b[0m \u001b[39mreturn\u001b[39;00m \u001b[39mself\u001b[39;49m\u001b[39m.\u001b[39;49m_loc(iindexer, cindexer)\n",
      "File \u001b[0;32m/opt/conda/lib/python3.9/site-packages/dask/dataframe/indexing.py:126\u001b[0m, in \u001b[0;36m_LocIndexer._loc\u001b[0;34m(self, iindexer, cindexer)\u001b[0m\n\u001b[1;32m    123\u001b[0m         \u001b[39mreturn\u001b[39;00m \u001b[39mself\u001b[39m\u001b[39m.\u001b[39m_loc_list(iindexer, cindexer)\n\u001b[1;32m    124\u001b[0m     \u001b[39melse\u001b[39;00m:\n\u001b[1;32m    125\u001b[0m         \u001b[39m# element should raise KeyError\u001b[39;00m\n\u001b[0;32m--> 126\u001b[0m         \u001b[39mreturn\u001b[39;00m \u001b[39mself\u001b[39;49m\u001b[39m.\u001b[39;49m_loc_element(iindexer, cindexer)\n\u001b[1;32m    127\u001b[0m \u001b[39melse\u001b[39;00m:\n\u001b[1;32m    128\u001b[0m     \u001b[39mif\u001b[39;00m \u001b[39misinstance\u001b[39m(iindexer, (\u001b[39mlist\u001b[39m, np\u001b[39m.\u001b[39mndarray)) \u001b[39mor\u001b[39;00m (\n\u001b[1;32m    129\u001b[0m         is_series_like(iindexer) \u001b[39mand\u001b[39;00m \u001b[39mnot\u001b[39;00m is_bool_dtype(iindexer\u001b[39m.\u001b[39mdtype)\n\u001b[1;32m    130\u001b[0m     ):\n\u001b[1;32m    131\u001b[0m         \u001b[39m# applying map_partitions to each partition\u001b[39;00m\n\u001b[1;32m    132\u001b[0m         \u001b[39m# results in duplicated NaN rows\u001b[39;00m\n",
      "File \u001b[0;32m/opt/conda/lib/python3.9/site-packages/dask/dataframe/indexing.py:194\u001b[0m, in \u001b[0;36m_LocIndexer._loc_element\u001b[0;34m(self, iindexer, cindexer)\u001b[0m\n\u001b[1;32m    192\u001b[0m \u001b[39mdef\u001b[39;00m \u001b[39m_loc_element\u001b[39m(\u001b[39mself\u001b[39m, iindexer, cindexer):\n\u001b[1;32m    193\u001b[0m     name \u001b[39m=\u001b[39m \u001b[39m\"\u001b[39m\u001b[39mloc-\u001b[39m\u001b[39m%s\u001b[39;00m\u001b[39m\"\u001b[39m \u001b[39m%\u001b[39m tokenize(iindexer, \u001b[39mself\u001b[39m\u001b[39m.\u001b[39mobj)\n\u001b[0;32m--> 194\u001b[0m     part \u001b[39m=\u001b[39m \u001b[39mself\u001b[39;49m\u001b[39m.\u001b[39;49m_get_partitions(iindexer)\n\u001b[1;32m    196\u001b[0m     \u001b[39mif\u001b[39;00m iindexer \u001b[39m<\u001b[39m \u001b[39mself\u001b[39m\u001b[39m.\u001b[39mobj\u001b[39m.\u001b[39mdivisions[\u001b[39m0\u001b[39m] \u001b[39mor\u001b[39;00m iindexer \u001b[39m>\u001b[39m \u001b[39mself\u001b[39m\u001b[39m.\u001b[39mobj\u001b[39m.\u001b[39mdivisions[\u001b[39m-\u001b[39m\u001b[39m1\u001b[39m]:\n\u001b[1;32m    197\u001b[0m         \u001b[39mraise\u001b[39;00m \u001b[39mKeyError\u001b[39;00m(\u001b[39m\"\u001b[39m\u001b[39mthe label [\u001b[39m\u001b[39m%s\u001b[39;00m\u001b[39m] is not in the index\u001b[39m\u001b[39m\"\u001b[39m \u001b[39m%\u001b[39m \u001b[39mstr\u001b[39m(iindexer))\n",
      "File \u001b[0;32m/opt/conda/lib/python3.9/site-packages/dask/dataframe/indexing.py:217\u001b[0m, in \u001b[0;36m_LocIndexer._get_partitions\u001b[0;34m(self, keys)\u001b[0m\n\u001b[1;32m    214\u001b[0m     \u001b[39mreturn\u001b[39;00m _partitions_of_index_values(\u001b[39mself\u001b[39m\u001b[39m.\u001b[39mobj\u001b[39m.\u001b[39mdivisions, keys)\n\u001b[1;32m    215\u001b[0m \u001b[39melse\u001b[39;00m:\n\u001b[1;32m    216\u001b[0m     \u001b[39m# element\u001b[39;00m\n\u001b[0;32m--> 217\u001b[0m     \u001b[39mreturn\u001b[39;00m _partition_of_index_value(\u001b[39mself\u001b[39;49m\u001b[39m.\u001b[39;49mobj\u001b[39m.\u001b[39;49mdivisions, keys)\n",
      "File \u001b[0;32m/opt/conda/lib/python3.9/site-packages/dask/dataframe/indexing.py:328\u001b[0m, in \u001b[0;36m_partition_of_index_value\u001b[0;34m(divisions, val)\u001b[0m\n\u001b[1;32m    326\u001b[0m     \u001b[39mraise\u001b[39;00m \u001b[39mValueError\u001b[39;00m(msg)\n\u001b[1;32m    327\u001b[0m val \u001b[39m=\u001b[39m _coerce_loc_index(divisions, val)\n\u001b[0;32m--> 328\u001b[0m i \u001b[39m=\u001b[39m bisect\u001b[39m.\u001b[39;49mbisect_right(divisions, val)\n\u001b[1;32m    329\u001b[0m \u001b[39mreturn\u001b[39;00m \u001b[39mmin\u001b[39m(\u001b[39mlen\u001b[39m(divisions) \u001b[39m-\u001b[39m \u001b[39m2\u001b[39m, \u001b[39mmax\u001b[39m(\u001b[39m0\u001b[39m, i \u001b[39m-\u001b[39m \u001b[39m1\u001b[39m))\n",
      "\u001b[0;31mTypeError\u001b[0m: '<' not supported between instances of 'int' and 'str'"
     ]
    }
   ],
   "source": [
    "\n",
    "ngrid = 1100\n",
    "nz = 76\n",
    "z_res = 2\n",
    "img_stack = np.zeros((ngrid, ngrid, nz), dtype=int)\n",
    "for section in sdata.points.keys():\n",
    "    i = int(np.rint(int(section)/z_res))\n",
    "    target = sdata[section]\n",
    "    source = sdata['ccf_regions']\n",
    "    scale = 10e-3\n",
    "    target_img, target_grid_transform = ccft.map_image_to_slice(sdata, imdata, source, target, scale=scale, ngrid=ngrid, centered=False)\n",
    "    img_stack[:,:,i] = target_img.T"
   ]
  },
  {
   "cell_type": "code",
   "execution_count": 31,
   "metadata": {},
   "outputs": [],
   "source": [
    "import nibabel\n",
    "nifti_img = nibabel.Nifti1Image(img_stack, affine=np.eye(4), dtype='int64')\n",
    "\n",
    "# Save the NIfTI1Image object as .nii file\n",
    "nibabel.save(nifti_img, '/scratch/labels.nii.gz')"
   ]
  },
  {
   "cell_type": "code",
   "execution_count": 34,
   "metadata": {},
   "outputs": [
    {
     "data": {
      "text/plain": [
       "<matplotlib.image.AxesImage at 0x7fdcc90a5e50>"
      ]
     },
     "execution_count": 34,
     "metadata": {},
     "output_type": "execute_result"
    },
    {
     "data": {
      "image/png": "[encoded data removed]",
      "text/plain": [
       "<Figure size 640x480 with 1 Axes>"
      ]
     },
     "metadata": {},
     "output_type": "display_data"
    }
   ],
   "source": [
    "X = img_stack[:,:,int(np.rint(int(80)/z_res))].T\n",
    "# X = np.where(X==0, np.nan, X)\n",
    "plt.imshow(X)\n"
   ]
  },
  {
   "cell_type": "code",
   "execution_count": 22,
   "metadata": {},
   "outputs": [],
   "source": [
    "th_top_level = ['ZIC', 'CZI', 'Th']\n",
    "\n",
    "import networkx as nx\n",
    "import pandas as pd\n",
    "\n",
    "devccf_index = pd.read_csv(\"/data/KimLabDevCCFv001/KimLabDevCCFv001_MouseOntologyStructure.csv\",\n",
    "                           dtype={'ID':str, 'Parent ID':str})\n",
    "# some quotes have both single and double\n",
    "for x in ['Acronym','Name']:\n",
    "    devccf_index[x] = devccf_index[x].str.replace(\"'\",\"\")\n",
    "    \n",
    "g = nx.from_pandas_edgelist(devccf_index, source='Parent ID', target='ID', \n",
    "                            create_using=nx.DiGraph())\n",
    "devccf_index = devccf_index.set_index('Acronym')\n",
    "th_ids = list(set.union(*(set(nx.descendants(g, devccf_index.loc[x, 'ID'])) \n",
    "                   for x in th_top_level)))\n",
    "th_names = devccf_index.reset_index().set_index('ID').loc[th_ids, 'Acronym']"
   ]
  },
  {
   "cell_type": "code",
   "execution_count": 23,
   "metadata": {},
   "outputs": [
    {
     "data": {
      "text/plain": [
       "122"
      ]
     },
     "execution_count": 23,
     "metadata": {},
     "output_type": "execute_result"
    }
   ],
   "source": [
    "len(th_ids)"
   ]
  },
  {
   "cell_type": "code",
   "execution_count": 32,
   "metadata": {},
   "outputs": [],
   "source": [
    "devccf_index = pd.read_csv(\"/data/KimLabDevCCFv001/KimLabDevCCFv001_MouseOntologyStructure.csv\",\n",
    "                           dtype={'ID':int, 'Parent ID':str})\n",
    "# some quotes have both single and double\n",
    "for x in ['Acronym','Name']:\n",
    "    devccf_index[x] = devccf_index[x].str.replace(\"'\",\"\")\n",
    "    \n"
   ]
  },
  {
   "cell_type": "code",
   "execution_count": 35,
   "metadata": {},
   "outputs": [
    {
     "data": {
      "text/plain": [
       "0    NaN\n",
       "1    NaN\n",
       "dtype: object"
      ]
     },
     "execution_count": 35,
     "metadata": {},
     "output_type": "execute_result"
    }
   ],
   "source": [
    "pd.Series([0,1]).map(\n",
    "    devccf_index.set_index('ID').to_dict())"
   ]
  },
  {
   "cell_type": "code",
   "execution_count": null,
   "metadata": {},
   "outputs": [],
   "source": []
  }
 ],
 "metadata": {
  "kernelspec": {
   "display_name": "base",
   "language": "python",
   "name": "python3"
  },
  "language_info": {
   "codemirror_mode": {
    "name": "ipython",
    "version": 3
   },
   "file_extension": ".py",
   "mimetype": "text/x-python",
   "name": "python",
   "nbconvert_exporter": "python",
   "pygments_lexer": "ipython3",
   "version": "3.9.12"
  }
 },
 "nbformat": 4,
 "nbformat_minor": 2
}
