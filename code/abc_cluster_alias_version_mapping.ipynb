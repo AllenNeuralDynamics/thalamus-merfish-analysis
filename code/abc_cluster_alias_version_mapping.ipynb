{
 "cells": [
  {
   "cell_type": "code",
   "execution_count": 1,
   "id": "5b5c9de0-20bd-4b4c-b084-42c5444076ae",
   "metadata": {
    "tags": []
   },
   "outputs": [],
   "source": [
    "%load_ext autoreload\n",
    "%autoreload 2"
   ]
  },
  {
   "cell_type": "code",
   "execution_count": 2,
   "id": "a3728593-35a0-4238-a14e-237f364fd932",
   "metadata": {
    "tags": []
   },
   "outputs": [],
   "source": [
    "import abc_load as abc"
   ]
  },
  {
   "cell_type": "code",
   "execution_count": 3,
   "id": "dd2e015e-6918-4ef6-903b-a6fad2926460",
   "metadata": {
    "tags": []
   },
   "outputs": [],
   "source": [
    "import anndata as ad\n",
    "import numpy as np\n",
    "import pandas as pd"
   ]
  },
  {
   "cell_type": "code",
   "execution_count": 4,
   "id": "6b52e087-5507-4849-812c-02197ed49948",
   "metadata": {
    "tags": []
   },
   "outputs": [],
   "source": [
    "prong1_cluster_annotations_file = '../code/resources/Prong 1 Vitessce links by nucleus.csv'\n",
    "prong1_df = pd.read_csv(prong1_cluster_annotations_file)"
   ]
  },
  {
   "cell_type": "code",
   "execution_count": 5,
   "id": "a7342de3-3728-4901-a62e-df74ea6d9051",
   "metadata": {
    "tags": []
   },
   "outputs": [
    {
     "data": {
      "text/html": [
       "<div>\n",
       "<style scoped>\n",
       "    .dataframe tbody tr th:only-of-type {\n",
       "        vertical-align: middle;\n",
       "    }\n",
       "\n",
       "    .dataframe tbody tr th {\n",
       "        vertical-align: top;\n",
       "    }\n",
       "\n",
       "    .dataframe thead th {\n",
       "        text-align: right;\n",
       "    }\n",
       "</style>\n",
       "<table border=\"1\" class=\"dataframe\">\n",
       "  <thead>\n",
       "    <tr style=\"text-align: right;\">\n",
       "      <th></th>\n",
       "      <th>nuclei</th>\n",
       "      <th>annotated subclasses</th>\n",
       "      <th>annotated supertypes</th>\n",
       "      <th>annotated clusters</th>\n",
       "      <th>viewer link</th>\n",
       "      <th>notes for next update (e.g. remove cluster x)</th>\n",
       "    </tr>\n",
       "  </thead>\n",
       "  <tbody>\n",
       "    <tr>\n",
       "      <th>0</th>\n",
       "      <td>AD</td>\n",
       "      <td>065 AD Serpinb7 Glut</td>\n",
       "      <td>0257 AD Serpinb7 Glut</td>\n",
       "      <td>1095, 1096</td>\n",
       "      <td>http://vitessce.io/?url=data:,%7B%22version%22...</td>\n",
       "      <td></td>\n",
       "    </tr>\n",
       "    <tr>\n",
       "      <th>1</th>\n",
       "      <td>AM</td>\n",
       "      <td>069 TH Prkcd Grin2c Glut</td>\n",
       "      <td>0283 TH Prkcd Grin2c Glut_9, 0282 TH Prkcd Gri...</td>\n",
       "      <td>1169, 1163, 1170, 1171</td>\n",
       "      <td>http://vitessce.io/?url=data:,%7B%22version%22...</td>\n",
       "      <td></td>\n",
       "    </tr>\n",
       "    <tr>\n",
       "      <th>2</th>\n",
       "      <td>AV</td>\n",
       "      <td>066 AV Col27a1 Glut</td>\n",
       "      <td>0258 AV Col27a1 Glut</td>\n",
       "      <td>1097, 1098</td>\n",
       "      <td>http://vitessce.io/?url=data:,%7B%22version%22...</td>\n",
       "      <td></td>\n",
       "    </tr>\n",
       "    <tr>\n",
       "      <th>3</th>\n",
       "      <td>CM</td>\n",
       "      <td>068 CM-IAD-CL-PCN Glut</td>\n",
       "      <td>0266 CM-IAD-CL-PCN Glut_2</td>\n",
       "      <td>1119, 1120, 1121</td>\n",
       "      <td>http://vitessce.io/?url=data:,%7B%22version%22...</td>\n",
       "      <td></td>\n",
       "    </tr>\n",
       "    <tr>\n",
       "      <th>4</th>\n",
       "      <td>CM PCN CL</td>\n",
       "      <td>068 CM-IAD-CL-PCN Glut</td>\n",
       "      <td>0265 CM-IAD-CL-PCN Glut_1</td>\n",
       "      <td>1116, 1115, 1117, 1118</td>\n",
       "      <td>http://vitessce.io/?url=data:,%7B%22version%22...</td>\n",
       "      <td></td>\n",
       "    </tr>\n",
       "  </tbody>\n",
       "</table>\n",
       "</div>"
      ],
      "text/plain": [
       "      nuclei      annotated subclasses  \\\n",
       "0         AD      065 AD Serpinb7 Glut   \n",
       "1         AM  069 TH Prkcd Grin2c Glut   \n",
       "2         AV       066 AV Col27a1 Glut   \n",
       "3         CM    068 CM-IAD-CL-PCN Glut   \n",
       "4  CM PCN CL    068 CM-IAD-CL-PCN Glut   \n",
       "\n",
       "                                annotated supertypes      annotated clusters  \\\n",
       "0                              0257 AD Serpinb7 Glut              1095, 1096   \n",
       "1  0283 TH Prkcd Grin2c Glut_9, 0282 TH Prkcd Gri...  1169, 1163, 1170, 1171   \n",
       "2                               0258 AV Col27a1 Glut              1097, 1098   \n",
       "3                          0266 CM-IAD-CL-PCN Glut_2        1119, 1120, 1121   \n",
       "4                          0265 CM-IAD-CL-PCN Glut_1  1116, 1115, 1117, 1118   \n",
       "\n",
       "                                         viewer link  \\\n",
       "0  http://vitessce.io/?url=data:,%7B%22version%22...   \n",
       "1  http://vitessce.io/?url=data:,%7B%22version%22...   \n",
       "2  http://vitessce.io/?url=data:,%7B%22version%22...   \n",
       "3  http://vitessce.io/?url=data:,%7B%22version%22...   \n",
       "4  http://vitessce.io/?url=data:,%7B%22version%22...   \n",
       "\n",
       "  notes for next update (e.g. remove cluster x)  \n",
       "0                                                \n",
       "1                                                \n",
       "2                                                \n",
       "3                                                \n",
       "4                                                "
      ]
     },
     "execution_count": 5,
     "metadata": {},
     "output_type": "execute_result"
    }
   ],
   "source": [
    "prong1_df.head(5)"
   ]
  },
  {
   "cell_type": "code",
   "execution_count": 6,
   "id": "3e5a18bc-3208-4815-9b30-f14ec1d1f221",
   "metadata": {
    "tags": []
   },
   "outputs": [],
   "source": [
    "file = 'cluster_to_cluster_annotation_membership.csv'\n",
    "cluster_memb_df_20230630 = pd.read_csv(\n",
    "                            abc.ABC_ROOT/f'metadata/WMB-taxonomy/20230630/{file}'\n",
    "                            )\n",
    "\n",
    "cluster_memb_df_20230830 = pd.read_csv(\n",
    "                            abc.ABC_ROOT/f'metadata/WMB-taxonomy/20230830/{file}'\n",
    "                            )\n",
    "\n",
    "cluster_memb_df_20231215 = pd.read_csv(\n",
    "                            abc.ABC_ROOT/f'metadata/WMB-taxonomy/20231215/{file}'\n",
    "                            )"
   ]
  },
  {
   "cell_type": "markdown",
   "id": "1a9b5a13-7772-4b0f-9c83-f5a0d47b996f",
   "metadata": {},
   "source": [
    "# Taxonomy comparison"
   ]
  },
  {
   "cell_type": "markdown",
   "id": "41008ea9-855c-42f2-87d2-5ee329d78b4f",
   "metadata": {},
   "source": [
    "## How do the versions cluster id #s compare?"
   ]
  },
  {
   "cell_type": "code",
   "execution_count": 7,
   "id": "c1b65f7e-b625-4340-aa93-73bc835fe34f",
   "metadata": {
    "tags": []
   },
   "outputs": [],
   "source": [
    "# compare known mapping for anterior nuclei cluster ids\n",
    "# 20230630:\n",
    "#  - AD: 1095, 1096\n",
    "#\n",
    "# 20230830: \n",
    "#  - AD: 2613, 2614"
   ]
  },
  {
   "cell_type": "code",
   "execution_count": 8,
   "id": "19379e6d-45e5-4cf8-ad55-ad4b94c4e1cf",
   "metadata": {
    "tags": []
   },
   "outputs": [
    {
     "data": {
      "text/html": [
       "<div>\n",
       "<style scoped>\n",
       "    .dataframe tbody tr th:only-of-type {\n",
       "        vertical-align: middle;\n",
       "    }\n",
       "\n",
       "    .dataframe tbody tr th {\n",
       "        vertical-align: top;\n",
       "    }\n",
       "\n",
       "    .dataframe thead th {\n",
       "        text-align: right;\n",
       "    }\n",
       "</style>\n",
       "<table border=\"1\" class=\"dataframe\">\n",
       "  <thead>\n",
       "    <tr style=\"text-align: right;\">\n",
       "      <th></th>\n",
       "      <th>cluster_annotation_term_label</th>\n",
       "      <th>cluster_annotation_term_set_label</th>\n",
       "      <th>cluster_alias</th>\n",
       "      <th>cluster_annotation_term_name</th>\n",
       "      <th>cluster_annotation_term_set_name</th>\n",
       "      <th>number_of_cells</th>\n",
       "      <th>color_hex_triplet</th>\n",
       "    </tr>\n",
       "  </thead>\n",
       "  <tbody>\n",
       "    <tr>\n",
       "      <th>2612</th>\n",
       "      <td>CS20230722_CLUS_2613</td>\n",
       "      <td>CCN20230722_CLUS</td>\n",
       "      <td>5020</td>\n",
       "      <td>2613 AD Serpinb7 Glut_1</td>\n",
       "      <td>cluster</td>\n",
       "      <td>587</td>\n",
       "      <td>#CC6D3D</td>\n",
       "    </tr>\n",
       "  </tbody>\n",
       "</table>\n",
       "</div>"
      ],
      "text/plain": [
       "     cluster_annotation_term_label cluster_annotation_term_set_label  \\\n",
       "2612          CS20230722_CLUS_2613                  CCN20230722_CLUS   \n",
       "\n",
       "      cluster_alias cluster_annotation_term_name  \\\n",
       "2612           5020      2613 AD Serpinb7 Glut_1   \n",
       "\n",
       "     cluster_annotation_term_set_name  number_of_cells color_hex_triplet  \n",
       "2612                          cluster              587           #CC6D3D  "
      ]
     },
     "execution_count": 8,
     "metadata": {},
     "output_type": "execute_result"
    }
   ],
   "source": [
    "# 20230830 version's cluster 2613 matches the AD supertype\n",
    "cluster_memb_df_20230830[(cluster_memb_df_20230830['cluster_annotation_term_set_name']=='cluster')\n",
    "                        & (cluster_memb_df_20230830['cluster_annotation_term_name'].str.contains('2613'))]"
   ]
  },
  {
   "cell_type": "code",
   "execution_count": 9,
   "id": "2027fa40-cf11-4192-99ee-8616c574a380",
   "metadata": {
    "tags": []
   },
   "outputs": [
    {
     "data": {
      "text/html": [
       "<div>\n",
       "<style scoped>\n",
       "    .dataframe tbody tr th:only-of-type {\n",
       "        vertical-align: middle;\n",
       "    }\n",
       "\n",
       "    .dataframe tbody tr th {\n",
       "        vertical-align: top;\n",
       "    }\n",
       "\n",
       "    .dataframe thead th {\n",
       "        text-align: right;\n",
       "    }\n",
       "</style>\n",
       "<table border=\"1\" class=\"dataframe\">\n",
       "  <thead>\n",
       "    <tr style=\"text-align: right;\">\n",
       "      <th></th>\n",
       "      <th>cluster_annotation_term_label</th>\n",
       "      <th>cluster_annotation_term_set_label</th>\n",
       "      <th>cluster_alias</th>\n",
       "      <th>cluster_annotation_term_name</th>\n",
       "      <th>cluster_annotation_term_set_name</th>\n",
       "      <th>number_of_cells</th>\n",
       "      <th>color_hex_triplet</th>\n",
       "    </tr>\n",
       "  </thead>\n",
       "  <tbody>\n",
       "    <tr>\n",
       "      <th>2609</th>\n",
       "      <td>CCN20230504_CLUS_2613</td>\n",
       "      <td>CCN20230504_CLUS</td>\n",
       "      <td>2144</td>\n",
       "      <td>2613 PH-LHA Foxb1 Glut_1</td>\n",
       "      <td>cluster</td>\n",
       "      <td>46</td>\n",
       "      <td>#99342E</td>\n",
       "    </tr>\n",
       "  </tbody>\n",
       "</table>\n",
       "</div>"
      ],
      "text/plain": [
       "     cluster_annotation_term_label cluster_annotation_term_set_label  \\\n",
       "2609         CCN20230504_CLUS_2613                  CCN20230504_CLUS   \n",
       "\n",
       "      cluster_alias cluster_annotation_term_name  \\\n",
       "2609           2144     2613 PH-LHA Foxb1 Glut_1   \n",
       "\n",
       "     cluster_annotation_term_set_name  number_of_cells color_hex_triplet  \n",
       "2609                          cluster               46           #99342E  "
      ]
     },
     "execution_count": 9,
     "metadata": {},
     "output_type": "execute_result"
    }
   ],
   "source": [
    "# 20230630 version's cluster 2613 does NOT match the AD supertype\n",
    "cluster_memb_df_20230630[(cluster_memb_df_20230630['cluster_annotation_term_set_name']=='cluster')\n",
    "                         & (cluster_memb_df_20230630['cluster_annotation_term_name'].str.contains('2613'))]"
   ]
  },
  {
   "cell_type": "code",
   "execution_count": 10,
   "id": "c465682d-b2a0-4d8d-a74b-7e9dfa8409a7",
   "metadata": {
    "tags": []
   },
   "outputs": [
    {
     "data": {
      "text/html": [
       "<div>\n",
       "<style scoped>\n",
       "    .dataframe tbody tr th:only-of-type {\n",
       "        vertical-align: middle;\n",
       "    }\n",
       "\n",
       "    .dataframe tbody tr th {\n",
       "        vertical-align: top;\n",
       "    }\n",
       "\n",
       "    .dataframe thead th {\n",
       "        text-align: right;\n",
       "    }\n",
       "</style>\n",
       "<table border=\"1\" class=\"dataframe\">\n",
       "  <thead>\n",
       "    <tr style=\"text-align: right;\">\n",
       "      <th></th>\n",
       "      <th>cluster_annotation_term_label</th>\n",
       "      <th>cluster_annotation_term_set_label</th>\n",
       "      <th>cluster_alias</th>\n",
       "      <th>cluster_annotation_term_name</th>\n",
       "      <th>cluster_annotation_term_set_name</th>\n",
       "      <th>number_of_cells</th>\n",
       "      <th>color_hex_triplet</th>\n",
       "    </tr>\n",
       "  </thead>\n",
       "  <tbody>\n",
       "    <tr>\n",
       "      <th>1093</th>\n",
       "      <td>CCN20230504_CLUS_1095</td>\n",
       "      <td>CCN20230504_CLUS</td>\n",
       "      <td>5020</td>\n",
       "      <td>1095 AD Serpinb7 Glut</td>\n",
       "      <td>cluster</td>\n",
       "      <td>595</td>\n",
       "      <td>#5C82CC</td>\n",
       "    </tr>\n",
       "  </tbody>\n",
       "</table>\n",
       "</div>"
      ],
      "text/plain": [
       "     cluster_annotation_term_label cluster_annotation_term_set_label  \\\n",
       "1093         CCN20230504_CLUS_1095                  CCN20230504_CLUS   \n",
       "\n",
       "      cluster_alias cluster_annotation_term_name  \\\n",
       "1093           5020        1095 AD Serpinb7 Glut   \n",
       "\n",
       "     cluster_annotation_term_set_name  number_of_cells color_hex_triplet  \n",
       "1093                          cluster              595           #5C82CC  "
      ]
     },
     "execution_count": 10,
     "metadata": {},
     "output_type": "execute_result"
    }
   ],
   "source": [
    "# BUT v20230630 & v20230830 cluster_alias both have the same supertype name\n",
    "cluster_memb_df_20230630[(cluster_memb_df_20230630['cluster_annotation_term_set_name']=='cluster')\n",
    "                         & (cluster_memb_df_20230630['cluster_alias']==5020)]"
   ]
  },
  {
   "cell_type": "code",
   "execution_count": 11,
   "id": "8cbf44aa-8972-431a-8bdb-f03db055d815",
   "metadata": {
    "tags": []
   },
   "outputs": [
    {
     "data": {
      "text/html": [
       "<div>\n",
       "<style scoped>\n",
       "    .dataframe tbody tr th:only-of-type {\n",
       "        vertical-align: middle;\n",
       "    }\n",
       "\n",
       "    .dataframe tbody tr th {\n",
       "        vertical-align: top;\n",
       "    }\n",
       "\n",
       "    .dataframe thead th {\n",
       "        text-align: right;\n",
       "    }\n",
       "</style>\n",
       "<table border=\"1\" class=\"dataframe\">\n",
       "  <thead>\n",
       "    <tr style=\"text-align: right;\">\n",
       "      <th></th>\n",
       "      <th>cluster_annotation_term_label</th>\n",
       "      <th>cluster_annotation_term_set_label</th>\n",
       "      <th>cluster_alias</th>\n",
       "      <th>cluster_annotation_term_name</th>\n",
       "      <th>cluster_annotation_term_set_name</th>\n",
       "      <th>number_of_cells</th>\n",
       "      <th>color_hex_triplet</th>\n",
       "    </tr>\n",
       "  </thead>\n",
       "  <tbody>\n",
       "    <tr>\n",
       "      <th>2612</th>\n",
       "      <td>CS20230722_CLUS_2613</td>\n",
       "      <td>CCN20230722_CLUS</td>\n",
       "      <td>5020</td>\n",
       "      <td>2613 AD Serpinb7 Glut_1</td>\n",
       "      <td>cluster</td>\n",
       "      <td>587</td>\n",
       "      <td>#CC6D3D</td>\n",
       "    </tr>\n",
       "  </tbody>\n",
       "</table>\n",
       "</div>"
      ],
      "text/plain": [
       "     cluster_annotation_term_label cluster_annotation_term_set_label  \\\n",
       "2612          CS20230722_CLUS_2613                  CCN20230722_CLUS   \n",
       "\n",
       "      cluster_alias cluster_annotation_term_name  \\\n",
       "2612           5020      2613 AD Serpinb7 Glut_1   \n",
       "\n",
       "     cluster_annotation_term_set_name  number_of_cells color_hex_triplet  \n",
       "2612                          cluster              587           #CC6D3D  "
      ]
     },
     "execution_count": 11,
     "metadata": {},
     "output_type": "execute_result"
    }
   ],
   "source": [
    "# 20231215 version's cluster 2613 is the same as 20230830 - stable\n",
    "cluster_memb_df_20231215[(cluster_memb_df_20231215['cluster_annotation_term_set_name']=='cluster')\n",
    "                         & (cluster_memb_df_20231215['cluster_annotation_term_name'].str.contains('2613'))]"
   ]
  },
  {
   "cell_type": "markdown",
   "id": "9e89d93a-7e7e-4c55-bbd8-d66be9032d06",
   "metadata": {
    "tags": []
   },
   "source": [
    "## What about supertypes?"
   ]
  },
  {
   "cell_type": "code",
   "execution_count": 12,
   "id": "5dcb3c73-3327-41f6-bf59-2367403d15be",
   "metadata": {
    "tags": []
   },
   "outputs": [
    {
     "data": {
      "text/html": [
       "<div>\n",
       "<style scoped>\n",
       "    .dataframe tbody tr th:only-of-type {\n",
       "        vertical-align: middle;\n",
       "    }\n",
       "\n",
       "    .dataframe tbody tr th {\n",
       "        vertical-align: top;\n",
       "    }\n",
       "\n",
       "    .dataframe thead th {\n",
       "        text-align: right;\n",
       "    }\n",
       "</style>\n",
       "<table border=\"1\" class=\"dataframe\">\n",
       "  <thead>\n",
       "    <tr style=\"text-align: right;\">\n",
       "      <th></th>\n",
       "      <th>cluster_annotation_term_label</th>\n",
       "      <th>cluster_annotation_term_set_label</th>\n",
       "      <th>cluster_alias</th>\n",
       "      <th>cluster_annotation_term_name</th>\n",
       "      <th>cluster_annotation_term_set_name</th>\n",
       "      <th>number_of_cells</th>\n",
       "      <th>color_hex_triplet</th>\n",
       "    </tr>\n",
       "  </thead>\n",
       "  <tbody>\n",
       "    <tr>\n",
       "      <th>6289</th>\n",
       "      <td>CCN20230504_SUPT_0257</td>\n",
       "      <td>CCN20230504_SUPT</td>\n",
       "      <td>5020</td>\n",
       "      <td>0257 AD Serpinb7 Glut</td>\n",
       "      <td>supertype</td>\n",
       "      <td>595</td>\n",
       "      <td>#3D4066</td>\n",
       "    </tr>\n",
       "  </tbody>\n",
       "</table>\n",
       "</div>"
      ],
      "text/plain": [
       "     cluster_annotation_term_label cluster_annotation_term_set_label  \\\n",
       "6289         CCN20230504_SUPT_0257                  CCN20230504_SUPT   \n",
       "\n",
       "      cluster_alias cluster_annotation_term_name  \\\n",
       "6289           5020        0257 AD Serpinb7 Glut   \n",
       "\n",
       "     cluster_annotation_term_set_name  number_of_cells color_hex_triplet  \n",
       "6289                        supertype              595           #3D4066  "
      ]
     },
     "execution_count": 12,
     "metadata": {},
     "output_type": "execute_result"
    }
   ],
   "source": [
    "# supertype id #s also changed from 20230630 to 20230830\n",
    "cluster_memb_df_20230630[(cluster_memb_df_20230630['cluster_annotation_term_set_name']=='supertype')\n",
    "                        & (cluster_memb_df_20230630['cluster_alias']==5020)]"
   ]
  },
  {
   "cell_type": "code",
   "execution_count": 13,
   "id": "05cbb7e5-acfb-4c62-a4cd-3db94881de69",
   "metadata": {
    "tags": []
   },
   "outputs": [
    {
     "data": {
      "text/html": [
       "<div>\n",
       "<style scoped>\n",
       "    .dataframe tbody tr th:only-of-type {\n",
       "        vertical-align: middle;\n",
       "    }\n",
       "\n",
       "    .dataframe tbody tr th {\n",
       "        vertical-align: top;\n",
       "    }\n",
       "\n",
       "    .dataframe thead th {\n",
       "        text-align: right;\n",
       "    }\n",
       "</style>\n",
       "<table border=\"1\" class=\"dataframe\">\n",
       "  <thead>\n",
       "    <tr style=\"text-align: right;\">\n",
       "      <th></th>\n",
       "      <th>cluster_annotation_term_label</th>\n",
       "      <th>cluster_annotation_term_set_label</th>\n",
       "      <th>cluster_alias</th>\n",
       "      <th>cluster_annotation_term_name</th>\n",
       "      <th>cluster_annotation_term_set_name</th>\n",
       "      <th>number_of_cells</th>\n",
       "      <th>color_hex_triplet</th>\n",
       "    </tr>\n",
       "  </thead>\n",
       "  <tbody>\n",
       "    <tr>\n",
       "      <th>7934</th>\n",
       "      <td>CS20230722_SUPT_0641</td>\n",
       "      <td>CCN20230722_SUPT</td>\n",
       "      <td>5020</td>\n",
       "      <td>0641 AD Serpinb7 Glut_1</td>\n",
       "      <td>supertype</td>\n",
       "      <td>587</td>\n",
       "      <td>#3D4066</td>\n",
       "    </tr>\n",
       "  </tbody>\n",
       "</table>\n",
       "</div>"
      ],
      "text/plain": [
       "     cluster_annotation_term_label cluster_annotation_term_set_label  \\\n",
       "7934          CS20230722_SUPT_0641                  CCN20230722_SUPT   \n",
       "\n",
       "      cluster_alias cluster_annotation_term_name  \\\n",
       "7934           5020      0641 AD Serpinb7 Glut_1   \n",
       "\n",
       "     cluster_annotation_term_set_name  number_of_cells color_hex_triplet  \n",
       "7934                        supertype              587           #3D4066  "
      ]
     },
     "execution_count": 13,
     "metadata": {},
     "output_type": "execute_result"
    }
   ],
   "source": [
    "# supertype id #s also changed from 20230630 to 20230830\n",
    "cluster_memb_df_20230830[(cluster_memb_df_20230830['cluster_annotation_term_set_name']=='supertype')\n",
    "                        & (cluster_memb_df_20230830['cluster_alias']==5020)]"
   ]
  },
  {
   "cell_type": "markdown",
   "id": "aff597f2-948f-42db-becf-3a2df72be364",
   "metadata": {},
   "source": [
    "# Update csv to include new taxonomy cluster ids + stable cluster aliases"
   ]
  },
  {
   "cell_type": "markdown",
   "id": "8de3dc09-c138-467a-81d0-9f7b0e8547ee",
   "metadata": {},
   "source": [
    "## Rename columns to distinguish taxonomy versions"
   ]
  },
  {
   "cell_type": "code",
   "execution_count": 14,
   "id": "56f07e0a-7701-4b12-93d1-48dc75442876",
   "metadata": {},
   "outputs": [],
   "source": [
    "ait17_columns = {\n",
    "    'annotated subclasses':'subclasses_AIT17',\n",
    "    'annotated supertypes':'supertypes_AIT17',\n",
    "    'annotated clusters':'cluster_ids_AIT17'\n",
    "}\n",
    "\n",
    "prong1_df = prong1_df.rename(columns=ait17_columns)"
   ]
  },
  {
   "cell_type": "markdown",
   "id": "a5ea6f2a-0b60-44ad-93f3-ecfff9086adf",
   "metadata": {},
   "source": [
    "## Map taxonomy versions via stable cluster_alias"
   ]
  },
  {
   "cell_type": "code",
   "execution_count": 15,
   "id": "299663d5-c1be-45a8-a81c-b801257f7765",
   "metadata": {
    "tags": []
   },
   "outputs": [],
   "source": [
    "old_cl_df = cluster_memb_df_20230630\n",
    "new_cl_df = cluster_memb_df_20230830\n",
    "cl_annot_col = 'cluster_annotation_term_name'\n",
    "\n",
    "prong1_df['cluster_alias'] = None\n",
    "prong1_df['cluster_ids_CNN20230720'] = None\n",
    "# prong1_df['supertype_labels_CNN20230720'] = None\n",
    "\n",
    "for row, cluster_list in enumerate(\n",
    "    prong1_df['cluster_ids_AIT17']):\n",
    "    cluster_list = cluster_list.split(', ')\n",
    "    \n",
    "    # would love to do this vectorwise, but str.startswith(tuple()) weirdly\n",
    "    # doesn't recognize a tuple stored in a variable as containing multiple strings\n",
    "    cluster_alias_list = []\n",
    "    cluster_id_list = []\n",
    "    # supertype_label_list = []\n",
    "    for cl_id in cluster_list:\n",
    "        # get the cluster_alias from the 20230630 cluster annotation set\n",
    "        old_cl_row = old_cl_df[old_cl_df[cl_annot_col].str.startswith(cl_id)]\n",
    "        cl_alias = old_cl_row['cluster_alias'].values[0]\n",
    "        # add to the Prong1 csv\n",
    "        cluster_alias_list.append(cl_alias)\n",
    "        # get the row of the new annotation set that matches the stable cluster_alias\n",
    "        new_cl_row = new_cl_df[new_cl_df['cluster_alias']==cl_alias]\n",
    "        # get the updated cluster_id\n",
    "        cluster_id_list.append(new_cl_row['cluster_annotation_term_name'].values[0][0:4])\n",
    "        # supertype_label_list.append(cl_row['cluster_annotation_term_name'].values[0][5:])\n",
    "        \n",
    "    prong1_df['cluster_alias'][row] = cluster_alias_list\n",
    "    prong1_df['cluster_ids_CNN20230720'][row] = cluster_id_list\n",
    "    # prong1_df['supertype_labels_CNN20230720'][row] = supertype_label_list"
   ]
  },
  {
   "cell_type": "code",
   "execution_count": 16,
   "id": "f5108a29-43c4-4c7e-a01b-9a69f8a373b5",
   "metadata": {
    "tags": []
   },
   "outputs": [
    {
     "data": {
      "text/html": [
       "<div>\n",
       "<style scoped>\n",
       "    .dataframe tbody tr th:only-of-type {\n",
       "        vertical-align: middle;\n",
       "    }\n",
       "\n",
       "    .dataframe tbody tr th {\n",
       "        vertical-align: top;\n",
       "    }\n",
       "\n",
       "    .dataframe thead th {\n",
       "        text-align: right;\n",
       "    }\n",
       "</style>\n",
       "<table border=\"1\" class=\"dataframe\">\n",
       "  <thead>\n",
       "    <tr style=\"text-align: right;\">\n",
       "      <th></th>\n",
       "      <th>nuclei</th>\n",
       "      <th>subclasses_AIT17</th>\n",
       "      <th>supertypes_AIT17</th>\n",
       "      <th>cluster_ids_AIT17</th>\n",
       "      <th>viewer link</th>\n",
       "      <th>notes for next update (e.g. remove cluster x)</th>\n",
       "      <th>cluster_alias</th>\n",
       "      <th>cluster_ids_CNN20230720</th>\n",
       "    </tr>\n",
       "  </thead>\n",
       "  <tbody>\n",
       "    <tr>\n",
       "      <th>0</th>\n",
       "      <td>AD</td>\n",
       "      <td>065 AD Serpinb7 Glut</td>\n",
       "      <td>0257 AD Serpinb7 Glut</td>\n",
       "      <td>1095, 1096</td>\n",
       "      <td>http://vitessce.io/?url=data:,%7B%22version%22...</td>\n",
       "      <td></td>\n",
       "      <td>[5020, 5021]</td>\n",
       "      <td>[2613, 2614]</td>\n",
       "    </tr>\n",
       "    <tr>\n",
       "      <th>1</th>\n",
       "      <td>AM</td>\n",
       "      <td>069 TH Prkcd Grin2c Glut</td>\n",
       "      <td>0283 TH Prkcd Grin2c Glut_9, 0282 TH Prkcd Gri...</td>\n",
       "      <td>1169, 1163, 1170, 1171</td>\n",
       "      <td>http://vitessce.io/?url=data:,%7B%22version%22...</td>\n",
       "      <td></td>\n",
       "      <td>[5041, 5088, 5042, 5043]</td>\n",
       "      <td>[2674, 2668, 2675, 2676]</td>\n",
       "    </tr>\n",
       "    <tr>\n",
       "      <th>2</th>\n",
       "      <td>AV</td>\n",
       "      <td>066 AV Col27a1 Glut</td>\n",
       "      <td>0258 AV Col27a1 Glut</td>\n",
       "      <td>1097, 1098</td>\n",
       "      <td>http://vitessce.io/?url=data:,%7B%22version%22...</td>\n",
       "      <td></td>\n",
       "      <td>[5022, 5023]</td>\n",
       "      <td>[2615, 2616]</td>\n",
       "    </tr>\n",
       "    <tr>\n",
       "      <th>3</th>\n",
       "      <td>CM</td>\n",
       "      <td>068 CM-IAD-CL-PCN Glut</td>\n",
       "      <td>0266 CM-IAD-CL-PCN Glut_2</td>\n",
       "      <td>1119, 1120, 1121</td>\n",
       "      <td>http://vitessce.io/?url=data:,%7B%22version%22...</td>\n",
       "      <td></td>\n",
       "      <td>[5095, 5097, 5098]</td>\n",
       "      <td>[2637, 2638, 2639]</td>\n",
       "    </tr>\n",
       "    <tr>\n",
       "      <th>4</th>\n",
       "      <td>CM PCN CL</td>\n",
       "      <td>068 CM-IAD-CL-PCN Glut</td>\n",
       "      <td>0265 CM-IAD-CL-PCN Glut_1</td>\n",
       "      <td>1116, 1115, 1117, 1118</td>\n",
       "      <td>http://vitessce.io/?url=data:,%7B%22version%22...</td>\n",
       "      <td></td>\n",
       "      <td>[5038, 5036, 5039, 5100]</td>\n",
       "      <td>[2634, 2633, 2635, 2636]</td>\n",
       "    </tr>\n",
       "  </tbody>\n",
       "</table>\n",
       "</div>"
      ],
      "text/plain": [
       "      nuclei          subclasses_AIT17  \\\n",
       "0         AD      065 AD Serpinb7 Glut   \n",
       "1         AM  069 TH Prkcd Grin2c Glut   \n",
       "2         AV       066 AV Col27a1 Glut   \n",
       "3         CM    068 CM-IAD-CL-PCN Glut   \n",
       "4  CM PCN CL    068 CM-IAD-CL-PCN Glut   \n",
       "\n",
       "                                    supertypes_AIT17       cluster_ids_AIT17  \\\n",
       "0                              0257 AD Serpinb7 Glut              1095, 1096   \n",
       "1  0283 TH Prkcd Grin2c Glut_9, 0282 TH Prkcd Gri...  1169, 1163, 1170, 1171   \n",
       "2                               0258 AV Col27a1 Glut              1097, 1098   \n",
       "3                          0266 CM-IAD-CL-PCN Glut_2        1119, 1120, 1121   \n",
       "4                          0265 CM-IAD-CL-PCN Glut_1  1116, 1115, 1117, 1118   \n",
       "\n",
       "                                         viewer link  \\\n",
       "0  http://vitessce.io/?url=data:,%7B%22version%22...   \n",
       "1  http://vitessce.io/?url=data:,%7B%22version%22...   \n",
       "2  http://vitessce.io/?url=data:,%7B%22version%22...   \n",
       "3  http://vitessce.io/?url=data:,%7B%22version%22...   \n",
       "4  http://vitessce.io/?url=data:,%7B%22version%22...   \n",
       "\n",
       "  notes for next update (e.g. remove cluster x)             cluster_alias  \\\n",
       "0                                                            [5020, 5021]   \n",
       "1                                                [5041, 5088, 5042, 5043]   \n",
       "2                                                            [5022, 5023]   \n",
       "3                                                      [5095, 5097, 5098]   \n",
       "4                                                [5038, 5036, 5039, 5100]   \n",
       "\n",
       "    cluster_ids_CNN20230720  \n",
       "0              [2613, 2614]  \n",
       "1  [2674, 2668, 2675, 2676]  \n",
       "2              [2615, 2616]  \n",
       "3        [2637, 2638, 2639]  \n",
       "4  [2634, 2633, 2635, 2636]  "
      ]
     },
     "execution_count": 16,
     "metadata": {},
     "output_type": "execute_result"
    }
   ],
   "source": [
    "prong1_df.head(5)"
   ]
  },
  {
   "cell_type": "markdown",
   "id": "3379c6c5-700f-4d86-a882-b5f08caecee4",
   "metadata": {},
   "source": [
    "## Save out to new csv"
   ]
  },
  {
   "cell_type": "code",
   "execution_count": 17,
   "id": "0b07e941-f12e-45f7-a0b4-3192b9d89327",
   "metadata": {
    "tags": []
   },
   "outputs": [],
   "source": [
    "new_prong1_file = '../code/resources/prong1_cluster_annotations_by_nucleus.csv'\n",
    "prong1_df.to_csv(new_prong1_file)"
   ]
  },
  {
   "cell_type": "markdown",
   "id": "48a0d35a-e53f-4f18-949e-f5e4dd0d69f6",
   "metadata": {
    "tags": []
   },
   "source": [
    "## demonstration of var=tuple not working with str.startswith"
   ]
  },
  {
   "cell_type": "code",
   "execution_count": 18,
   "id": "f22eeb39-f028-40e7-95d4-d32426c9c503",
   "metadata": {
    "tags": []
   },
   "outputs": [],
   "source": [
    "# prong1_df.head(5)"
   ]
  },
  {
   "cell_type": "code",
   "execution_count": 19,
   "id": "05a297da-4cc5-4668-a7ab-db944c607c1f",
   "metadata": {
    "tags": []
   },
   "outputs": [],
   "source": [
    "# test_clusters = prong1_df['annotated clusters'][0].split(',')\n",
    "# test_clusters"
   ]
  },
  {
   "cell_type": "code",
   "execution_count": 20,
   "id": "a3a67888-7e20-49bb-9f9b-d7c0969715bb",
   "metadata": {
    "tags": []
   },
   "outputs": [],
   "source": [
    "# # cluster_memb_df_20230630[cluster_memb_df_20230630['cluster_annotation_term_name'].str.startswith(tuple(test_clusters))]#['cluster_alias']\n",
    "# test_clusters = tuple(test_clusters)\n",
    "# cluster_memb_df_20230630.query(\"cluster_annotation_term_name.str.startswith(@test_clusters, na=False)\")['cluster_alias'].values[0]\n",
    "# # cluster_memb_df_20230630[cluster_memb_df_20230630['cluster_annotation_term_name'].str.startswith(tuple(test_clusters), na=None)]"
   ]
  },
  {
   "cell_type": "code",
   "execution_count": 21,
   "id": "3af389a0-49ab-4a23-8b17-36a72a376f68",
   "metadata": {
    "tags": []
   },
   "outputs": [],
   "source": [
    "# cluster_memb_df_20230630[cluster_memb_df_20230630['cluster_annotation_term_name'].str.startswith(('1095','1096'), na=None)]"
   ]
  },
  {
   "cell_type": "code",
   "execution_count": 22,
   "id": "718a95d2-7429-4f9a-974d-e215611ddcc6",
   "metadata": {
    "tags": []
   },
   "outputs": [],
   "source": [
    "# ughhhhhhhhhhhhh, why is it not recognizing the tuple as a tuple??????\n",
    "# https://stackoverflow.com/questions/75595060/pandas-dataframe-query-series-str-startswith-tuple-returns-empty"
   ]
  },
  {
   "cell_type": "code",
   "execution_count": null,
   "id": "309abd18-d301-4e57-ae0b-3412189fb08c",
   "metadata": {},
   "outputs": [],
   "source": []
  },
  {
   "cell_type": "code",
   "execution_count": null,
   "id": "2efe6827-e49e-4c43-bdbe-78d8ebc94f7d",
   "metadata": {},
   "outputs": [],
   "source": []
  }
 ],
 "metadata": {
  "kernelspec": {
   "display_name": "Python 3 (ipykernel)",
   "language": "python",
   "name": "python3"
  },
  "language_info": {
   "codemirror_mode": {
    "name": "ipython",
    "version": 3
   },
   "file_extension": ".py",
   "mimetype": "text/x-python",
   "name": "python",
   "nbconvert_exporter": "python",
   "pygments_lexer": "ipython3",
   "version": "3.9.12"
  }
 },
 "nbformat": 4,
 "nbformat_minor": 5
}
