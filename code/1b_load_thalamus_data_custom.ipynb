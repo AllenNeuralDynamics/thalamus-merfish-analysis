{
 "cells": [
  {
   "cell_type": "markdown",
   "metadata": {},
   "source": [
    "# 1b_load_thalamus_data_custom\n",
    "\n",
    "This notebook demonstrates how to use the thalamus_merfish_analysis module to \n",
    "load a customized thalamus subsets of the Allen Brain Cell (ABC) Atlas' whole \n",
    "mouse brain MERFISH dataset (https://portal.brain-map.org/atlases-and-data/bkp/abc-atlas).\n",
    "\n",
    "For instructions on how to load the standard thalamus dataset, as well as \n",
    "detailed descriptions of the data structure(s) content, please see `1a_load_thalamus_data_standard.ipynb`.\n",
    "\n",
    "Additional information on the full ABC Atlas dataset can be found at: https://alleninstitute.github.io/abc_atlas_access/intro.html"
   ]
  },
  {
   "cell_type": "code",
   "execution_count": 1,
   "metadata": {},
   "outputs": [],
   "source": [
    "from thalamus_merfish_analysis import abc_load as abc\n",
    "get_ipython().run_line_magic('matplotlib', 'inline') "
   ]
  },
  {
   "cell_type": "markdown",
   "metadata": {},
   "source": [
    "## Steps to load a custom thalamus AnnData object\n",
    "\n",
    "`abc.load_standard_thalamus(data_structure='adata')` includes the following loading & preprocessing steps:\n",
    "1. `abc.load_adata_thalamus()` loads a TH+ZI spatial subset of the ABC Atlas\n",
    "2. `abc.filter_by_class_thalamus()` filters the cell by their mapped class\n",
    "3. `abc.filter_by_thalamus_coords()` further filters cell based on the CCF thalamus spatial boundaries\n",
    "\n",
    "Users can generate a more customized version of the thalamus dataset by calling\n",
    "these 3 functions individually and adjusting their input parameters as desired."
   ]
  },
  {
   "cell_type": "markdown",
   "metadata": {},
   "source": [
    "### 1. `abc.load_adata_thalamus()`"
   ]
  },
  {
   "cell_type": "code",
   "execution_count": 2,
   "metadata": {},
   "outputs": [],
   "source": [
    "CURRENT_VERSION = '20230830'  # default version set in abc_load.py\n",
    "\n",
    "adata_th_zi = abc.load_adata_thalamus(version=CURRENT_VERSION, # can load older or newer versions of the ABC Atlas\n",
    "                                      \n",
    "                                      transform='log2cpm', # {'log2cpm','raw', 'log2cpv'}, default='log2cpm'\n",
    "                                                           # select 'raw' if implementing custom transformations/analyses\n",
    "                                      \n",
    "                                      subset_to_TH_ZI=True, # if False, loads full coronal ABC Atlas dataset\n",
    "                                      \n",
    "                                      with_metadata=True, # if False, loads just gene expression counts array \n",
    "                                      \n",
    "                                      flip_y=False, # if writing custom plotting code, you may wish to invert y coords\n",
    "                                                    # ccf_plots.py assumes y coords are not inverted\n",
    "                                      \n",
    "                                      with_colors=False, # if True, loads per-cell color fields in .obs, \n",
    "                                                         # e.g. 'subclass_color', 'parcellation_structure_color'\n",
    "                                                         # helpful for implementing custom plotting in Seaborn\n",
    "                                      drop_blanks=True  # if False, keeps 'blank' barcodes, which\n",
    "                                                        # can be used for QC purposes\n",
    "                                      ) \n"
   ]
  },
  {
   "cell_type": "code",
   "execution_count": 3,
   "metadata": {},
   "outputs": [
    {
     "data": {
      "text/plain": [
       "AnnData object with n_obs × n_vars = 227417 × 500\n",
       "    obs: 'brain_section_label', 'average_correlation_score', 'class', 'cluster', 'cluster_alias', 'left_hemisphere', 'neurotransmitter', 'parcellation_division', 'parcellation_index', 'parcellation_structure', 'parcellation_substructure', 'subclass', 'supertype', 'x_ccf', 'x_reconstructed', 'x_section', 'y_ccf', 'y_reconstructed', 'y_section', 'z_ccf', 'z_reconstructed', 'z_section'\n",
       "    var: 'gene_symbol', 'transcript_identifier'\n",
       "    uns: 'accessed_on', 'src', 'counts_transform'"
      ]
     },
     "metadata": {},
     "output_type": "display_data"
    }
   ],
   "source": [
    "display(adata_th_zi)"
   ]
  },
  {
   "cell_type": "markdown",
   "metadata": {},
   "source": [
    "### 2. `abc.filter_by_class_thalamus()`"
   ]
  },
  {
   "cell_type": "code",
   "execution_count": 4,
   "metadata": {},
   "outputs": [],
   "source": [
    "# filter_by_class_thalamus() parameters found in load_standard_thalamus():\n",
    "adata_th_zi_neurons = abc.filter_by_class_thalamus(adata_th_zi,\n",
    "                                                   filter_nonneuronal=True,  # if False, keeps non-neuronal cells\n",
    "                                                   \n",
    "                                                   filter_midbrain=False,    # if True, filters out cells mapped \n",
    "                                                                             # to midbrain cell types       \n",
    "                                                   \n",
    "                                                   filter_other_nonTH=True   # if False, keeps non-TH cells accidentally \n",
    "                                                                             # captured by the 200um-dilated thalamus CCF mask\n",
    "                                                  )"
   ]
  },
  {
   "cell_type": "code",
   "execution_count": 5,
   "metadata": {},
   "outputs": [
    {
     "data": {
      "text/plain": [
       "View of AnnData object with n_obs × n_vars = 92923 × 500\n",
       "    obs: 'brain_section_label', 'average_correlation_score', 'class', 'cluster', 'cluster_alias', 'left_hemisphere', 'neurotransmitter', 'parcellation_division', 'parcellation_index', 'parcellation_structure', 'parcellation_substructure', 'subclass', 'supertype', 'x_ccf', 'x_reconstructed', 'x_section', 'y_ccf', 'y_reconstructed', 'y_section', 'z_ccf', 'z_reconstructed', 'z_section'\n",
       "    var: 'gene_symbol', 'transcript_identifier'\n",
       "    uns: 'accessed_on', 'src', 'counts_transform'"
      ]
     },
     "metadata": {},
     "output_type": "display_data"
    }
   ],
   "source": [
    "display(adata_th_zi_neurons)"
   ]
  },
  {
   "cell_type": "markdown",
   "metadata": {},
   "source": [
    "### 3. `abc.filter_by_thalamus_coords()`"
   ]
  },
  {
   "cell_type": "code",
   "execution_count": 6,
   "metadata": {},
   "outputs": [],
   "source": [
    "# filter_by_thalamus_coords() parameters found in load_standard_thalamus():\n",
    "adata_th_zi_neurons = abc.filter_by_thalamus_coords(adata_th_zi_neurons, \n",
    "                                                    buffer=0,  # if >0px, sets dilation radius of thalamus mask\n",
    "                                                               # in pixels (1px = 10um)\n",
    "                                                    # realigned=False\n",
    "                                                    )"
   ]
  },
  {
   "cell_type": "code",
   "execution_count": 7,
   "metadata": {},
   "outputs": [
    {
     "data": {
      "text/plain": [
       "View of AnnData object with n_obs × n_vars = 79158 × 500\n",
       "    obs: 'brain_section_label', 'average_correlation_score', 'class', 'cluster', 'cluster_alias', 'left_hemisphere', 'neurotransmitter', 'parcellation_division', 'parcellation_index', 'parcellation_structure', 'parcellation_substructure', 'subclass', 'supertype', 'x_ccf', 'x_reconstructed', 'x_section', 'y_ccf', 'y_reconstructed', 'y_section', 'z_ccf', 'z_reconstructed', 'z_section'\n",
       "    var: 'gene_symbol', 'transcript_identifier'\n",
       "    uns: 'accessed_on', 'src', 'counts_transform'"
      ]
     },
     "metadata": {},
     "output_type": "display_data"
    }
   ],
   "source": [
    "display(adata_th_zi_neurons)"
   ]
  },
  {
   "cell_type": "markdown",
   "metadata": {},
   "source": []
  }
 ],
 "metadata": {
  "kernelspec": {
   "display_name": "base",
   "language": "python",
   "name": "python3"
  },
  "language_info": {
   "codemirror_mode": {
    "name": "ipython",
    "version": 3
   },
   "file_extension": ".py",
   "mimetype": "text/x-python",
   "name": "python",
   "nbconvert_exporter": "python",
   "pygments_lexer": "ipython3",
   "version": "3.9.12"
  }
 },
 "nbformat": 4,
 "nbformat_minor": 2
}
