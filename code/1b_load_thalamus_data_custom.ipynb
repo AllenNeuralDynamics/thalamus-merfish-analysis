{
 "cells": [
  {
   "cell_type": "markdown",
   "metadata": {},
   "source": [
    "# 1b_load_thalamus_data_custom\n",
    "\n",
    "This notebook demonstrates how to use the thalamus_merfish_analysis module to \n",
    "load a customized thalamus subsets of the Allen Brain Cell (ABC) Atlas' whole \n",
    "mouse brain MERFISH dataset (https://portal.brain-map.org/atlases-and-data/bkp/abc-atlas).\n",
    "\n",
    "For instructions on how to load the standard thalamus dataset, as well as \n",
    "detailed descriptions of the data structure(s) content, please see `1a_load_thalamus_data_standard.ipynb`.\n",
    "\n",
    "Additional information on the full ABC Atlas dataset can be found at: https://alleninstitute.github.io/abc_atlas_access/intro.html"
   ]
  },
  {
   "cell_type": "code",
   "execution_count": 1,
   "metadata": {},
   "outputs": [],
   "source": [
    "from thalamus_merfish_analysis.abc_load_thalamus import ThalamusWrapper\n",
    "get_ipython().run_line_magic('matplotlib', 'inline') "
   ]
  },
  {
   "cell_type": "markdown",
   "metadata": {},
   "source": [
    "## Steps to load a custom thalamus AnnData object\n",
    "\n",
    "`abc.load_standard_thalamus(data_structure='adata')` includes the following loading & preprocessing steps:\n",
    "1. `abc.load_adata_thalamus()` loads a TH+ZI spatial subset of the ABC Atlas\n",
    "2. `abc.filter_by_class_thalamus()` filters the cell by their mapped class\n",
    "3. `abc.filter_by_thalamus_coords()` further filters cell based on the CCF thalamus spatial boundaries\n",
    "\n",
    "Users can generate a more customized version of the thalamus dataset by calling\n",
    "these 3 functions individually and adjusting their input parameters as desired."
   ]
  },
  {
   "cell_type": "markdown",
   "metadata": {},
   "source": [
    "### 1. `abc.load_adata_thalamus()`"
   ]
  },
  {
   "cell_type": "code",
   "execution_count": 2,
   "metadata": {},
   "outputs": [
    {
     "name": "stderr",
     "output_type": "stream",
     "text": [
      "/root/capsule/code/thalamus_merfish_analysis/abc_load_base.py:379: FutureWarning: The behavior of Series.replace (and DataFrame.replace) with CategoricalDtype is deprecated. In a future version, replace will only be used for cases that preserve the categories. To change the categories, use ser.cat.rename_categories instead.\n",
      "  cells_df = cells_df.replace(\"ZI-unassigned\", \"ZI\")\n"
     ]
    }
   ],
   "source": [
    "CURRENT_VERSION = '20230830'  # default version set in abc_load.py\n",
    "abc = ThalamusWrapper(version=CURRENT_VERSION)  # instantiate the ThalamusWrapper, can load older or newer versions of the ABC Atlas\n",
    "\n",
    "adata_th_zi = abc.load_adata_thalamus(transform='log2cpt', # {'log2cpt', 'log2cpm', 'log2cpv', 'raw'}, default='log2cpt'\n",
    "                                                           # (cpt: counts per thousand, cpm: per million, cpv: per cell volume)\n",
    "                                                           # select 'raw' if implementing custom transformations/analyses\n",
    "                                      \n",
    "                                      subset_to_TH_ZI=True, # if False, loads full coronal ABC Atlas dataset\n",
    "                                      \n",
    "                                      with_metadata=True, # if False, loads just gene expression counts array \n",
    "                                      \n",
    "                                      flip_y=False, # if writing custom plotting code, you may wish to invert y coords\n",
    "                                                    # ccf_plots.py assumes y coords are not inverted\n",
    "                                      \n",
    "                                      drop_unused=True, # set to False to keep some lesser-used metadata columns\n",
    "                                      \n",
    "                                      drop_blanks=True  # if False, keeps 'blank' barcodes, which\n",
    "                                                        # can be used for QC purposes\n",
    "                                      ) \n"
   ]
  },
  {
   "cell_type": "code",
   "execution_count": 3,
   "metadata": {},
   "outputs": [
    {
     "data": {
      "text/plain": [
       "AnnData object with n_obs × n_vars = 152248 × 500\n",
       "    obs: 'brain_section_label', 'average_correlation_score', 'class', 'cluster', 'cluster_alias', 'left_hemisphere', 'neurotransmitter', 'parcellation_division', 'parcellation_index', 'parcellation_structure', 'parcellation_substructure', 'subclass', 'supertype', 'x_ccf', 'x_reconstructed', 'x_section', 'y_ccf', 'y_reconstructed', 'y_section', 'z_ccf', 'z_reconstructed', 'z_section'\n",
       "    var: 'gene_symbol', 'transcript_identifier'\n",
       "    uns: 'accessed_on', 'src', 'counts_transform'"
      ]
     },
     "metadata": {},
     "output_type": "display_data"
    }
   ],
   "source": [
    "display(adata_th_zi)"
   ]
  },
  {
   "cell_type": "markdown",
   "metadata": {},
   "source": [
    "### 2. `abc.filter_by_class_thalamus()`"
   ]
  },
  {
   "cell_type": "code",
   "execution_count": 4,
   "metadata": {},
   "outputs": [
    {
     "name": "stdout",
     "output_type": "stream",
     "text": [
      "Classes present in input data: ['01 IT-ET Glut', '03 OB-CR Glut', '05 OB-IMN GABA', '06 CTX-CGE GABA', '07 CTX-MGE GABA', '08 CNU-MGE GABA', '09 CNU-LGE GABA', '10 LSX GABA', '11 CNU-HYa GABA', '12 HY GABA', '13 CNU-HYa Glut', '14 HY Glut', '17 MH-LH Glut', '18 TH Glut', '19 MB Glut', '20 MB GABA', '21 MB Dopa', '23 P Glut', '24 MY Glut', '26 P GABA', '27 MY GABA', '28 CB GABA', '30 Astro-Epen', '31 OPC-Oligo', '33 Vascular', '34 Immune']\n",
      "Classes present in output data: ['12 HY GABA', '17 MH-LH Glut', '18 TH Glut', '19 MB Glut', '20 MB GABA']\n",
      "Classes filtered out of input data: ['01 IT-ET Glut', '03 OB-CR Glut', '05 OB-IMN GABA', '06 CTX-CGE GABA', '07 CTX-MGE GABA', '08 CNU-MGE GABA', '09 CNU-LGE GABA', '10 LSX GABA', '11 CNU-HYa GABA', '13 CNU-HYa Glut', '14 HY Glut', '21 MB Dopa', '23 P Glut', '24 MY Glut', '26 P GABA', '27 MY GABA', '28 CB GABA', '30 Astro-Epen', '31 OPC-Oligo', '33 Vascular', '34 Immune']\n"
     ]
    }
   ],
   "source": [
    "# filter_by_class_thalamus() parameters found in load_standard_thalamus():\n",
    "adata_th_zi_neurons = abc.filter_by_class_thalamus(adata_th_zi,\n",
    "                                                include=abc.TH_ZI_CLASSES + abc.MB_CLASSES\n",
    "                                                # exclude=abc.NN_CLASSES \n",
    "                                                # (replacing the include filter with an explicit exclude will filter out ONLY non-neuronal cells)\n",
    "                                                )"
   ]
  },
  {
   "cell_type": "code",
   "execution_count": 5,
   "metadata": {},
   "outputs": [
    {
     "data": {
      "text/plain": [
       "View of AnnData object with n_obs × n_vars = 80170 × 500\n",
       "    obs: 'brain_section_label', 'average_correlation_score', 'class', 'cluster', 'cluster_alias', 'left_hemisphere', 'neurotransmitter', 'parcellation_division', 'parcellation_index', 'parcellation_structure', 'parcellation_substructure', 'subclass', 'supertype', 'x_ccf', 'x_reconstructed', 'x_section', 'y_ccf', 'y_reconstructed', 'y_section', 'z_ccf', 'z_reconstructed', 'z_section'\n",
       "    var: 'gene_symbol', 'transcript_identifier'\n",
       "    uns: 'accessed_on', 'src', 'counts_transform'"
      ]
     },
     "metadata": {},
     "output_type": "display_data"
    }
   ],
   "source": [
    "display(adata_th_zi_neurons)"
   ]
  },
  {
   "cell_type": "markdown",
   "metadata": {},
   "source": [
    "### 3. `abc.filter_by_thalamus_coords()`"
   ]
  },
  {
   "cell_type": "code",
   "execution_count": 6,
   "metadata": {},
   "outputs": [
    {
     "data": {
      "text/plain": [
       "Index(['brain_section_label', 'average_correlation_score', 'class', 'cluster',\n",
       "       'cluster_alias', 'left_hemisphere', 'neurotransmitter',\n",
       "       'parcellation_division', 'parcellation_index', 'parcellation_structure',\n",
       "       'parcellation_substructure', 'subclass', 'supertype', 'x_ccf',\n",
       "       'x_reconstructed', 'x_section', 'y_ccf', 'y_reconstructed', 'y_section',\n",
       "       'z_ccf', 'z_reconstructed', 'z_section'],\n",
       "      dtype='object')"
      ]
     },
     "execution_count": 6,
     "metadata": {},
     "output_type": "execute_result"
    }
   ],
   "source": [
    "adata_th_zi_neurons.obs.columns"
   ]
  },
  {
   "cell_type": "code",
   "execution_count": 7,
   "metadata": {},
   "outputs": [],
   "source": [
    "# filter_by_thalamus_coords() parameters found in load_standard_thalamus():\n",
    "adata_th_zi_neurons = abc.filter_by_thalamus_coords(adata_th_zi_neurons, \n",
    "                                                    buffer=0,  # if >0px, sets dilation radius of thalamus mask\n",
    "                                                               # in pixels (1px = 10um)\n",
    "                                                    # realigned=False\n",
    "                                                    )"
   ]
  },
  {
   "cell_type": "code",
   "execution_count": 8,
   "metadata": {},
   "outputs": [
    {
     "data": {
      "text/plain": [
       "View of AnnData object with n_obs × n_vars = 80170 × 500\n",
       "    obs: 'brain_section_label', 'average_correlation_score', 'class', 'cluster', 'cluster_alias', 'left_hemisphere', 'neurotransmitter', 'parcellation_division', 'parcellation_index', 'parcellation_structure', 'parcellation_substructure', 'subclass', 'supertype', 'x_ccf', 'x_reconstructed', 'x_section', 'y_ccf', 'y_reconstructed', 'y_section', 'z_ccf', 'z_reconstructed', 'z_section', 'region_mask'\n",
       "    var: 'gene_symbol', 'transcript_identifier'\n",
       "    uns: 'accessed_on', 'src', 'counts_transform'"
      ]
     },
     "metadata": {},
     "output_type": "display_data"
    }
   ],
   "source": [
    "display(adata_th_zi_neurons)"
   ]
  },
  {
   "cell_type": "markdown",
   "metadata": {},
   "source": []
  }
 ],
 "metadata": {
  "kernelspec": {
   "display_name": "base",
   "language": "python",
   "name": "python3"
  },
  "language_info": {
   "codemirror_mode": {
    "name": "ipython",
    "version": 3
   },
   "file_extension": ".py",
   "mimetype": "text/x-python",
   "name": "python",
   "nbconvert_exporter": "python",
   "pygments_lexer": "ipython3",
   "version": "3.9.12"
  }
 },
 "nbformat": 4,
 "nbformat_minor": 2
}
