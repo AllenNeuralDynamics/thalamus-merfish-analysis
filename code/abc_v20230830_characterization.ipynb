{
 "cells": [
  {
   "cell_type": "code",
   "execution_count": 1,
   "id": "156a0cf5-4dad-4579-8508-6cacb5042234",
   "metadata": {
    "tags": []
   },
   "outputs": [],
   "source": [
    "from pathlib import Path\n",
    "# import json\n",
    "\n",
    "import pandas as pd\n",
    "import anndata as ad\n",
    "import numpy as np\n",
    "\n",
    "import matplotlib.pyplot as plt\n",
    "%matplotlib inline"
   ]
  },
  {
   "cell_type": "markdown",
   "id": "2cd63d23-3a83-4b13-b670-b263d387932c",
   "metadata": {},
   "source": [
    "# Load abc atlas data"
   ]
  },
  {
   "cell_type": "code",
   "execution_count": 2,
   "id": "f0f2e157-8ff8-49d2-8431-9b011cfda0db",
   "metadata": {},
   "outputs": [],
   "source": [
    "abc_root = Path(\"/data/abc_atlas/\")\n",
    "brain_id = 'C57BL6J-638850'\n",
    "version = '20230830'"
   ]
  },
  {
   "cell_type": "code",
   "execution_count": 3,
   "id": "2752200b-4179-4031-9055-2f2175118755",
   "metadata": {},
   "outputs": [],
   "source": [
    "# load expression matrix for log2 counts\n",
    "adata_log2 = ad.read_h5ad(abc_root/f\"expression_matrices/MERFISH-{brain_id}/{version}/{brain_id}-log2.h5ad\", backed='r')"
   ]
  },
  {
   "cell_type": "code",
   "execution_count": 4,
   "id": "f53b041c-0da9-49ce-ad86-af9480c26529",
   "metadata": {},
   "outputs": [],
   "source": [
    "# load in the cell metadata\n",
    "gene_md_df = pd.read_csv(abc_root/f'metadata/MERFISH-{brain_id}/{version}/gene.csv', \n",
    "                         dtype={'cell_label':str},\n",
    "                         index_col=0)"
   ]
  },
  {
   "cell_type": "code",
   "execution_count": 5,
   "id": "8f4fc875-beb4-4eba-936a-d8d68f9bdf9a",
   "metadata": {},
   "outputs": [],
   "source": [
    "# load in the cell metadata\n",
    "cell_md_df = pd.read_csv(abc_root/f'metadata/MERFISH-{brain_id}/{version}/cell_metadata.csv', \n",
    "                         dtype={'cell_label':str},\n",
    "                         index_col=0)"
   ]
  },
  {
   "cell_type": "code",
   "execution_count": 6,
   "id": "719e1610-f093-4892-a1ca-0b8945cff3a5",
   "metadata": {},
   "outputs": [],
   "source": [
    "# load in the _cluster_annotation metadata csv\n",
    "cluster_md_df = pd.read_csv(abc_root/f'metadata/MERFISH-{brain_id}/{version}/views/cell_metadata_with_cluster_annotation.csv', \n",
    "                            dtype={'cell_label':str},\n",
    "                            index_col=0)"
   ]
  },
  {
   "cell_type": "code",
   "execution_count": 7,
   "id": "ec86edc5-1830-45e8-930a-0288268f3eeb",
   "metadata": {},
   "outputs": [],
   "source": [
    "# load in the _parcellation_annotation metadata csv\n",
    "ccf_md_df = pd.read_csv(abc_root/f'metadata/MERFISH-{brain_id}-CCF/{version}/views/cell_metadata_with_parcellation_annotation.csv', \n",
    "                        dtype={'cell_label':str},\n",
    "                        index_col=0)\n",
    "\n",
    "# # flip y coords so the sections don't display upside down\n",
    "# flip_y=True\n",
    "# if flip_y:\n",
    "#     ccf_md_df[['y_section', 'y_reconstructed']] *= -1"
   ]
  },
  {
   "cell_type": "markdown",
   "id": "8d11af46-6b59-4c16-ba44-1a4df77164b4",
   "metadata": {},
   "source": [
    "# What's in each metadata file?"
   ]
  },
  {
   "cell_type": "markdown",
   "id": "396266ad-2fcb-4f93-a13a-e42a8f927368",
   "metadata": {},
   "source": [
    "## expression matrices (log2 & raw) h5ad\n",
    "\n",
    "- 4,334,174 cells (~4.3 million)"
   ]
  },
  {
   "cell_type": "code",
   "execution_count": 8,
   "id": "3f294e41-0b7f-4567-8f1e-4e7006301e87",
   "metadata": {},
   "outputs": [
    {
     "name": "stdout",
     "output_type": "stream",
     "text": [
      "adata_log2.n_obs=4334174\n"
     ]
    },
    {
     "data": {
      "text/plain": [
       "AnnData object with n_obs × n_vars = 4334174 × 550 backed at '/data/abc_atlas/expression_matrices/MERFISH-C57BL6J-638850/20230830/C57BL6J-638850-log2.h5ad'\n",
       "    obs: 'brain_section_label'\n",
       "    var: 'gene_symbol', 'transcript_identifier'\n",
       "    uns: 'accessed_on', 'src'"
      ]
     },
     "execution_count": 8,
     "metadata": {},
     "output_type": "execute_result"
    }
   ],
   "source": [
    "print(f'{adata_log2.n_obs=}')\n",
    "adata_log2"
   ]
  },
  {
   "cell_type": "markdown",
   "id": "bcbb5d72-1c19-4090-8cf8-9a6737ede75e",
   "metadata": {},
   "source": [
    "## gene.csv metadata"
   ]
  },
  {
   "cell_type": "code",
   "execution_count": 9,
   "id": "ae3823d4-7149-431c-964e-ebeb93767006",
   "metadata": {},
   "outputs": [
    {
     "name": "stdout",
     "output_type": "stream",
     "text": [
      "len(gene_md_df)=550\n"
     ]
    },
    {
     "data": {
      "text/html": [
       "<div>\n",
       "<style scoped>\n",
       "    .dataframe tbody tr th:only-of-type {\n",
       "        vertical-align: middle;\n",
       "    }\n",
       "\n",
       "    .dataframe tbody tr th {\n",
       "        vertical-align: top;\n",
       "    }\n",
       "\n",
       "    .dataframe thead th {\n",
       "        text-align: right;\n",
       "    }\n",
       "</style>\n",
       "<table border=\"1\" class=\"dataframe\">\n",
       "  <thead>\n",
       "    <tr style=\"text-align: right;\">\n",
       "      <th></th>\n",
       "      <th>gene_symbol</th>\n",
       "      <th>transcript_identifier</th>\n",
       "      <th>name</th>\n",
       "      <th>mapped_ncbi_identifier</th>\n",
       "    </tr>\n",
       "    <tr>\n",
       "      <th>gene_identifier</th>\n",
       "      <th></th>\n",
       "      <th></th>\n",
       "      <th></th>\n",
       "      <th></th>\n",
       "    </tr>\n",
       "  </thead>\n",
       "  <tbody>\n",
       "    <tr>\n",
       "      <th>ENSMUSG00000026778</th>\n",
       "      <td>Prkcq</td>\n",
       "      <td>ENSMUST00000028118</td>\n",
       "      <td>protein kinase C, theta</td>\n",
       "      <td>NCBIGene:18761</td>\n",
       "    </tr>\n",
       "    <tr>\n",
       "      <th>ENSMUSG00000026837</th>\n",
       "      <td>Col5a1</td>\n",
       "      <td>ENSMUST00000028280</td>\n",
       "      <td>collagen, type V, alpha 1</td>\n",
       "      <td>NCBIGene:12831</td>\n",
       "    </tr>\n",
       "    <tr>\n",
       "      <th>ENSMUSG00000001985</th>\n",
       "      <td>Grik3</td>\n",
       "      <td>ENSMUST00000030676</td>\n",
       "      <td>glutamate receptor, ionotropic, kainate 3</td>\n",
       "      <td>NCBIGene:14807</td>\n",
       "    </tr>\n",
       "    <tr>\n",
       "      <th>ENSMUSG00000039323</th>\n",
       "      <td>Igfbp2</td>\n",
       "      <td>ENSMUST00000047328</td>\n",
       "      <td>insulin-like growth factor binding protein 2</td>\n",
       "      <td>NCBIGene:16008</td>\n",
       "    </tr>\n",
       "    <tr>\n",
       "      <th>ENSMUSG00000048387</th>\n",
       "      <td>Osr1</td>\n",
       "      <td>ENSMUST00000057021</td>\n",
       "      <td>odd-skipped related transcription factor 1</td>\n",
       "      <td>NCBIGene:23967</td>\n",
       "    </tr>\n",
       "    <tr>\n",
       "      <th>...</th>\n",
       "      <td>...</td>\n",
       "      <td>...</td>\n",
       "      <td>...</td>\n",
       "      <td>...</td>\n",
       "    </tr>\n",
       "    <tr>\n",
       "      <th>Blank-33</th>\n",
       "      <td>Blank-33</td>\n",
       "      <td>Blank-33</td>\n",
       "      <td>NaN</td>\n",
       "      <td>NaN</td>\n",
       "    </tr>\n",
       "    <tr>\n",
       "      <th>Blank-34</th>\n",
       "      <td>Blank-34</td>\n",
       "      <td>Blank-34</td>\n",
       "      <td>NaN</td>\n",
       "      <td>NaN</td>\n",
       "    </tr>\n",
       "    <tr>\n",
       "      <th>Blank-45</th>\n",
       "      <td>Blank-45</td>\n",
       "      <td>Blank-45</td>\n",
       "      <td>NaN</td>\n",
       "      <td>NaN</td>\n",
       "    </tr>\n",
       "    <tr>\n",
       "      <th>Blank-23</th>\n",
       "      <td>Blank-23</td>\n",
       "      <td>Blank-23</td>\n",
       "      <td>NaN</td>\n",
       "      <td>NaN</td>\n",
       "    </tr>\n",
       "    <tr>\n",
       "      <th>Blank-48</th>\n",
       "      <td>Blank-48</td>\n",
       "      <td>Blank-48</td>\n",
       "      <td>NaN</td>\n",
       "      <td>NaN</td>\n",
       "    </tr>\n",
       "  </tbody>\n",
       "</table>\n",
       "<p>550 rows × 4 columns</p>\n",
       "</div>"
      ],
      "text/plain": [
       "                   gene_symbol transcript_identifier  \\\n",
       "gene_identifier                                        \n",
       "ENSMUSG00000026778       Prkcq    ENSMUST00000028118   \n",
       "ENSMUSG00000026837      Col5a1    ENSMUST00000028280   \n",
       "ENSMUSG00000001985       Grik3    ENSMUST00000030676   \n",
       "ENSMUSG00000039323      Igfbp2    ENSMUST00000047328   \n",
       "ENSMUSG00000048387        Osr1    ENSMUST00000057021   \n",
       "...                        ...                   ...   \n",
       "Blank-33              Blank-33              Blank-33   \n",
       "Blank-34              Blank-34              Blank-34   \n",
       "Blank-45              Blank-45              Blank-45   \n",
       "Blank-23              Blank-23              Blank-23   \n",
       "Blank-48              Blank-48              Blank-48   \n",
       "\n",
       "                                                            name  \\\n",
       "gene_identifier                                                    \n",
       "ENSMUSG00000026778                       protein kinase C, theta   \n",
       "ENSMUSG00000026837                     collagen, type V, alpha 1   \n",
       "ENSMUSG00000001985     glutamate receptor, ionotropic, kainate 3   \n",
       "ENSMUSG00000039323  insulin-like growth factor binding protein 2   \n",
       "ENSMUSG00000048387    odd-skipped related transcription factor 1   \n",
       "...                                                          ...   \n",
       "Blank-33                                                     NaN   \n",
       "Blank-34                                                     NaN   \n",
       "Blank-45                                                     NaN   \n",
       "Blank-23                                                     NaN   \n",
       "Blank-48                                                     NaN   \n",
       "\n",
       "                   mapped_ncbi_identifier  \n",
       "gene_identifier                            \n",
       "ENSMUSG00000026778         NCBIGene:18761  \n",
       "ENSMUSG00000026837         NCBIGene:12831  \n",
       "ENSMUSG00000001985         NCBIGene:14807  \n",
       "ENSMUSG00000039323         NCBIGene:16008  \n",
       "ENSMUSG00000048387         NCBIGene:23967  \n",
       "...                                   ...  \n",
       "Blank-33                              NaN  \n",
       "Blank-34                              NaN  \n",
       "Blank-45                              NaN  \n",
       "Blank-23                              NaN  \n",
       "Blank-48                              NaN  \n",
       "\n",
       "[550 rows x 4 columns]"
      ]
     },
     "execution_count": 9,
     "metadata": {},
     "output_type": "execute_result"
    }
   ],
   "source": [
    "print(f'{len(gene_md_df)=}')\n",
    "gene_md_df"
   ]
  },
  {
   "cell_type": "markdown",
   "id": "80ecc777-c1d3-4331-99a1-f9f981e43ac2",
   "metadata": {},
   "source": [
    "## cell_metadata.csv"
   ]
  },
  {
   "cell_type": "code",
   "execution_count": 14,
   "id": "df7e995b-40f8-4563-b8b6-f9a225a6d3ae",
   "metadata": {},
   "outputs": [
    {
     "name": "stdout",
     "output_type": "stream",
     "text": [
      "len(cell_md_df)=3938808\n"
     ]
    },
    {
     "data": {
      "text/html": [
       "<div>\n",
       "<style scoped>\n",
       "    .dataframe tbody tr th:only-of-type {\n",
       "        vertical-align: middle;\n",
       "    }\n",
       "\n",
       "    .dataframe tbody tr th {\n",
       "        vertical-align: top;\n",
       "    }\n",
       "\n",
       "    .dataframe thead th {\n",
       "        text-align: right;\n",
       "    }\n",
       "</style>\n",
       "<table border=\"1\" class=\"dataframe\">\n",
       "  <thead>\n",
       "    <tr style=\"text-align: right;\">\n",
       "      <th></th>\n",
       "      <th>brain_section_label</th>\n",
       "      <th>cluster_alias</th>\n",
       "      <th>average_correlation_score</th>\n",
       "      <th>feature_matrix_label</th>\n",
       "      <th>donor_label</th>\n",
       "      <th>donor_genotype</th>\n",
       "      <th>donor_sex</th>\n",
       "      <th>x</th>\n",
       "      <th>y</th>\n",
       "      <th>z</th>\n",
       "    </tr>\n",
       "    <tr>\n",
       "      <th>cell_label</th>\n",
       "      <th></th>\n",
       "      <th></th>\n",
       "      <th></th>\n",
       "      <th></th>\n",
       "      <th></th>\n",
       "      <th></th>\n",
       "      <th></th>\n",
       "      <th></th>\n",
       "      <th></th>\n",
       "      <th></th>\n",
       "    </tr>\n",
       "  </thead>\n",
       "  <tbody>\n",
       "    <tr>\n",
       "      <th>1019171907102340387-1</th>\n",
       "      <td>C57BL6J-638850.37</td>\n",
       "      <td>1408</td>\n",
       "      <td>0.596276</td>\n",
       "      <td>C57BL6J-638850</td>\n",
       "      <td>C57BL6J-638850</td>\n",
       "      <td>wt/wt</td>\n",
       "      <td>M</td>\n",
       "      <td>7.226245</td>\n",
       "      <td>4.148963</td>\n",
       "      <td>6.6</td>\n",
       "    </tr>\n",
       "    <tr>\n",
       "      <th>1104095349101460194-1</th>\n",
       "      <td>C57BL6J-638850.26</td>\n",
       "      <td>4218</td>\n",
       "      <td>0.641180</td>\n",
       "      <td>C57BL6J-638850</td>\n",
       "      <td>C57BL6J-638850</td>\n",
       "      <td>wt/wt</td>\n",
       "      <td>M</td>\n",
       "      <td>5.064889</td>\n",
       "      <td>7.309543</td>\n",
       "      <td>4.2</td>\n",
       "    </tr>\n",
       "    <tr>\n",
       "      <th>1017092617101450577</th>\n",
       "      <td>C57BL6J-638850.25</td>\n",
       "      <td>4218</td>\n",
       "      <td>0.763531</td>\n",
       "      <td>C57BL6J-638850</td>\n",
       "      <td>C57BL6J-638850</td>\n",
       "      <td>wt/wt</td>\n",
       "      <td>M</td>\n",
       "      <td>5.792921</td>\n",
       "      <td>8.189973</td>\n",
       "      <td>4.0</td>\n",
       "    </tr>\n",
       "    <tr>\n",
       "      <th>1018093344101130233</th>\n",
       "      <td>C57BL6J-638850.13</td>\n",
       "      <td>4218</td>\n",
       "      <td>0.558073</td>\n",
       "      <td>C57BL6J-638850</td>\n",
       "      <td>C57BL6J-638850</td>\n",
       "      <td>wt/wt</td>\n",
       "      <td>M</td>\n",
       "      <td>3.195950</td>\n",
       "      <td>5.868655</td>\n",
       "      <td>2.4</td>\n",
       "    </tr>\n",
       "    <tr>\n",
       "      <th>1019171912201610094</th>\n",
       "      <td>C57BL6J-638850.27</td>\n",
       "      <td>4218</td>\n",
       "      <td>0.591009</td>\n",
       "      <td>C57BL6J-638850</td>\n",
       "      <td>C57BL6J-638850</td>\n",
       "      <td>wt/wt</td>\n",
       "      <td>M</td>\n",
       "      <td>5.635732</td>\n",
       "      <td>7.995842</td>\n",
       "      <td>4.4</td>\n",
       "    </tr>\n",
       "  </tbody>\n",
       "</table>\n",
       "</div>"
      ],
      "text/plain": [
       "                      brain_section_label  cluster_alias  \\\n",
       "cell_label                                                 \n",
       "1019171907102340387-1   C57BL6J-638850.37           1408   \n",
       "1104095349101460194-1   C57BL6J-638850.26           4218   \n",
       "1017092617101450577     C57BL6J-638850.25           4218   \n",
       "1018093344101130233     C57BL6J-638850.13           4218   \n",
       "1019171912201610094     C57BL6J-638850.27           4218   \n",
       "\n",
       "                       average_correlation_score feature_matrix_label  \\\n",
       "cell_label                                                              \n",
       "1019171907102340387-1                   0.596276       C57BL6J-638850   \n",
       "1104095349101460194-1                   0.641180       C57BL6J-638850   \n",
       "1017092617101450577                     0.763531       C57BL6J-638850   \n",
       "1018093344101130233                     0.558073       C57BL6J-638850   \n",
       "1019171912201610094                     0.591009       C57BL6J-638850   \n",
       "\n",
       "                          donor_label donor_genotype donor_sex         x  \\\n",
       "cell_label                                                                 \n",
       "1019171907102340387-1  C57BL6J-638850          wt/wt         M  7.226245   \n",
       "1104095349101460194-1  C57BL6J-638850          wt/wt         M  5.064889   \n",
       "1017092617101450577    C57BL6J-638850          wt/wt         M  5.792921   \n",
       "1018093344101130233    C57BL6J-638850          wt/wt         M  3.195950   \n",
       "1019171912201610094    C57BL6J-638850          wt/wt         M  5.635732   \n",
       "\n",
       "                              y    z  \n",
       "cell_label                            \n",
       "1019171907102340387-1  4.148963  6.6  \n",
       "1104095349101460194-1  7.309543  4.2  \n",
       "1017092617101450577    8.189973  4.0  \n",
       "1018093344101130233    5.868655  2.4  \n",
       "1019171912201610094    7.995842  4.4  "
      ]
     },
     "execution_count": 14,
     "metadata": {},
     "output_type": "execute_result"
    }
   ],
   "source": [
    "print(f'{len(cell_md_df)=}')\n",
    "cell_md_df.head(5)"
   ]
  },
  {
   "cell_type": "code",
   "execution_count": 19,
   "id": "e1312c24-20f5-4acb-8582-3c9e44fd794d",
   "metadata": {},
   "outputs": [
    {
     "data": {
      "image/png": "[encoded data removed]",
      "text/plain": [
       "<Figure size 640x480 with 1 Axes>"
      ]
     },
     "metadata": {},
     "output_type": "display_data"
    }
   ],
   "source": [
    "# counts, bins = np.histogram(cell_md_df['average_correlation_score'].values)\n",
    "fig = plt.figure()\n",
    "ax = plt.gca()\n",
    "ax.hist(cell_md_df['average_correlation_score'].values, bins=100)\n",
    "ax.set_xlabel('average_correlation_score')\n",
    "ax.set_ylabel('# of cells')\n",
    "plt.show()"
   ]
  },
  {
   "cell_type": "code",
   "execution_count": 12,
   "id": "91e5966e-4ad1-4d36-9876-55ea3301bca9",
   "metadata": {},
   "outputs": [
    {
     "name": "stdout",
     "output_type": "stream",
     "text": [
      "len(ccf_md_df)=3739961\n"
     ]
    },
    {
     "data": {
      "text/html": [
       "<div>\n",
       "<style scoped>\n",
       "    .dataframe tbody tr th:only-of-type {\n",
       "        vertical-align: middle;\n",
       "    }\n",
       "\n",
       "    .dataframe tbody tr th {\n",
       "        vertical-align: top;\n",
       "    }\n",
       "\n",
       "    .dataframe thead th {\n",
       "        text-align: right;\n",
       "    }\n",
       "</style>\n",
       "<table border=\"1\" class=\"dataframe\">\n",
       "  <thead>\n",
       "    <tr style=\"text-align: right;\">\n",
       "      <th></th>\n",
       "      <th>brain_section_label</th>\n",
       "      <th>cluster_alias</th>\n",
       "      <th>average_correlation_score</th>\n",
       "      <th>feature_matrix_label</th>\n",
       "      <th>donor_label</th>\n",
       "      <th>donor_genotype</th>\n",
       "      <th>donor_sex</th>\n",
       "      <th>x_section</th>\n",
       "      <th>y_section</th>\n",
       "      <th>z_section</th>\n",
       "      <th>...</th>\n",
       "      <th>parcellation_organ</th>\n",
       "      <th>parcellation_category</th>\n",
       "      <th>parcellation_division</th>\n",
       "      <th>parcellation_structure</th>\n",
       "      <th>parcellation_substructure</th>\n",
       "      <th>parcellation_organ_color</th>\n",
       "      <th>parcellation_category_color</th>\n",
       "      <th>parcellation_division_color</th>\n",
       "      <th>parcellation_structure_color</th>\n",
       "      <th>parcellation_substructure_color</th>\n",
       "    </tr>\n",
       "    <tr>\n",
       "      <th>cell_label</th>\n",
       "      <th></th>\n",
       "      <th></th>\n",
       "      <th></th>\n",
       "      <th></th>\n",
       "      <th></th>\n",
       "      <th></th>\n",
       "      <th></th>\n",
       "      <th></th>\n",
       "      <th></th>\n",
       "      <th></th>\n",
       "      <th></th>\n",
       "      <th></th>\n",
       "      <th></th>\n",
       "      <th></th>\n",
       "      <th></th>\n",
       "      <th></th>\n",
       "      <th></th>\n",
       "      <th></th>\n",
       "      <th></th>\n",
       "      <th></th>\n",
       "      <th></th>\n",
       "    </tr>\n",
       "  </thead>\n",
       "  <tbody>\n",
       "    <tr>\n",
       "      <th>1019171907102340387-1</th>\n",
       "      <td>C57BL6J-638850.37</td>\n",
       "      <td>1408</td>\n",
       "      <td>0.596276</td>\n",
       "      <td>C57BL6J-638850</td>\n",
       "      <td>C57BL6J-638850</td>\n",
       "      <td>wt/wt</td>\n",
       "      <td>M</td>\n",
       "      <td>7.226245</td>\n",
       "      <td>4.148963</td>\n",
       "      <td>6.6</td>\n",
       "      <td>...</td>\n",
       "      <td>brain</td>\n",
       "      <td>grey</td>\n",
       "      <td>HPF</td>\n",
       "      <td>DG</td>\n",
       "      <td>DG-po</td>\n",
       "      <td>#FFFFFF</td>\n",
       "      <td>#BFDAE3</td>\n",
       "      <td>#7ED04B</td>\n",
       "      <td>#7ED04B</td>\n",
       "      <td>#7ED04B</td>\n",
       "    </tr>\n",
       "    <tr>\n",
       "      <th>1104095349101460194-1</th>\n",
       "      <td>C57BL6J-638850.26</td>\n",
       "      <td>4218</td>\n",
       "      <td>0.641180</td>\n",
       "      <td>C57BL6J-638850</td>\n",
       "      <td>C57BL6J-638850</td>\n",
       "      <td>wt/wt</td>\n",
       "      <td>M</td>\n",
       "      <td>5.064889</td>\n",
       "      <td>7.309543</td>\n",
       "      <td>4.2</td>\n",
       "      <td>...</td>\n",
       "      <td>brain</td>\n",
       "      <td>grey</td>\n",
       "      <td>P</td>\n",
       "      <td>TRN</td>\n",
       "      <td>TRN</td>\n",
       "      <td>#FFFFFF</td>\n",
       "      <td>#BFDAE3</td>\n",
       "      <td>#FF9B88</td>\n",
       "      <td>#FFBA86</td>\n",
       "      <td>#FFBA86</td>\n",
       "    </tr>\n",
       "    <tr>\n",
       "      <th>1017092617101450577</th>\n",
       "      <td>C57BL6J-638850.25</td>\n",
       "      <td>4218</td>\n",
       "      <td>0.763531</td>\n",
       "      <td>C57BL6J-638850</td>\n",
       "      <td>C57BL6J-638850</td>\n",
       "      <td>wt/wt</td>\n",
       "      <td>M</td>\n",
       "      <td>5.792921</td>\n",
       "      <td>8.189973</td>\n",
       "      <td>4.0</td>\n",
       "      <td>...</td>\n",
       "      <td>brain</td>\n",
       "      <td>grey</td>\n",
       "      <td>P</td>\n",
       "      <td>P-unassigned</td>\n",
       "      <td>P-unassigned</td>\n",
       "      <td>#FFFFFF</td>\n",
       "      <td>#BFDAE3</td>\n",
       "      <td>#FF9B88</td>\n",
       "      <td>#FF9B88</td>\n",
       "      <td>#FF9B88</td>\n",
       "    </tr>\n",
       "    <tr>\n",
       "      <th>1018093344101130233</th>\n",
       "      <td>C57BL6J-638850.13</td>\n",
       "      <td>4218</td>\n",
       "      <td>0.558073</td>\n",
       "      <td>C57BL6J-638850</td>\n",
       "      <td>C57BL6J-638850</td>\n",
       "      <td>wt/wt</td>\n",
       "      <td>M</td>\n",
       "      <td>3.195950</td>\n",
       "      <td>5.868655</td>\n",
       "      <td>2.4</td>\n",
       "      <td>...</td>\n",
       "      <td>brain</td>\n",
       "      <td>fiber tracts</td>\n",
       "      <td>cbf</td>\n",
       "      <td>arb</td>\n",
       "      <td>arb</td>\n",
       "      <td>#FFFFFF</td>\n",
       "      <td>#CCCCCC</td>\n",
       "      <td>#CCCCCC</td>\n",
       "      <td>#CCCCCC</td>\n",
       "      <td>#CCCCCC</td>\n",
       "    </tr>\n",
       "    <tr>\n",
       "      <th>1019171912201610094</th>\n",
       "      <td>C57BL6J-638850.27</td>\n",
       "      <td>4218</td>\n",
       "      <td>0.591009</td>\n",
       "      <td>C57BL6J-638850</td>\n",
       "      <td>C57BL6J-638850</td>\n",
       "      <td>wt/wt</td>\n",
       "      <td>M</td>\n",
       "      <td>5.635732</td>\n",
       "      <td>7.995842</td>\n",
       "      <td>4.4</td>\n",
       "      <td>...</td>\n",
       "      <td>brain</td>\n",
       "      <td>grey</td>\n",
       "      <td>P</td>\n",
       "      <td>P-unassigned</td>\n",
       "      <td>P-unassigned</td>\n",
       "      <td>#FFFFFF</td>\n",
       "      <td>#BFDAE3</td>\n",
       "      <td>#FF9B88</td>\n",
       "      <td>#FF9B88</td>\n",
       "      <td>#FF9B88</td>\n",
       "    </tr>\n",
       "    <tr>\n",
       "      <th>...</th>\n",
       "      <td>...</td>\n",
       "      <td>...</td>\n",
       "      <td>...</td>\n",
       "      <td>...</td>\n",
       "      <td>...</td>\n",
       "      <td>...</td>\n",
       "      <td>...</td>\n",
       "      <td>...</td>\n",
       "      <td>...</td>\n",
       "      <td>...</td>\n",
       "      <td>...</td>\n",
       "      <td>...</td>\n",
       "      <td>...</td>\n",
       "      <td>...</td>\n",
       "      <td>...</td>\n",
       "      <td>...</td>\n",
       "      <td>...</td>\n",
       "      <td>...</td>\n",
       "      <td>...</td>\n",
       "      <td>...</td>\n",
       "      <td>...</td>\n",
       "    </tr>\n",
       "    <tr>\n",
       "      <th>1018093344100380167-3</th>\n",
       "      <td>C57BL6J-638850.47</td>\n",
       "      <td>5252</td>\n",
       "      <td>0.574988</td>\n",
       "      <td>C57BL6J-638850</td>\n",
       "      <td>C57BL6J-638850</td>\n",
       "      <td>wt/wt</td>\n",
       "      <td>M</td>\n",
       "      <td>1.560003</td>\n",
       "      <td>4.669243</td>\n",
       "      <td>8.8</td>\n",
       "      <td>...</td>\n",
       "      <td>brain</td>\n",
       "      <td>grey</td>\n",
       "      <td>Isocortex</td>\n",
       "      <td>SSp-n</td>\n",
       "      <td>SSp-n2/3</td>\n",
       "      <td>#FFFFFF</td>\n",
       "      <td>#BFDAE3</td>\n",
       "      <td>#70FF71</td>\n",
       "      <td>#188064</td>\n",
       "      <td>#188064</td>\n",
       "    </tr>\n",
       "    <tr>\n",
       "      <th>1017165415100930567</th>\n",
       "      <td>C57BL6J-638850.57</td>\n",
       "      <td>5254</td>\n",
       "      <td>0.620546</td>\n",
       "      <td>C57BL6J-638850</td>\n",
       "      <td>C57BL6J-638850</td>\n",
       "      <td>wt/wt</td>\n",
       "      <td>M</td>\n",
       "      <td>5.032556</td>\n",
       "      <td>3.695696</td>\n",
       "      <td>11.0</td>\n",
       "      <td>...</td>\n",
       "      <td>brain</td>\n",
       "      <td>grey</td>\n",
       "      <td>Isocortex</td>\n",
       "      <td>ACAd</td>\n",
       "      <td>ACAd5</td>\n",
       "      <td>#FFFFFF</td>\n",
       "      <td>#BFDAE3</td>\n",
       "      <td>#70FF71</td>\n",
       "      <td>#40A666</td>\n",
       "      <td>#40A666</td>\n",
       "    </tr>\n",
       "    <tr>\n",
       "      <th>1017155956102610748</th>\n",
       "      <td>C57BL6J-638850.49</td>\n",
       "      <td>5254</td>\n",
       "      <td>0.548053</td>\n",
       "      <td>C57BL6J-638850</td>\n",
       "      <td>C57BL6J-638850</td>\n",
       "      <td>wt/wt</td>\n",
       "      <td>M</td>\n",
       "      <td>2.549142</td>\n",
       "      <td>4.231188</td>\n",
       "      <td>9.2</td>\n",
       "      <td>...</td>\n",
       "      <td>brain</td>\n",
       "      <td>grey</td>\n",
       "      <td>Isocortex</td>\n",
       "      <td>SSp-m</td>\n",
       "      <td>SSp-m6a</td>\n",
       "      <td>#FFFFFF</td>\n",
       "      <td>#BFDAE3</td>\n",
       "      <td>#70FF71</td>\n",
       "      <td>#188064</td>\n",
       "      <td>#188064</td>\n",
       "    </tr>\n",
       "    <tr>\n",
       "      <th>1017155956101980080-1</th>\n",
       "      <td>C57BL6J-638850.50</td>\n",
       "      <td>5252</td>\n",
       "      <td>0.621901</td>\n",
       "      <td>C57BL6J-638850</td>\n",
       "      <td>C57BL6J-638850</td>\n",
       "      <td>wt/wt</td>\n",
       "      <td>M</td>\n",
       "      <td>1.381324</td>\n",
       "      <td>5.784595</td>\n",
       "      <td>9.4</td>\n",
       "      <td>...</td>\n",
       "      <td>brain</td>\n",
       "      <td>grey</td>\n",
       "      <td>Isocortex</td>\n",
       "      <td>SSs</td>\n",
       "      <td>SSs1</td>\n",
       "      <td>#FFFFFF</td>\n",
       "      <td>#BFDAE3</td>\n",
       "      <td>#70FF71</td>\n",
       "      <td>#188064</td>\n",
       "      <td>#188064</td>\n",
       "    </tr>\n",
       "    <tr>\n",
       "      <th>1018093344102220578-3</th>\n",
       "      <td>C57BL6J-638850.36</td>\n",
       "      <td>5252</td>\n",
       "      <td>0.625139</td>\n",
       "      <td>C57BL6J-638850</td>\n",
       "      <td>C57BL6J-638850</td>\n",
       "      <td>wt/wt</td>\n",
       "      <td>M</td>\n",
       "      <td>6.184499</td>\n",
       "      <td>6.654317</td>\n",
       "      <td>6.4</td>\n",
       "      <td>...</td>\n",
       "      <td>brain</td>\n",
       "      <td>grey</td>\n",
       "      <td>HY</td>\n",
       "      <td>HY-unassigned</td>\n",
       "      <td>HY-unassigned</td>\n",
       "      <td>#FFFFFF</td>\n",
       "      <td>#BFDAE3</td>\n",
       "      <td>#E64438</td>\n",
       "      <td>#E64438</td>\n",
       "      <td>#E64438</td>\n",
       "    </tr>\n",
       "  </tbody>\n",
       "</table>\n",
       "<p>3739961 rows × 37 columns</p>\n",
       "</div>"
      ],
      "text/plain": [
       "                      brain_section_label  cluster_alias  \\\n",
       "cell_label                                                 \n",
       "1019171907102340387-1   C57BL6J-638850.37           1408   \n",
       "1104095349101460194-1   C57BL6J-638850.26           4218   \n",
       "1017092617101450577     C57BL6J-638850.25           4218   \n",
       "1018093344101130233     C57BL6J-638850.13           4218   \n",
       "1019171912201610094     C57BL6J-638850.27           4218   \n",
       "...                                   ...            ...   \n",
       "1018093344100380167-3   C57BL6J-638850.47           5252   \n",
       "1017165415100930567     C57BL6J-638850.57           5254   \n",
       "1017155956102610748     C57BL6J-638850.49           5254   \n",
       "1017155956101980080-1   C57BL6J-638850.50           5252   \n",
       "1018093344102220578-3   C57BL6J-638850.36           5252   \n",
       "\n",
       "                       average_correlation_score feature_matrix_label  \\\n",
       "cell_label                                                              \n",
       "1019171907102340387-1                   0.596276       C57BL6J-638850   \n",
       "1104095349101460194-1                   0.641180       C57BL6J-638850   \n",
       "1017092617101450577                     0.763531       C57BL6J-638850   \n",
       "1018093344101130233                     0.558073       C57BL6J-638850   \n",
       "1019171912201610094                     0.591009       C57BL6J-638850   \n",
       "...                                          ...                  ...   \n",
       "1018093344100380167-3                   0.574988       C57BL6J-638850   \n",
       "1017165415100930567                     0.620546       C57BL6J-638850   \n",
       "1017155956102610748                     0.548053       C57BL6J-638850   \n",
       "1017155956101980080-1                   0.621901       C57BL6J-638850   \n",
       "1018093344102220578-3                   0.625139       C57BL6J-638850   \n",
       "\n",
       "                          donor_label donor_genotype donor_sex  x_section  \\\n",
       "cell_label                                                                  \n",
       "1019171907102340387-1  C57BL6J-638850          wt/wt         M   7.226245   \n",
       "1104095349101460194-1  C57BL6J-638850          wt/wt         M   5.064889   \n",
       "1017092617101450577    C57BL6J-638850          wt/wt         M   5.792921   \n",
       "1018093344101130233    C57BL6J-638850          wt/wt         M   3.195950   \n",
       "1019171912201610094    C57BL6J-638850          wt/wt         M   5.635732   \n",
       "...                               ...            ...       ...        ...   \n",
       "1018093344100380167-3  C57BL6J-638850          wt/wt         M   1.560003   \n",
       "1017165415100930567    C57BL6J-638850          wt/wt         M   5.032556   \n",
       "1017155956102610748    C57BL6J-638850          wt/wt         M   2.549142   \n",
       "1017155956101980080-1  C57BL6J-638850          wt/wt         M   1.381324   \n",
       "1018093344102220578-3  C57BL6J-638850          wt/wt         M   6.184499   \n",
       "\n",
       "                       y_section  z_section  ... parcellation_organ  \\\n",
       "cell_label                                   ...                      \n",
       "1019171907102340387-1   4.148963        6.6  ...              brain   \n",
       "1104095349101460194-1   7.309543        4.2  ...              brain   \n",
       "1017092617101450577     8.189973        4.0  ...              brain   \n",
       "1018093344101130233     5.868655        2.4  ...              brain   \n",
       "1019171912201610094     7.995842        4.4  ...              brain   \n",
       "...                          ...        ...  ...                ...   \n",
       "1018093344100380167-3   4.669243        8.8  ...              brain   \n",
       "1017165415100930567     3.695696       11.0  ...              brain   \n",
       "1017155956102610748     4.231188        9.2  ...              brain   \n",
       "1017155956101980080-1   5.784595        9.4  ...              brain   \n",
       "1018093344102220578-3   6.654317        6.4  ...              brain   \n",
       "\n",
       "                      parcellation_category parcellation_division  \\\n",
       "cell_label                                                          \n",
       "1019171907102340387-1                  grey                   HPF   \n",
       "1104095349101460194-1                  grey                     P   \n",
       "1017092617101450577                    grey                     P   \n",
       "1018093344101130233            fiber tracts                   cbf   \n",
       "1019171912201610094                    grey                     P   \n",
       "...                                     ...                   ...   \n",
       "1018093344100380167-3                  grey             Isocortex   \n",
       "1017165415100930567                    grey             Isocortex   \n",
       "1017155956102610748                    grey             Isocortex   \n",
       "1017155956101980080-1                  grey             Isocortex   \n",
       "1018093344102220578-3                  grey                    HY   \n",
       "\n",
       "                      parcellation_structure parcellation_substructure  \\\n",
       "cell_label                                                               \n",
       "1019171907102340387-1                     DG                     DG-po   \n",
       "1104095349101460194-1                    TRN                       TRN   \n",
       "1017092617101450577             P-unassigned              P-unassigned   \n",
       "1018093344101130233                      arb                       arb   \n",
       "1019171912201610094             P-unassigned              P-unassigned   \n",
       "...                                      ...                       ...   \n",
       "1018093344100380167-3                  SSp-n                  SSp-n2/3   \n",
       "1017165415100930567                     ACAd                     ACAd5   \n",
       "1017155956102610748                    SSp-m                   SSp-m6a   \n",
       "1017155956101980080-1                    SSs                      SSs1   \n",
       "1018093344102220578-3          HY-unassigned             HY-unassigned   \n",
       "\n",
       "                      parcellation_organ_color parcellation_category_color  \\\n",
       "cell_label                                                                   \n",
       "1019171907102340387-1                  #FFFFFF                     #BFDAE3   \n",
       "1104095349101460194-1                  #FFFFFF                     #BFDAE3   \n",
       "1017092617101450577                    #FFFFFF                     #BFDAE3   \n",
       "1018093344101130233                    #FFFFFF                     #CCCCCC   \n",
       "1019171912201610094                    #FFFFFF                     #BFDAE3   \n",
       "...                                        ...                         ...   \n",
       "1018093344100380167-3                  #FFFFFF                     #BFDAE3   \n",
       "1017165415100930567                    #FFFFFF                     #BFDAE3   \n",
       "1017155956102610748                    #FFFFFF                     #BFDAE3   \n",
       "1017155956101980080-1                  #FFFFFF                     #BFDAE3   \n",
       "1018093344102220578-3                  #FFFFFF                     #BFDAE3   \n",
       "\n",
       "                      parcellation_division_color  \\\n",
       "cell_label                                          \n",
       "1019171907102340387-1                     #7ED04B   \n",
       "1104095349101460194-1                     #FF9B88   \n",
       "1017092617101450577                       #FF9B88   \n",
       "1018093344101130233                       #CCCCCC   \n",
       "1019171912201610094                       #FF9B88   \n",
       "...                                           ...   \n",
       "1018093344100380167-3                     #70FF71   \n",
       "1017165415100930567                       #70FF71   \n",
       "1017155956102610748                       #70FF71   \n",
       "1017155956101980080-1                     #70FF71   \n",
       "1018093344102220578-3                     #E64438   \n",
       "\n",
       "                      parcellation_structure_color  \\\n",
       "cell_label                                           \n",
       "1019171907102340387-1                      #7ED04B   \n",
       "1104095349101460194-1                      #FFBA86   \n",
       "1017092617101450577                        #FF9B88   \n",
       "1018093344101130233                        #CCCCCC   \n",
       "1019171912201610094                        #FF9B88   \n",
       "...                                            ...   \n",
       "1018093344100380167-3                      #188064   \n",
       "1017165415100930567                        #40A666   \n",
       "1017155956102610748                        #188064   \n",
       "1017155956101980080-1                      #188064   \n",
       "1018093344102220578-3                      #E64438   \n",
       "\n",
       "                      parcellation_substructure_color  \n",
       "cell_label                                             \n",
       "1019171907102340387-1                         #7ED04B  \n",
       "1104095349101460194-1                         #FFBA86  \n",
       "1017092617101450577                           #FF9B88  \n",
       "1018093344101130233                           #CCCCCC  \n",
       "1019171912201610094                           #FF9B88  \n",
       "...                                               ...  \n",
       "1018093344100380167-3                         #188064  \n",
       "1017165415100930567                           #40A666  \n",
       "1017155956102610748                           #188064  \n",
       "1017155956101980080-1                         #188064  \n",
       "1018093344102220578-3                         #E64438  \n",
       "\n",
       "[3739961 rows x 37 columns]"
      ]
     },
     "execution_count": 12,
     "metadata": {},
     "output_type": "execute_result"
    }
   ],
   "source": [
    "print(f'{len(ccf_md_df)=}')\n",
    "ccf_md_df"
   ]
  },
  {
   "cell_type": "markdown",
   "id": "b157d0bb-8a7a-4a14-94ca-f356bb1841f4",
   "metadata": {},
   "source": [
    "# Get things looking more like our other adata objects"
   ]
  },
  {
   "cell_type": "code",
   "execution_count": 13,
   "id": "69cc1018-ebd8-4aa9-9fc9-56017fb2b7d9",
   "metadata": {
    "tags": []
   },
   "outputs": [],
   "source": [
    "# older data asset subsetted to thalamus/ZI outline\n",
    "_REFERENCE_TH_ANNDATA_PATH = \"//allen/programs/celltypes/workgroups/rnaseqanalysis/mFISH/meghanturner/thalamus_data/atlas_brain_638850_AIT17_custom_CCF_annotated_TH_ZI_only.h5ad\"\n",
    "abc_root = Path(\"//allen/programs/celltypes/workgroups/rnaseqanalysis/mFISH/meghanturner/abc_atlas/abc_atlas_data/\")\n",
    "brain_id = 'C57BL6J-638850'\n",
    "version=\"20230830\""
   ]
  },
  {
   "cell_type": "code",
   "execution_count": null,
   "id": "28a903e0-f407-4713-86c5-442e0a2c2cf2",
   "metadata": {
    "tags": []
   },
   "outputs": [],
   "source": [
    "# get both the raw and log2 counts \n",
    "#  - log2 for plotting gene expression, etc.\n",
    "#  - raw required for mapping with cell-type-mapper\n",
    "adata_raw = ad.read_h5ad(abc_root/f\"expression_matrices/MERFISH-{brain_id}/{version}/{brain_id}-raw.h5ad\", backed='r')\n",
    "adata_log2 = ad.read_h5ad(abc_root/f\"expression_matrices/MERFISH-{brain_id}/{version}/{brain_id}-log2.h5ad\", backed='r')"
   ]
  },
  {
   "cell_type": "code",
   "execution_count": null,
   "id": "14d0b1f3-2f74-4da5-9da5-616baf085780",
   "metadata": {
    "tags": []
   },
   "outputs": [],
   "source": [
    "print(len(adata_raw), len(adata_log2))"
   ]
  },
  {
   "cell_type": "code",
   "execution_count": null,
   "id": "2ce959f1-f0a4-47e5-8204-8bd3698213e6",
   "metadata": {
    "tags": []
   },
   "outputs": [],
   "source": [
    "ccf_md_df = pd.read_csv(abc_root/f\"metadata/MERFISH-{brain_id}-CCF/{version}/views/cell_metadata_with_parcellation_annotation.csv\", \n",
    "                        dtype={'cell_label':str}, \n",
    "                        index_col=0)"
   ]
  },
  {
   "cell_type": "code",
   "execution_count": null,
   "id": "6c06bcc8-2240-4ebe-8c69-213698cf79ed",
   "metadata": {
    "tags": []
   },
   "outputs": [],
   "source": [
    "# flip y coords so the sections don't display upside down\n",
    "flip_y=True\n",
    "if flip_y:\n",
    "    ccf_md_df[['y_section', 'y_reconstructed']] *= -1"
   ]
  },
  {
   "cell_type": "code",
   "execution_count": null,
   "id": "cca97bae-4a4b-4864-98a0-f868f2f1bc22",
   "metadata": {
    "tags": []
   },
   "outputs": [],
   "source": [
    "# subset to just TH+ZI using our existing TH+ZI-only h5ad\n",
    "adata_ref = ad.read_h5ad(_REFERENCE_TH_ANNDATA_PATH, backed='r')"
   ]
  },
  {
   "cell_type": "code",
   "execution_count": null,
   "id": "109c2694-9211-4d94-a6b3-c49c18aa253f",
   "metadata": {
    "tags": []
   },
   "outputs": [],
   "source": [
    "# subset to only the cells that passed QC through to parcellation annotation\n",
    "# (it's important to do this BEFORE subsetting with the reference anndata object\n",
    "#  so that the QC-failed cells don't hang around as NaN rows)\n",
    "adata_raw = adata_raw[adata_raw.obs_names.intersection(ccf_md_df.index)].to_memory()\n",
    "# we'll store the log2 counts in X\n",
    "adata_new = adata_log2[adata_log2.obs_names.intersection(ccf_md_df.index)].to_memory()"
   ]
  },
  {
   "cell_type": "code",
   "execution_count": null,
   "id": "f63337f3-b127-4cd1-a1d9-34491ff43e2d",
   "metadata": {
    "tags": []
   },
   "outputs": [],
   "source": [
    "print(len(adata_raw), len(adata_new))"
   ]
  },
  {
   "cell_type": "code",
   "execution_count": null,
   "id": "1e84c99e-7fba-4733-b46e-5742bfc738e9",
   "metadata": {
    "tags": []
   },
   "outputs": [],
   "source": [
    "# # set X to log2 counts\n",
    "# adata_new = adata_log2.to_memory()"
   ]
  },
  {
   "cell_type": "code",
   "execution_count": null,
   "id": "1baf0ae6-dd48-4813-b1d9-0a4e2c1d54a3",
   "metadata": {
    "tags": []
   },
   "outputs": [],
   "source": [
    "# store both the raw and log2 counts in layers\n",
    "adata_new.layers['log2p'] = adata_new.X\n",
    "adata_new.layers['raw'] = adata_raw.X"
   ]
  },
  {
   "cell_type": "code",
   "execution_count": null,
   "id": "e0b034c1-4038-4931-a00f-c4962588029b",
   "metadata": {
    "tags": []
   },
   "outputs": [],
   "source": [
    "adata_new.obs = ccf_md_df"
   ]
  },
  {
   "cell_type": "code",
   "execution_count": null,
   "id": "c95ab546-8510-4a1a-b86e-24dcf7fda44e",
   "metadata": {
    "tags": []
   },
   "outputs": [],
   "source": [
    "adata_new"
   ]
  },
  {
   "cell_type": "code",
   "execution_count": null,
   "id": "48a25a06-3122-4275-91ba-b1a66c1565a3",
   "metadata": {
    "tags": []
   },
   "outputs": [],
   "source": [
    "# subset to cells that were annotated as TH or ZI either: \n",
    "# (a) manually by Brian OR (b) by the ABC atlas ccf parcellation metadata\n",
    "ccf_th_zi_mask = (ccf_md_df['parcellation_division']=='TH') | (ccf_md_df['parcellation_structure']=='ZI')\n",
    "manual_th_zi_mask = adata_new.obs_names.isin(adata_ref.obs_names)\n",
    "th_zi_combo_mask = (ccf_th_zi_mask | manual_th_zi_mask)\n",
    "\n",
    "adata_new = adata_new[th_zi_combo_mask].copy()\n",
    "\n",
    "# label cells that were manually annotated as in TH or ZI\n",
    "adata_new.obs['is_in_TH_or_ZI_manual_polygon'] = adata_new.obs_names.isin(adata_ref.obs_names)"
   ]
  },
  {
   "cell_type": "code",
   "execution_count": null,
   "id": "25af275f-9158-4240-8ee1-05a524a5fd10",
   "metadata": {
    "tags": []
   },
   "outputs": [],
   "source": [
    "# tuck into obsm: other spatial coordinates, colors\n",
    "adata_new.obsm['spatial_ccf'] = adata_new.obs[['x_ccf', 'y_ccf', 'z_ccf']]\n",
    "adata_new.obsm['spatial_reconstructed'] = adata_new.obs[['x_reconstructed', \n",
    "                                                         'y_reconstructed', \n",
    "                                                         'z_reconstructed']]\n",
    "adata_new.obsm['cluster_annotation_colors'] = adata_new.obs[['neurotransmitter_color', \n",
    "                                                             'class_color', \n",
    "                                                             'subclass_color', \n",
    "                                                             'supertype_color', \n",
    "                                                             'cluster_color']]\n",
    "adata_new.obsm['parcellation_annotation_colors'] = adata_new.obs[['parcellation_division_color', \n",
    "                                                                  'parcellation_structure_color', \n",
    "                                                                  'parcellation_substructure_color']]"
   ]
  },
  {
   "cell_type": "code",
   "execution_count": null,
   "id": "bc2d0615-8398-4dc8-ae24-c274918b8dbd",
   "metadata": {
    "tags": []
   },
   "outputs": [],
   "source": [
    "adata_new.obs.columns"
   ]
  },
  {
   "cell_type": "code",
   "execution_count": null,
   "id": "97bcd469-f142-4fcd-b328-47382f551071",
   "metadata": {
    "tags": []
   },
   "outputs": [],
   "source": [
    "# drop any obs column that we've tucked away in obsm\n",
    "adata_new.obs.drop(columns=['neurotransmitter_color','class_color', \n",
    "                           'subclass_color','supertype_color','cluster_color',\n",
    "                           'x_reconstructed','y_reconstructed','z_reconstructed',\n",
    "                           'x_ccf','y_ccf','z_ccf',\n",
    "                           'parcellation_organ_color','parcellation_category_color',\n",
    "                           'parcellation_division_color','parcellation_structure_color',\n",
    "                           'parcellation_substructure_color'], \n",
    "                   inplace=True)\n",
    "\n",
    "# drop redundant or less useful metadata\n",
    "adata_new.obs.drop(columns=['feature_matrix_label', 'donor_label', 'donor_genotype',\n",
    "                           'parcellation_index', 'parcellation_organ', \n",
    "                           'parcellation_category'],\n",
    "                   inplace=True)"
   ]
  },
  {
   "cell_type": "code",
   "execution_count": null,
   "id": "853a1002-440c-4aeb-8706-db0b6bee3bd6",
   "metadata": {
    "tags": []
   },
   "outputs": [],
   "source": [
    "adata_new"
   ]
  },
  {
   "cell_type": "code",
   "execution_count": null,
   "id": "4f45d55f-90d9-4c16-a8d9-ad5374b12a50",
   "metadata": {
    "tags": []
   },
   "outputs": [],
   "source": [
    "adata_new.uns = adata_ref.uns"
   ]
  },
  {
   "cell_type": "code",
   "execution_count": null,
   "id": "d254f4b7-9e53-4b6c-be57-a5740341b824",
   "metadata": {
    "tags": []
   },
   "outputs": [],
   "source": [
    "sorted(adata_ref.obs['target_atlas_plate'].unique())"
   ]
  },
  {
   "cell_type": "code",
   "execution_count": null,
   "id": "72ef38e0-dd22-401a-ac99-bb196705c879",
   "metadata": {
    "tags": []
   },
   "outputs": [],
   "source": [
    "adata_new.obs.head(3)"
   ]
  },
  {
   "cell_type": "code",
   "execution_count": null,
   "id": "e0b743d0-a643-4c36-9355-670fa5acb2e1",
   "metadata": {
    "tags": []
   },
   "outputs": [],
   "source": [
    "adata_new.uns['thalamus_polygons'].keys()"
   ]
  },
  {
   "cell_type": "code",
   "execution_count": null,
   "id": "ace52f8a-2488-4c00-bcb5-a5e243bdaa68",
   "metadata": {
    "tags": []
   },
   "outputs": [],
   "source": [
    "section_labels_mapping_df = pd.read_csv('section_labels_mapping_mouse638850.csv', dtype=object)\n",
    "section_labels_mapping_df.head(5)#['internal_section_ids'].values"
   ]
  },
  {
   "cell_type": "code",
   "execution_count": null,
   "id": "c6e11f41-b71f-4bdf-bec1-d3c98b06f5ec",
   "metadata": {
    "tags": []
   },
   "outputs": [],
   "source": [
    "# update the thalamus_polygon keys to match the abc atlas section_labels\n",
    "th_polygons_with_abc_section_labels = {\n",
    "    sec['abc_atlas_section_labels']: adata_new.uns['thalamus_polygons'].get(sec['internal_section_ids'], None) \n",
    "    for _, sec in section_labels_mapping_df.iterrows()\n",
    "    if sec['internal_section_ids'] in adata_new.uns['thalamus_polygons']\n",
    "}\n",
    "\n",
    "adata_new.uns['thalamus_polygons'] = th_polygons_with_abc_section_labels"
   ]
  },
  {
   "cell_type": "markdown",
   "id": "8bd9e84a-f38a-4d82-b225-0d5be92596ed",
   "metadata": {},
   "source": [
    "# Does our TH+ZI subset look like we expect?"
   ]
  },
  {
   "cell_type": "code",
   "execution_count": null,
   "id": "3eb05b42-4532-484a-a1cb-bf843e4485d2",
   "metadata": {
    "tags": []
   },
   "outputs": [],
   "source": [
    "from shapely.geometry import Polygon, MultiLineString, box, Point, MultiPolygon\n",
    "from shapely.ops import unary_union, polygonize\n",
    "import shapely.plotting as splot\n",
    "import shapely\n",
    "from  geojson.geometry import GeometryCollection\n",
    "import geojson"
   ]
  },
  {
   "cell_type": "markdown",
   "id": "23e42947-916b-4fb8-8188-af40dd8716ab",
   "metadata": {
    "tags": []
   },
   "source": [
    "## Plot section coordinates vs manual annotation polygon coordinates"
   ]
  },
  {
   "cell_type": "code",
   "execution_count": null,
   "id": "a427a010-a9e2-42bc-bbaa-fa1f426383bf",
   "metadata": {
    "tags": []
   },
   "outputs": [],
   "source": [
    "# Add the MD polygons on top\n",
    "# select the right polygon(s) for this section\n",
    "# poly_index = np.where( (np.array([int(x) for x in MD_shapes_z])==z_plane) & \n",
    "#                        (MD_polys_brain_id==3) )[0]\n",
    "\n",
    "poly_section_keys = sorted(list(adata_new.uns['thalamus_polygons'].keys()))\n",
    "\n",
    "curr_sec_id = poly_section_keys[0]\n",
    "curr_sec = adata_new[adata_new.obs['brain_section_label']==curr_sec_id]\n",
    "\n",
    "gc = geojson.loads(adata_new.uns['thalamus_polygons'][curr_sec_id])\n",
    "\n",
    "TH_polys = [shapely.geometry.Polygon(poly['coordinates']) for poly in gc['geometries']]\n",
    "\n",
    "\n",
    "plt.scatter(curr_sec.obs['x_section'],-curr_sec.obs['y_section'], s=0.1,c='grey')\n",
    "plt.axis('equal')\n",
    "plt.show()\n",
    "\n",
    "for poly in TH_polys:\n",
    "    plt.plot(np.array(poly.exterior.coords)[:,1], \n",
    "             -np.array(poly.exterior.coords)[:,0], 'k')\n",
    "    \n",
    "plt.axis('equal')\n",
    "plt.show()"
   ]
  },
  {
   "cell_type": "markdown",
   "id": "8bfe6d24-e5fb-4db9-9574-c0e29655fbd6",
   "metadata": {},
   "source": [
    "## Plot Brian's manual annotation vs ABC atlas anatomical neighborhoods"
   ]
  },
  {
   "cell_type": "code",
   "execution_count": null,
   "id": "e135a154-3d9f-4900-be96-6bfd5713ba27",
   "metadata": {
    "tags": []
   },
   "outputs": [],
   "source": [
    "import numpy as np\n",
    "\n",
    "n_col = 3\n",
    "n_row = int(len(poly_section_keys) / n_col)\n",
    "\n",
    "fig, axes = plt.subplots(n_row, n_col, figsize=(16,12))\n",
    "axes=axes.ravel()\n",
    "\n",
    "for i, sec_id in enumerate(poly_section_keys):\n",
    "    ax = axes[i]\n",
    "    curr_sec = adata_new[adata_new.obs['brain_section_label']==sec_id]\n",
    "    sc = ax.scatter(curr_sec.obs['x_section'],-curr_sec.obs['y_section'],\n",
    "                s=0.1,c=curr_sec.obs['is_in_TH_or_ZI_manual_polygon'],cmap='bwr')\n",
    "    ax.axis('equal')\n",
    "    ax.set_xticks([])\n",
    "    ax.set_yticks([])\n",
    "    \n",
    "    if i==0:\n",
    "        ax.legend(handles=sc.legend_elements()[0],\n",
    "                   labels=['not in manual polygon', 'in manual TH+ZI polygon'],\n",
    "                   loc='upper left')"
   ]
  },
  {
   "cell_type": "markdown",
   "id": "e8a8e8ce-a06d-472c-9f4f-dea567310eb1",
   "metadata": {},
   "source": [
    "## Plot taxonomy & anatomical levels within BL+ABC-defined TH+ZI"
   ]
  },
  {
   "cell_type": "code",
   "execution_count": null,
   "id": "98cf050e-9d5f-4c86-8de4-37d7939dabe7",
   "metadata": {
    "tags": []
   },
   "outputs": [],
   "source": [
    "# adata_new.obsm['parcellation_annotation_colors']['parcellation_structure_color'].unique()\n",
    "adata_new.obsm['cluster_annotation_colors']['subclass_color'].unique()"
   ]
  },
  {
   "cell_type": "code",
   "execution_count": null,
   "id": "b168dfbf-1223-42c8-b30f-5ba0e434bfbe",
   "metadata": {
    "tags": []
   },
   "outputs": [],
   "source": [
    "obs_temp_df = adata_new.obs.copy()"
   ]
  },
  {
   "cell_type": "code",
   "execution_count": null,
   "id": "1bb775d3-98ed-4f21-8b2d-0111bc355d1c",
   "metadata": {
    "tags": []
   },
   "outputs": [],
   "source": [
    "obs_temp_df.columns#['parcellation_division'].unique()"
   ]
  },
  {
   "cell_type": "markdown",
   "id": "c79e5ba6-19a5-4b03-9805-ee7503704a54",
   "metadata": {},
   "source": [
    "### CCF Division"
   ]
  },
  {
   "cell_type": "code",
   "execution_count": null,
   "id": "f7a34307-2df4-4e44-b70a-dd783d1c8e34",
   "metadata": {
    "tags": []
   },
   "outputs": [],
   "source": [
    "# get unique parcellation_structures\n",
    "ccf_level = 'parcellation_division'\n",
    "ccf_level_color = 'division_colors'\n",
    "ccf_structures = obs_temp_df[ccf_level].unique()\n",
    "\n",
    "cmap = plt.get_cmap('tab20')\n",
    "\n",
    "# Create a colormap with as many colors as there are categories\n",
    "structure_colors = cmap(np.linspace(0, 1, len(ccf_structures)))\n",
    "\n",
    "# map categories to colors\n",
    "structure_color_mapping = dict(zip(ccf_structures, structure_colors))\n",
    "obs_temp_df[ccf_level_color] = [structure_color_mapping.get(cat) for cat in obs_temp_df[ccf_level]]\n",
    "\n",
    "# manually generate legend entries\n",
    "from matplotlib.lines import Line2D\n",
    "\n",
    "legend_elements = [Line2D([0], [0], \n",
    "                          lw=0, marker='o', markersize=10,\n",
    "                          markerfacecolor=structure_color_mapping[structure],\n",
    "                          color=structure_color_mapping[structure], \n",
    "                          label=structure) \n",
    "                   for structure in structure_color_mapping]\n",
    "\n",
    "# Plot\n",
    "n_col = 3\n",
    "n_row = int(len(poly_section_keys) / n_col)\n",
    "\n",
    "fig, axes = plt.subplots(n_row, n_col, figsize=(16,12))\n",
    "axes=axes.ravel()\n",
    "\n",
    "for i, sec_id in enumerate(poly_section_keys):\n",
    "    ax = axes[i]\n",
    "    curr_sec = obs_temp_df[obs_temp_df['brain_section_label']==sec_id]\n",
    "    sc = ax.scatter(curr_sec['x_section'],-curr_sec['y_section'],\n",
    "                    s=0.1,c=curr_sec[ccf_level_color])\n",
    "    ax.axis('equal')\n",
    "    ax.set_xticks([])\n",
    "    ax.set_yticks([])\n",
    "    \n",
    "    if i==3:\n",
    "        ax.legend(legend_elements, ccf_structures,\n",
    "                  loc='center right', bbox_to_anchor=(-0.1,0.5))"
   ]
  },
  {
   "cell_type": "code",
   "execution_count": null,
   "id": "5f038f62-e7e0-41da-87f6-7152b5a64ed1",
   "metadata": {
    "tags": []
   },
   "outputs": [],
   "source": [
    "~obs_temp_df['neurotransmitter'].isna()"
   ]
  },
  {
   "cell_type": "markdown",
   "id": "018a5bc9-da75-418e-82cf-e78a63a05af9",
   "metadata": {},
   "source": [
    "### Taxonomy - class, subclass"
   ]
  },
  {
   "cell_type": "code",
   "execution_count": null,
   "id": "d7dc9cad-e61c-4fa0-923d-8eb4fb7d95de",
   "metadata": {
    "tags": []
   },
   "outputs": [],
   "source": [
    "# get unique parcellation_structures\n",
    "ccf_level = 'class'\n",
    "ccf_level_color = 'class_color'\n",
    "\n",
    "# ccf_structures = obs_temp_df[(~obs_temp_df['neurotransmitter'].isna())][ccf_level].unique()\n",
    "ccf_structures = obs_temp_df[ccf_level].unique()\n",
    "\n",
    "# cmap = plt.get_cmap('tab20')\n",
    "\n",
    "# structure_colors = adata_new[(~obs_temp_df['neurotransmitter'].isna())].obsm['cluster_annotation_colors'][ccf_level_color].unique()\n",
    "structure_colors = adata_new.obsm['cluster_annotation_colors'][ccf_level_color].unique()\n",
    "\n",
    "# map categories to colors\n",
    "structure_color_mapping = dict(zip(ccf_structures, structure_colors))\n",
    "obs_temp_df[ccf_level_color] = adata_new.obsm['cluster_annotation_colors'][ccf_level_color].values\n",
    "\n",
    "# manually generate legend entries\n",
    "from matplotlib.lines import Line2D\n",
    "\n",
    "legend_elements = [Line2D([0], [0], \n",
    "                          lw=0, marker='o', markersize=10,\n",
    "                          markerfacecolor=structure_color_mapping[structure],\n",
    "                          color=structure_color_mapping[structure], \n",
    "                          label=structure) \n",
    "                   for structure in structure_color_mapping]\n",
    "\n",
    "# Plot\n",
    "n_col = 3\n",
    "n_row = int(len(poly_section_keys) / n_col)\n",
    "\n",
    "fig, axes = plt.subplots(n_row, n_col, figsize=(16,12))\n",
    "axes=axes.ravel()\n",
    "\n",
    "for i, sec_id in enumerate(poly_section_keys):\n",
    "    ax = axes[i]\n",
    "    curr_sec = obs_temp_df[(obs_temp_df['brain_section_label']==sec_id)\n",
    "                           & (~obs_temp_df['neurotransmitter'].isna())]\n",
    "                           # & (obs_temp_df['parcellation_division']=='lfbs')]\n",
    "    sc = ax.scatter(curr_sec['x_section'],-curr_sec['y_section'],\n",
    "                    s=0.1,c=curr_sec[ccf_level_color])\n",
    "    ax.axis('equal')\n",
    "    ax.set_xticks([])\n",
    "    ax.set_yticks([])\n",
    "    \n",
    "    if i==3:\n",
    "        ax.legend(legend_elements, ccf_structures,\n",
    "                  loc='center right', bbox_to_anchor=(-0.1,0.5))"
   ]
  },
  {
   "cell_type": "markdown",
   "id": "e24a4b38-5544-4607-be0d-c781ae4f2ff6",
   "metadata": {
    "tags": []
   },
   "source": [
    "## Plot whole brain sections by anatomical parcellation"
   ]
  },
  {
   "cell_type": "code",
   "execution_count": null,
   "id": "175ca598-ddc5-43c0-9707-0c18948aff1b",
   "metadata": {
    "tags": []
   },
   "outputs": [],
   "source": [
    "import matplotlib.pyplot as plt\n",
    "def plot_section( xx=None, yy=None, cc=None, val=None, pcmap=None, \n",
    "                 overlay=None, extent=None, bcmap=plt.cm.Greys_r, alpha=1.0,\n",
    "                 fig_width = 6, fig_height = 6 ) :\n",
    "    \n",
    "    fig, ax = plt.subplots()\n",
    "    fig.set_size_inches(fig_width, fig_height)\n",
    "\n",
    "    if xx is not None and yy is not None and pcmap is not None :\n",
    "        plt.scatter(xx,yy,s=0.5,c=val,marker='.',cmap=pcmap)\n",
    "    elif xx is not None and yy is not None and cc is not None :\n",
    "        plt.scatter(xx,yy,s=0.5,color=cc,marker='.',zorder=1)   \n",
    "        \n",
    "    if overlay is not None and extent is not None and bcmap is not None :\n",
    "        plt.imshow(overlay, cmap=bcmap, extent=extent,alpha=alpha,zorder=2)\n",
    "        \n",
    "    ax.set_ylim(11,0)\n",
    "    ax.set_xlim(0,11)\n",
    "    ax.axis('equal')\n",
    "    ax.set_xticks([])\n",
    "    ax.set_yticks([])\n",
    "    \n",
    "    return fig, ax"
   ]
  },
  {
   "cell_type": "code",
   "execution_count": null,
   "id": "5952bbf0-4046-4400-b106-8ad5e5ef234f",
   "metadata": {
    "tags": []
   },
   "outputs": [],
   "source": [
    "# ccf_md_df"
   ]
  },
  {
   "cell_type": "code",
   "execution_count": null,
   "id": "004307c2-f3c8-448d-a1b8-67baa9f1e436",
   "metadata": {
    "tags": []
   },
   "outputs": [],
   "source": [
    "poly_section_keys = sorted(list(adata_new.uns['thalamus_polygons'].keys()))\n",
    "print(poly_section_keys)\n",
    "curr_sec_id = poly_section_keys[6]\n",
    "\n",
    "curr_section_df = ccf_md_df[ccf_md_df['brain_section_label']==curr_sec_id]\n",
    "\n",
    "plot_section(xx=curr_section_df['x_section'], yy=-curr_section_df['y_section'], \n",
    "             cc=curr_section_df['parcellation_substructure_color'])"
   ]
  },
  {
   "cell_type": "markdown",
   "id": "70c99f2f-1581-4033-bc4d-a9d45099bd80",
   "metadata": {},
   "source": [
    "# Subset whole brain to thalamus"
   ]
  },
  {
   "cell_type": "code",
   "execution_count": null,
   "id": "78701950-77f9-4ce7-a91f-858a9a7439e6",
   "metadata": {
    "tags": []
   },
   "outputs": [],
   "source": [
    "from shapely import Polygon, MultiPoint, LineString\n",
    "import shapely\n",
    "from shapely.plotting import plot_polygon, plot_line"
   ]
  },
  {
   "cell_type": "code",
   "execution_count": null,
   "id": "60dfc7a4-c5c1-407d-a85b-fba5091f6aad",
   "metadata": {
    "tags": []
   },
   "outputs": [],
   "source": [
    "# grab just one section\n",
    "poly_section_keys = sorted(list(adata_new.uns['thalamus_polygons'].keys()))\n",
    "curr_sec_id = poly_section_keys[8]\n",
    "\n",
    "for sec in poly_section_keys:\n",
    "    curr_sec_id = sec\n",
    "\n",
    "    th_zi_df = ccf_md_df[( (ccf_md_df['parcellation_division']=='TH') \n",
    "                           | (ccf_md_df['parcellation_structure']=='ZI'))\n",
    "                         & (ccf_md_df['brain_section_label']==curr_sec_id)].copy()\n",
    "    # th_zi_df\n",
    "\n",
    "    # make a shapely multipoint object\n",
    "    th_zi_coords = list(zip(th_zi_df.x_section, th_zi_df.y_section))\n",
    "    th_zi_multipoint = MultiPoint(th_zi_coords)\n",
    "    # th_zi_multipoint.bounds\n",
    "\n",
    "    # set buffer distance\n",
    "    buffer_dist = 0.1\n",
    "\n",
    "    # calculate convex hull\n",
    "    th_zi_convex_hull = th_zi_multipoint.convex_hull\n",
    "    # use buffer to expand convex hull outline a bit\n",
    "    th_zi_convex_hull_buffer = shapely.buffer(th_zi_convex_hull, buffer_dist)\n",
    "\n",
    "    # calculate convex hull\n",
    "    th_zi_concave_hull = shapely.concave_hull(th_zi_multipoint)\n",
    "    # use buffer to expand to something that's more like an outline\n",
    "    th_zi_concave_hull_buffer = shapely.buffer(th_zi_concave_hull, buffer_dist)\n",
    "    # print(th_zi_concave_hull_buffer)\n",
    "\n",
    "\n",
    "    # display\n",
    "    # plt.scatter(th_zi_df.x_section, th_zi_df.y_section, s=0.1, c='lightgrey')\n",
    "    # plt.gca().axis('equal')\n",
    "    # plot_polygon(th_zi_convex_hull, add_points=False, facecolor='none', color='b')\n",
    "    # plot_polygon(th_zi_concave_hull, add_points=False, facecolor='none', color='g')\n",
    "    # plt.show()\n",
    "\n",
    "    plt.scatter(th_zi_df.x_section, th_zi_df.y_section, s=0.1, c='lightgrey')\n",
    "    plt.gca().axis('equal')\n",
    "    plot_polygon(th_zi_convex_hull_buffer, add_points=False, facecolor='none', color='b')\n",
    "    plot_polygon(th_zi_concave_hull_buffer, add_points=False, facecolor='none', color='g')\n",
    "    plt.show()"
   ]
  },
  {
   "cell_type": "markdown",
   "id": "12a3f5d3-2743-4f6a-a376-e62fd7b7bd7d",
   "metadata": {
    "tags": []
   },
   "source": [
    "# Load in metadata"
   ]
  },
  {
   "cell_type": "code",
   "execution_count": null,
   "id": "431fa091-940a-4625-b7bc-d78bbdf992ea",
   "metadata": {
    "tags": []
   },
   "outputs": [],
   "source": [
    "cluster_md_df = pd.read_csv(\n",
    "        abc_root/f\"metadata/MERFISH-{brain_id}/{version}/views/cell_metadata_with_cluster_annotation.csv\",\n",
    "                           dtype={'cell_label':str}, index_col=0)\n",
    "# cells_df.rename(columns={'x':'x_section','y':'y_section','z':'z_section'}, inplace=True)"
   ]
  },
  {
   "cell_type": "code",
   "execution_count": null,
   "id": "c40f6bdd-f6ab-4dc4-8eb6-338e10917833",
   "metadata": {
    "tags": []
   },
   "outputs": [],
   "source": [
    "cluster_md_df"
   ]
  },
  {
   "cell_type": "code",
   "execution_count": null,
   "id": "3028cd5a-e712-4b83-bd47-00b0de7c776d",
   "metadata": {
    "tags": []
   },
   "outputs": [],
   "source": [
    "# ccf_md_df = pd.read_csv(\n",
    "#         abc_root/f\"metadata/MERFISH-{brain_id}-CCF/{version}/views/cell_metadata_with_parcellation_annotation.csv\", \n",
    "#                          dtype={'cell_label':str}, index_col=0)"
   ]
  },
  {
   "cell_type": "code",
   "execution_count": null,
   "id": "6108d948-b926-484f-bc3b-8d40679265a1",
   "metadata": {
    "tags": []
   },
   "outputs": [],
   "source": [
    "ccf_md_df"
   ]
  },
  {
   "cell_type": "markdown",
   "id": "011d27c4-12fc-472a-a23b-ae066c4471e4",
   "metadata": {
    "tags": []
   },
   "source": [
    "## Checking if all our manually labelled TH+ZI cells are included in the abc_atlas data release\n",
    "\n",
    "Total cell counts:\n",
    "- \\~4.3mil cells in the raw/log2 expression matrix h5ad files\n",
    "    - this is likely the raw data without any QC/filtering applied\n",
    "- \\~3.9mil cells in cell_metadata_with_cluster_annotation.csv \n",
    "    - this is a subset of the cells in the full expression matrix, likely excluding cells that don't meet QC criteria\n",
    "- \\~3.7mil cells in cell_metadata_with_parcellation_annotation.csv \n",
    "    - this is a subset of the cells in cell_metadata_with_cluster_annotation.csv, likely excluding cells that didn't meet some additional QC criteria during/before CCF registration\n",
    "\n",
    "\n",
    "Manually annotated TH+ZI cell counts:\n",
    "- 191,578 cells in our existing TH+ZI-only brain3 dataset (manually annotated TH+ZI outline by Brian)\n",
    "- All 191,578 of those manually annotated cells are found in the expression matrix h5ad\n",
    "- Only 164,811 of those manually annotated cells are found in either of the cell metatdata CSVs\n",
    "    - the \"missing\" \\~27k TH+ZI cells appear to have been filtered out at the first QC stage\n",
    "    - since both metadata CSVs contain the same exact set of \\~27k manually annotated TH+ZI cells, we should be okay to use whichever CSV we'd like\n",
    "    \n",
    "    \n",
    "ABC Atlas TH & ZI CCF Parcellation cell counts:\n",
    "- 149,098 cells from ABC Atlas were parcellated into either the TH or ZI (substructure of HY) in cell_metadata_with_parcellation_annotation.csv \n",
    "- 140,599 of the 164,811 manually-annotated TH+ZI cells that are found in cell_metadata_with_parcellation_annotation.csv overlap with the 149,098 ABC-annotated TH+ZI cells\n",
    "\n",
    "So, we have:\n",
    "- \\~140k TH+ZI cells where Brian's manual annotation + ABC annotation + ABC QC overlap\n",
    "- \\~27k cells that Brian annotated as TH+ZI that were QC-ed out for the ABC Atlas release\n",
    "- An additional \\~25k cells that Brian annotated as TH+ZI, which were NOT annotated as TH+ZI in the ABC atlas release\n",
    "- \\~9k cells that the ABC-annotation calls TH+ZI, which Brian's annotation did NOT capture"
   ]
  },
  {
   "cell_type": "markdown",
   "id": "239e532c-77aa-4dc6-872f-172d3745e987",
   "metadata": {
    "jp-MarkdownHeadingCollapsed": true,
    "tags": []
   },
   "source": [
    "### Total cell counts across datasets & metadatatfiles"
   ]
  },
  {
   "cell_type": "code",
   "execution_count": null,
   "id": "c6ee3219-378e-4268-b9a5-20baa3e3b754",
   "metadata": {
    "tags": []
   },
   "outputs": [],
   "source": [
    "# cell_metadata_with_parcellation_annotation.csv has ~200k fewer cells than\n",
    "# cell_metadata_with_cluster_annotation.csv (out of ~3.9mil total cells)\n",
    "\n",
    "print(f'{len(adata_raw)=}')\n",
    "print(f'{len(cluster_md_df)=}')\n",
    "print(f'{len(ccf_md_df)=}')\n",
    "print(f'{len(cluster_md_df)-len(ccf_md_df)=}')"
   ]
  },
  {
   "cell_type": "markdown",
   "id": "521fcbbb-8206-44e2-b4b3-8b822de261c2",
   "metadata": {
    "jp-MarkdownHeadingCollapsed": true,
    "tags": []
   },
   "source": [
    "### manually annotated TH+ZI cell counts, in abc files"
   ]
  },
  {
   "cell_type": "code",
   "execution_count": null,
   "id": "2903697c-6c7e-449b-a29c-9a9294d68b59",
   "metadata": {
    "tags": []
   },
   "outputs": [],
   "source": [
    "# get cell_labels from:\n",
    "\n",
    "# old, reference TH+ZI manual annotation brain3 dataset\n",
    "ad_TH_cell_ids = adata_ref.obs_names\n",
    "\n",
    "# ABC atlas expression matrix\n",
    "abc_all_cell_ids = adata_raw.obs_names\n",
    "\n",
    "# ABC atlas cluster metadata CSV\n",
    "cluster_md_df_cell_ids = cluster_md_df.index\n",
    "\n",
    "# ABC atlas parcellation / CCF registration metadata CSV\n",
    "ccf_md_df_cell_ids = ccf_md_df.index"
   ]
  },
  {
   "cell_type": "code",
   "execution_count": null,
   "id": "75f060e2-8bef-409a-8798-a070faeef1a1",
   "metadata": {
    "tags": []
   },
   "outputs": [],
   "source": [
    "# confirm that cell_metadata_with_cluster_annotation.csv is a subset of the full\n",
    "# ABC atlas expression matrices\n",
    "cluster_md_is_subset_of_abc_expr = cluster_md_df_cell_ids.isin(abc_all_cell_ids)\n",
    "print(sum(cluster_md_is_subset_of_abc_expr) == len(cluster_md_df_cell_ids))\n",
    "\n",
    "# confirm that cell_metadata_with_parcellation_annotation.csv is a subset of\n",
    "# cell_metadata_with_cluster_annotation.csv\n",
    "ccf_md_is_subset_of_cluster_md = ccf_md_df_cell_ids.isin(cluster_md_df_cell_ids)\n",
    "print(sum(ccf_md_is_subset_of_cluster_md) == len(ccf_md_df_cell_ids))"
   ]
  },
  {
   "cell_type": "code",
   "execution_count": null,
   "id": "5e7f34b7-d59f-4e69-a743-61561c3cd8e3",
   "metadata": {
    "tags": []
   },
   "outputs": [],
   "source": [
    "# check if all manually labelled TH+ZI cells are included in ...\n",
    "\n",
    "# ... expression matrices\n",
    "TH_cells_are_in_abc_atlas = ad_TH_cell_ids.isin(abc_all_cell_ids)\n",
    "print(f'{sum(TH_cells_are_in_abc_atlas)=}')\n",
    "print(f'{len(ad_TH_cell_ids)=}')\n",
    "print(f'{len(ad_TH_cell_ids)-sum(TH_cells_are_in_abc_atlas)=}')\n",
    "\n",
    "# ... cell_metadata_with_parcellation_annotation.csv\n",
    "TH_cells_are_in_cluster_md = ad_TH_cell_ids.isin(cluster_md_df_cell_ids)\n",
    "print(f'{sum(TH_cells_are_in_cluster_md)=}')\n",
    "print(f'{len(ad_TH_cell_ids)=}')\n",
    "print(f'{len(ad_TH_cell_ids)-sum(TH_cells_are_in_cluster_md)=}')\n",
    "\n",
    "# ... cell_metadata_with_cluster_annotation.csv\n",
    "TH_cells_are_in_ccf_md = ad_TH_cell_ids.isin(ccf_md_df_cell_ids)\n",
    "print(f'{sum(TH_cells_are_in_ccf_md)=}')\n",
    "print(f'{len(ad_TH_cell_ids)=}')\n",
    "print(f'{len(ad_TH_cell_ids)-sum(TH_cells_are_in_ccf_md)=}')\n",
    "\n",
    "# nope, they're not all there"
   ]
  },
  {
   "cell_type": "code",
   "execution_count": null,
   "id": "65f431b0-09cd-468e-972a-c80336835df1",
   "metadata": {
    "tags": []
   },
   "outputs": [],
   "source": [
    "# The abc_atlas release is missing ~27k cells that we previously had in the TH+ZI\n",
    "# Are the same cells missing from both the cluster & ccf metatdata CSVs?\n",
    "\n",
    "# Get TH+ZI cell ids from cluster & ccf metadata\n",
    "cluster_md_TH_cells = cluster_md_df_cell_ids[cluster_md_df_cell_ids.isin(ad_TH_cell_ids)]\n",
    "ccf_md_TH_cells = ccf_md_df_cell_ids[ccf_md_df_cell_ids.isin(ad_TH_cell_ids)]\n",
    "\n",
    "# check if they're exactly the same\n",
    "print('All cell_labels match:',\n",
    "      sum(cluster_md_TH_cells==ccf_md_TH_cells) == len(ccf_md_TH_cells))\n",
    "\n",
    "# can also visually confirm that the cell_labels the same & in the same order\n",
    "# print(cluster_md_TH_cells[:20])\n",
    "# print(ccf_md_TH_cells[:20])"
   ]
  },
  {
   "cell_type": "markdown",
   "id": "ca4d7cc5-e142-4620-8689-5a6a42709bfd",
   "metadata": {},
   "source": [
    "### How many abac_atlas-labelled TH/ZI cells are not in our manual annotation?\n",
    "\n",
    "TH+ZI manual annotation: ~191k cells\n",
    "\n",
    "TH+ZI abc_atlas annotation: ~149k cells\n",
    "\n",
    "Overlap: ~140k cells\n",
    "\n",
    "\n",
    "*What's the overlap between these two groups of cells??*"
   ]
  },
  {
   "cell_type": "code",
   "execution_count": null,
   "id": "108f0329-73ca-4d3c-a197-a76cb19663a4",
   "metadata": {
    "tags": []
   },
   "outputs": [],
   "source": [
    "# subset to just the ccf-related columns so it's easier to view\n",
    "ccf_parcellation_df = ccf_md_df[['parcellation_organ',\n",
    "                                 'parcellation_category',\n",
    "                                 'parcellation_division',\n",
    "                                 'parcellation_structure', \n",
    "                                 'parcellation_substructure']]\n",
    "ccf_parcellation_df.head(5)"
   ]
  },
  {
   "cell_type": "code",
   "execution_count": null,
   "id": "f0c14aaf-f93d-4f3d-8ae5-e21bf642f0b9",
   "metadata": {
    "tags": []
   },
   "outputs": [],
   "source": [
    "# subset to just TH & ZI (~149k cells here vs ~191k cells in manual annotation)\n",
    "ccf_df_TH_ZI = ccf_parcellation_df[(ccf_parcellation_df['parcellation_division']=='TH')\n",
    "                                   | (ccf_parcellation_df['parcellation_structure']=='ZI')]\n",
    "ccf_df_TH_ZI"
   ]
  },
  {
   "cell_type": "markdown",
   "id": "2807c508-d8c5-4f82-b2a6-ba6ff958609b",
   "metadata": {},
   "source": [
    "### What's the overlap between manual & abc_atlas TH+ZI annotations?"
   ]
  },
  {
   "cell_type": "code",
   "execution_count": null,
   "id": "3c32a7c4-a891-44ae-b078-5c1c36c18776",
   "metadata": {
    "tags": []
   },
   "outputs": [],
   "source": [
    "ccf_df_TH_ZI_cell_ids = ccf_df_TH_ZI.index"
   ]
  },
  {
   "cell_type": "code",
   "execution_count": null,
   "id": "27b6433a-bdcd-47b3-b5f7-4277fda2c500",
   "metadata": {
    "tags": []
   },
   "outputs": [],
   "source": [
    "abc_is_in_manual_TH_ZI = ccf_df_TH_ZI_cell_ids.isin(ad_TH_cell_ids)\n",
    "manual_is_in_abc_TH_ZI = ad_TH_cell_ids.isin(ccf_df_TH_ZI_cell_ids)\n",
    "\n",
    "print(f'{sum(abc_is_in_manual_TH_ZI)=}')\n",
    "print(f'{sum(manual_is_in_abc_TH_ZI)=}')\n",
    "\n",
    "print(f'{len(ad_TH_cell_ids)=}')\n",
    "print(f'{len(ccf_df_TH_ZI_cell_ids)=}')"
   ]
  },
  {
   "cell_type": "code",
   "execution_count": null,
   "id": "e5a4d586-af06-439b-844b-5c58efc81799",
   "metadata": {},
   "outputs": [],
   "source": []
  },
  {
   "cell_type": "code",
   "execution_count": null,
   "id": "0a107d0c-5929-4150-bf68-6f315ed28479",
   "metadata": {},
   "outputs": [],
   "source": []
  },
  {
   "cell_type": "code",
   "execution_count": null,
   "id": "8ac1de62-7dda-4647-bea1-cf9cb3226cea",
   "metadata": {
    "tags": []
   },
   "outputs": [],
   "source": [
    "# access genes by short symbol vs longer names\n",
    "adata.var_names = adata.var['gene_symbol']\n",
    "cirro_names=True\n",
    "cells_df = get_combined_metadata(cirro_names=cirro_names)\n",
    "adata.obs = adata.obs.join(cells_df[cells_df.columns.difference(adata.obs.columns)])"
   ]
  },
  {
   "cell_type": "code",
   "execution_count": null,
   "id": "7df2f31f-469b-47a3-851d-54f7231032b3",
   "metadata": {},
   "outputs": [],
   "source": []
  },
  {
   "cell_type": "code",
   "execution_count": null,
   "id": "0a67df35-0072-4c41-bb10-1e66c53a5d69",
   "metadata": {
    "tags": []
   },
   "outputs": [],
   "source": [
    "adata.obs"
   ]
  },
  {
   "cell_type": "code",
   "execution_count": null,
   "id": "bea9bce8-22ba-41dd-88e0-900cedcf32c8",
   "metadata": {
    "tags": []
   },
   "outputs": [],
   "source": [
    "print(sum(adata.obs['CCF_acronym'].isna()))\n",
    "print(sum(adata.obs['CCF_acronym'].isna())/len(adata.obs)*100)"
   ]
  },
  {
   "cell_type": "code",
   "execution_count": null,
   "id": "446a1896-cf28-4de9-b049-3e376b9efdbe",
   "metadata": {
    "tags": []
   },
   "outputs": [],
   "source": [
    "adata.obs.loc[['1019171907100750360']]"
   ]
  },
  {
   "cell_type": "code",
   "execution_count": null,
   "id": "254fd170-5e78-4052-aa55-25d0c02dfe77",
   "metadata": {
    "tags": []
   },
   "outputs": [],
   "source": [
    "adata.obs.columns"
   ]
  },
  {
   "cell_type": "code",
   "execution_count": null,
   "id": "1b110661-e82a-4d30-97d6-627c2b610dcb",
   "metadata": {
    "tags": []
   },
   "outputs": [],
   "source": [
    "file_name = 'atlas_brain_638850_abc_atlas_v20230830_TH_ZI_only_log2p_raw.h5ad'\n",
    "\n",
    "# uncomment to save\n",
    "# adata.write_h5ad(os.path.join(write_dir,file_name), compression='gzip')"
   ]
  },
  {
   "cell_type": "code",
   "execution_count": null,
   "id": "2c4ba184-a7e1-4e72-b5fa-34b87974c436",
   "metadata": {
    "tags": []
   },
   "outputs": [],
   "source": [
    "# adata = load_adata(cirro_names=True, transform='raw')"
   ]
  },
  {
   "cell_type": "code",
   "execution_count": null,
   "id": "497b3837-292a-4e82-a649-6681706d76b9",
   "metadata": {
    "tags": []
   },
   "outputs": [],
   "source": [
    "adata"
   ]
  },
  {
   "cell_type": "code",
   "execution_count": null,
   "id": "8eaa3fb4-cbc3-4185-bdd0-2176e7f3d5f8",
   "metadata": {
    "tags": []
   },
   "outputs": [],
   "source": [
    "adata.uns['src']"
   ]
  },
  {
   "cell_type": "code",
   "execution_count": null,
   "id": "8a2e2f33-f266-4ed6-b960-7e331031dd16",
   "metadata": {
    "tags": []
   },
   "outputs": [],
   "source": [
    "adata.var.rename(columns={'gene_symbol':'gene'},inplace=True)"
   ]
  },
  {
   "cell_type": "code",
   "execution_count": null,
   "id": "199408cc-3aff-4b61-abcc-6e4ca84fe5a1",
   "metadata": {
    "tags": []
   },
   "outputs": [],
   "source": [
    "adata.var['transcript_identifier']"
   ]
  },
  {
   "cell_type": "code",
   "execution_count": null,
   "id": "8004604c-c64c-4fe4-940d-948a3bba2b73",
   "metadata": {
    "tags": []
   },
   "outputs": [],
   "source": [
    "# sorted(adata.var_names.to_list())"
   ]
  },
  {
   "cell_type": "code",
   "execution_count": null,
   "id": "be5d4202-d0ca-4ee6-8f97-4db109daf7e9",
   "metadata": {
    "tags": []
   },
   "outputs": [],
   "source": [
    "import os\n",
    "\n",
    "write_dir = '//allen/programs/celltypes/workgroups/rnaseqanalysis/mFISH/meghanturner/thalamus_data'\n",
    "# '//allen/programs/celltypes/workgroups/rnaseqanalysis/mFISH/meghanturner/cell_type_mapper/mouse_638850'\n",
    "# \"//allen/programs/celltypes/workgroups/rnaseqanalysis/mFISH/meghanturner/abc_atlas/abc_atlas_data/\"\n",
    "os.makedirs(write_dir, exist_ok=True)\n",
    "file_name = 'atlas_brain_638850_abc_atlas_v20230830_TH_ZI_only.h5ad'\n",
    "\n",
    "# uncomment to save\n",
    "# adata.write_h5ad(os.path.join(write_dir,file_name), compression='gzip')"
   ]
  },
  {
   "cell_type": "code",
   "execution_count": null,
   "id": "d9c20fd2-4825-4d0f-b740-4dc604f0c170",
   "metadata": {},
   "outputs": [],
   "source": []
  }
 ],
 "metadata": {
  "kernelspec": {
   "display_name": "Python 3 (ipykernel)",
   "language": "python",
   "name": "python3"
  },
  "language_info": {
   "codemirror_mode": {
    "name": "ipython",
    "version": 3
   },
   "file_extension": ".py",
   "mimetype": "text/x-python",
   "name": "python",
   "nbconvert_exporter": "python",
   "pygments_lexer": "ipython3",
   "version": "3.9.12"
  }
 },
 "nbformat": 4,
 "nbformat_minor": 5
}
