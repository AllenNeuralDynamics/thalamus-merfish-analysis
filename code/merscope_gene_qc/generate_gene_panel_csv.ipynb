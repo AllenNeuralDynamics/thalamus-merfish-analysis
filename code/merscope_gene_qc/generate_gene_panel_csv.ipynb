{
 "cells": [
  {
   "cell_type": "code",
   "execution_count": 1,
   "id": "91675e1a-94f2-4209-964f-e887d058f970",
   "metadata": {},
   "outputs": [],
   "source": [
    "import os\n",
    "import anndata as ad\n",
    "import pandas as pd"
   ]
  },
  {
   "cell_type": "markdown",
   "id": "f9f81959-d5a5-4b0f-bf11-c222bedd8514",
   "metadata": {},
   "source": [
    "# Get gene lists from existing h5ad files"
   ]
  },
  {
   "cell_type": "code",
   "execution_count": 2,
   "id": "46f1484c-0597-42d3-aa29-3a09d262ee22",
   "metadata": {},
   "outputs": [],
   "source": [
    "root_dir = '/root/capsule'\n",
    "brain1_data = 'data/merfish_609882_AIT17.1_annotated_TH_ZI_only_2023-02-16_00-00-00/atlas_brain_609882_AIT17_1_annotated_TH_ZI_only.h5ad'\n",
    "brain3_data = 'data/merfish_638850_AIT17.custom_CCF_annotated_TH_ZI_only_2023-05-04_00-00-00/atlas_brain_638850_AIT17_custom_CCF_annotated_TH_ZI_only.h5ad'\n",
    "ad_brain1 = ad.read_h5ad(os.path.join(root_dir, brain1_data))\n",
    "ad_brain3 = ad.read_h5ad(os.path.join(root_dir, brain3_data))"
   ]
  },
  {
   "cell_type": "markdown",
   "id": "d3caf3ab-d302-414e-8a65-9b578b97af4c",
   "metadata": {},
   "source": [
    "## Remove blanks"
   ]
  },
  {
   "cell_type": "code",
   "execution_count": 3,
   "id": "b1b4d484-c593-4b56-9c9e-fd97d71f70dd",
   "metadata": {},
   "outputs": [],
   "source": [
    "gene_panel_VZ147_mouse_609882_brain1 = sorted([x for x in ad_brain1.var_names if 'Blank' not in x])\n",
    "gene_panel_VZ142_mouse_638850_brain3 = sorted([x for x in ad_brain3.var_names if 'Blank' not in x])"
   ]
  },
  {
   "cell_type": "markdown",
   "id": "2541afbc-a697-4475-b6c1-5c33e49da36d",
   "metadata": {},
   "source": [
    "## Write to csv to store in /resources/"
   ]
  },
  {
   "cell_type": "code",
   "execution_count": 4,
   "id": "37d0cb4c-44a1-48b0-b2d2-8c752935f574",
   "metadata": {},
   "outputs": [],
   "source": [
    "gene_panel_df_brain1 = pd.DataFrame(gene_panel_VZ147_mouse_609882_brain1, \n",
    "                                    columns=[\"gene_panel_VZ147_mouse_609882_brain1\"])\n",
    "gene_panel_df_brain3 = pd.DataFrame(gene_panel_VZ142_mouse_638850_brain3, \n",
    "                                    columns=[\"gene_panel_VZ142_mouse_638850_brain3\"])"
   ]
  },
  {
   "cell_type": "code",
   "execution_count": 5,
   "id": "538a1240-b549-41a7-89b3-d10cd1b459c2",
   "metadata": {},
   "outputs": [],
   "source": [
    "# gene_panel_df_brain1.to_csv(os.path.join(root_dir,'resources/gene_panel_VZ147_mouse_609882_brain1.csv'), index=False)\n",
    "# gene_panel_df_brain3.to_csv(os.path.join(root_dir,'resources/gene_panel_VZ142_mouse_638850_brain3.csv'), index=False)"
   ]
  },
  {
   "cell_type": "markdown",
   "id": "313d517f-f2df-4af1-8e65-78f019f1db76",
   "metadata": {},
   "source": [
    "# Read in csv files to check they're correect"
   ]
  },
  {
   "cell_type": "code",
   "execution_count": 6,
   "id": "33c9c8a2-b7e4-4dff-8094-82cafcee96e7",
   "metadata": {},
   "outputs": [
    {
     "data": {
      "text/plain": [
       "500"
      ]
     },
     "execution_count": 6,
     "metadata": {},
     "output_type": "execute_result"
    }
   ],
   "source": [
    "brain1_genes_csv = pd.read_csv(os.path.join(root_dir,'resources/gene_panel_VZ147_mouse_609882_brain1.csv'))\n",
    "len(brain1_genes_csv['gene_panel_VZ147_mouse_609882_brain1'].values)"
   ]
  },
  {
   "cell_type": "code",
   "execution_count": 7,
   "id": "1238941e-afbe-4e20-9baa-0a3609a6a6f5",
   "metadata": {},
   "outputs": [
    {
     "data": {
      "text/plain": [
       "500"
      ]
     },
     "execution_count": 7,
     "metadata": {},
     "output_type": "execute_result"
    }
   ],
   "source": [
    "brain3_genes_csv = pd.read_csv(os.path.join(root_dir,'resources/gene_panel_VZ142_mouse_638850_brain3.csv'))\n",
    "len(brain3_genes_csv['gene_panel_VZ142_mouse_638850_brain3'].values)"
   ]
  },
  {
   "cell_type": "code",
   "execution_count": 8,
   "id": "941132f4-fda3-4d25-b177-ab9de9aac132",
   "metadata": {},
   "outputs": [
    {
     "data": {
      "text/plain": [
       "array(['5031425F14Rik', '9430021M05Rik', 'A2ml1', 'A830009L08Rik',\n",
       "       'AW551984', 'Abca8b', 'Abcb6', 'Abcd4', 'Abi3bp', 'Acta2',\n",
       "       'Adamts3', 'Adamts4', 'Adamts5', 'Adcy2', 'Adgrf5', 'Ak4',\n",
       "       'Akap13', 'Alk', 'Ank1', 'Ankrd6', 'Ano3', 'Aqp4', 'Arhgap24',\n",
       "       'Arhgap25', 'Arhgap36', 'Arhgef19', 'Arx', 'Asb4', 'Asic4',\n",
       "       'Atp1b2', 'Atp6ap1l', 'Baiap2', 'Barx2', 'Baz1a', 'Bcl11a',\n",
       "       'Bcl11b', 'Bcl6', 'Blnk', 'Bmp3', 'Bnc2', 'Brinp3', 'Brs3', 'Bsx',\n",
       "       'C1ql2', 'C1ql3', 'C1qtnf7', 'Cacng3', 'Cacng5', 'Calb1', 'Calb2',\n",
       "       'Calca', 'Calcr', 'Caln1', 'Car2', 'Car3', 'Car8', 'Cartpt',\n",
       "       'Cbln1', 'Cbln2', 'Cbln4', 'Ccdc3', 'Ccdc80', 'Cckar', 'Cd24a',\n",
       "       'Cd36', 'Cd83', 'Cdh12', 'Cdh13', 'Cdh20', 'Cdh7', 'Cdh9',\n",
       "       'Ceacam9', 'Cemip', 'Cgnl1', 'Chat', 'Chn2', 'Chodl', 'Chrdl1',\n",
       "       'Chrm1', 'Chrm2', 'Chrm3', 'Chrna6', 'Cldn5', 'Clic1', 'Clic5',\n",
       "       'Clmp', 'Clrn1', 'Clstn2', 'Cnih3', 'Cnr1', 'Cntn4', 'Cntn6',\n",
       "       'Cntnap4', 'Cobll1', 'Coch', 'Col14a1', 'Col15a1', 'Col1a1',\n",
       "       'Col23a1', 'Col24a1', 'Col25a1', 'Col6a1', 'Col8a1', 'Cplx3',\n",
       "       'Cpne4', 'Cpne7', 'Cpne8', 'Cpne9', 'Crh', 'Crhbp', 'Crispld2',\n",
       "       'Crym', 'Cspg4', 'Ctsc', 'Ctss', 'Ctsz', 'Ctxn3', 'Cux2', 'Cxcl12',\n",
       "       'Cxcl14', 'Cyp26b1', 'D930028M14Rik', 'Dbx2', 'Dcn', 'Ddc',\n",
       "       'Ddit4l', 'Defb1', 'Deptor', 'Dlk1', 'Dlx1', 'Dlx6os1', 'Dmkn',\n",
       "       'Dtl', 'E030019B13Rik', 'Ebf1', 'Ebf2', 'Ecel1', 'Egfr', 'Egln3',\n",
       "       'Egr2', 'Endou', 'Enpp2', 'Epha5', 'Erbb4', 'Esr1', 'Etv1',\n",
       "       'Fam159b', 'Fam19a1', 'Fam19a2', 'Fam69b', 'Fam84b', 'Fancd2',\n",
       "       'Fbln1', 'Fezf1', 'Fezf2', 'Fign', 'Flrt3', 'Fndc5', 'Fos', 'Fosb',\n",
       "       'Fosl2', 'Foxg1', 'Foxp2', 'Frmd7', 'Frzb', 'Fst', 'Fstl5',\n",
       "       'Fxyd6', 'G630016G05Rik', 'Gabra1', 'Gabrg1', 'Gad1', 'Gad2',\n",
       "       'Gal', 'Galnt14', 'Galr1', 'Gata3', 'Gda', 'Gfap', 'Gja1', 'Gpc3',\n",
       "       'Gpc4', 'Gpc6', 'Gpr101', 'Gpr88', 'Gpx3', 'Grem1', 'Grik1',\n",
       "       'Grin2a', 'Grm1', 'Grm8', 'Grp', 'Gsx1', 'Gsx2', 'Gucy1a1',\n",
       "       'Hcrtr1', 'Hcrtr2', 'Hopx', 'Hpse', 'Hpse2', 'Hrk', 'Hs3st1',\n",
       "       'Hs3st2', 'Hs3st4', 'Hs6st3', 'Htr1f', 'Htr2c', 'Id2', 'Id4',\n",
       "       'Igf1', 'Igf2', 'Igfbp2', 'Igfbp4', 'Igfbp6', 'Igfn1', 'Il1rapl2',\n",
       "       'Inpp4b', 'Isl1', 'Itgb8', 'Itm2a', 'Kcnc2', 'Kcng1', 'Kcnip1',\n",
       "       'Kcnj8', 'Kcnk2', 'Kcnk4', 'Kctd8', 'Kirrel3', 'Kitl', 'Krt80',\n",
       "       'Lama3', 'Lamp5', 'Lancl3', 'Ldb2', 'Lhx1', 'Lhx5', 'Lhx6', 'Lhx8',\n",
       "       'Lmo1', 'Lmo3', 'Lmx1a', 'Lpar1', 'Lpl', 'Lrrc38', 'Luzp2',\n",
       "       'Ly6g6e', 'Lypd1', 'Lypd6', 'Lypd6b', 'Mafb', 'Mal', 'Maob',\n",
       "       'Mc4r', 'Mdga1', 'Me3', 'Mfge8', 'Mgat4c', 'Mir124-2hg', 'Mmd2',\n",
       "       'Mme', 'Mog', 'Moxd1', 'Mpped1', 'Mpped2', 'Mrap2', 'Mybpc1',\n",
       "       'Myh7', 'Myh8', 'Ndnf', 'Ndst4', 'Necab1', 'Nefm', 'Nell1', 'Neu2',\n",
       "       'Neurod2', 'Neurod6', 'Nfib', 'Ngb', 'Ngf', 'Nkx2-4', 'Nmbr',\n",
       "       'Nnat', 'Nnmt', 'Nog', 'Nos1', 'Nov', 'Npas1', 'Npnt', 'Npsr1',\n",
       "       'Nptx2', 'Npy1r', 'Npy2r', 'Nr2f2', 'Nr4a2', 'Nr4a3', 'Nrn1',\n",
       "       'Nrp1', 'Ntf3', 'Ntn1', 'Ntn5', 'Nts', 'Nxph1', 'Nxph2', 'Nxph4',\n",
       "       'Olfm3', 'Oprk1', 'Oprm1', 'Osr1', 'Otof', 'Otp', 'Otx1', 'Otx2',\n",
       "       'Oxtr', 'Pamr1', 'Pantr1', 'Pard3b', 'Parm1', 'Pax6', 'Pbk',\n",
       "       'Pcdh20', 'Pcdh8', 'Pcp4l1', 'Pcsk1', 'Pcsk5', 'Pde1a', 'Pdk2',\n",
       "       'Pdlim1', 'Pdlim3', 'Pdlim5', 'Pdyn', 'Penk', 'Per2', 'Phactr2',\n",
       "       'Pitx2', 'Pkib', 'Pld5', 'Plpp4', 'Pnoc', 'Pou3f1', 'Pou3f3',\n",
       "       'Pou6f2', 'Ppp1r17', 'Prdm12', 'Prkcd', 'Prkcq', 'Prlr', 'Prokr2',\n",
       "       'Prox1', 'Prr16', 'Prss12', 'Prss23', 'Psmb8', 'Pth2r', 'Ptprc',\n",
       "       'Ptprk', 'Ptprm', 'Ptprt', 'Ptpru', 'Pvalb', 'Pxdc1', 'Qrfpr',\n",
       "       'Rab3b', 'Ramp1', 'Ramp3', 'Rasd1', 'Rasgef1c', 'Rasgrp1',\n",
       "       'Rassf4', 'Rbm24', 'Reln', 'Rgs12', 'Rgs16', 'Rgs4', 'Rgs5',\n",
       "       'Rgs6', 'Rmst', 'Rnf152', 'Ror1', 'Rorb', 'Rph3a', 'Rprm', 'Rprml',\n",
       "       'Rspo1', 'Rspo2', 'Rxfp1', 'Rxfp3', 'Rxrg', 'S1pr1', 'Satb2',\n",
       "       'Scn4b', 'Scube1', 'Sema3c', 'Sema3e', 'Sema5a', 'Sema6d',\n",
       "       'Serpinb8', 'Serpine2', 'Serpinf1', 'Sertm1', 'Shisa9', 'Six3',\n",
       "       'Sla', 'Slc17a6', 'Slc17a7', 'Slc17a8', 'Slc1a3', 'Slc23a3',\n",
       "       'Slc25a13', 'Slc26a4', 'Slc30a3', 'Slc35d3', 'Slc6a1', 'Slco5a1',\n",
       "       'Smad3', 'Smoc2', 'Sorcs3', 'Sox10', 'Sox2ot', 'Sox5', 'Sox6',\n",
       "       'Sp8', 'Sp9', 'Spock3', 'Spp1', 'Sstr2', 'St18', 'St6galnac5',\n",
       "       'Stum', 'Stxbp6', 'Sulf1', 'Sv2c', 'Syndig1', 'Syndig1l', 'Synpr',\n",
       "       'Syt10', 'Syt17', 'Syt2', 'Syt6', 'Sytl5', 'Tac1', 'Tacr3',\n",
       "       'Tanc1', 'Tbr1', 'Tbx3', 'Tcerg1l', 'Tcf7l2', 'Tekt5', 'Tgfb3',\n",
       "       'Th', 'Thbs2', 'Thsd7a', 'Thsd7b', 'Timp3', 'Tmem132c', 'Tmem176b',\n",
       "       'Tmem196', 'Tmem215', 'Tmem255a', 'Tmem35a', 'Tmtc4', 'Tnfaip8',\n",
       "       'Tnmd', 'Tox', 'Tox3', 'Tpbg', 'Tpm2', 'Trh', 'Trhde', 'Trhr',\n",
       "       'Trp53i11', 'Trp73', 'Trpc3', 'Tshz1', 'Tshz2', 'Tshz3', 'Tspan9',\n",
       "       'Tunar', 'Ubash3b', 'Ucp2', 'Unc13c', 'Unc5b', 'Unc5d', 'Ust',\n",
       "       'Vcan', 'Vip', 'Vipr2', 'Vwc2l', 'Whrn', 'Wipf3', 'Wnt2', 'Wnt5a',\n",
       "       'Zbtb8a', 'Zcchc12', 'Zeb2', 'Zfhx3', 'Zfhx4', 'Zfp703', 'Zfp804b',\n",
       "       'Zfpm2', 'Zic1'], dtype=object)"
      ]
     },
     "execution_count": 8,
     "metadata": {},
     "output_type": "execute_result"
    }
   ],
   "source": [
    "brain1_genes_csv['gene_panel_VZ147_mouse_609882_brain1'].values"
   ]
  },
  {
   "cell_type": "code",
   "execution_count": 9,
   "id": "b812f716-ee42-443a-8362-c13665dfcf07",
   "metadata": {},
   "outputs": [
    {
     "data": {
      "text/plain": [
       "array(['2900052N01Rik', '4930509J09Rik', '9330158H04Rik', 'A630012P03Rik',\n",
       "       'A830036E02Rik', 'Abcc9', 'Abi3bp', 'Acta2', 'Adamts19', 'Adamts2',\n",
       "       'Adamts9', 'Adamtsl1', 'Adcy2', 'Adcyap1', 'Adgrf5', 'Adgrv1',\n",
       "       'Adra1a', 'Adra1b', 'Agt', 'Agtr1a', 'Angpt1', 'Ankfn1', 'Apela',\n",
       "       'Aqp1', 'Aqp4', 'Aqp6', 'Arhgap15', 'Arhgap25', 'Arhgap28',\n",
       "       'Arhgap36', 'B230323A14Rik', 'Baiap3', 'Barhl1', 'Barhl2',\n",
       "       'Bcl11a', 'Bcl11b', 'Bmp3', 'Bmp4', 'Bmpr1b', 'Bnc2',\n",
       "       'C030029H02Rik', 'C1ql1', 'C1ql3', 'C230014O12Rik', 'Cacng3',\n",
       "       'Calb1', 'Calb2', 'Calcb', 'Calcr', 'Caln1', 'Car4', 'Cartpt',\n",
       "       'Casr', 'Cbln1', 'Cbln2', 'Cbln4', 'Ccbe1', 'Ccdc3', 'Ccn3',\n",
       "       'Ccn4', 'Ccnd2', 'Cd247', 'Cd24a', 'Cd34', 'Cd36', 'Cdh20', 'Cdh6',\n",
       "       'Cdh9', 'Cdkn1a', 'Cftr', 'Cgnl1', 'Chat', 'Chn2', 'Chodl',\n",
       "       'Chrm2', 'Chrm3', 'Chrnb3', 'Chst9', 'Cidea', 'Cited1', 'Ckap2l',\n",
       "       'Cldn5', 'Clic5', 'Clic6', 'Cnih3', 'Cnr1', 'Cntn6', 'Cntnap3',\n",
       "       'Col11a1', 'Col18a1', 'Col23a1', 'Col24a1', 'Col27a1', 'Col5a1',\n",
       "       'Col8a1', 'Corin', 'Cpa6', 'Cpne8', 'Creb3l1', 'Crh', 'Crhbp',\n",
       "       'Crym', 'Ctss', 'Ctxn3', 'Cxcl14', 'Cyp26b1', 'D130009I18Rik',\n",
       "       'D130079A08Rik', 'Dach1', 'Dbh', 'Dchs2', 'Dcn', 'Ddc', 'Dgkk',\n",
       "       'Dio3', 'Dlk1', 'Dmbx1', 'Dmrt2', 'Dock5', 'Drd1', 'Drd2', 'Drd3',\n",
       "       'Drd5', 'Dscaml1', 'Dsg2', 'Ebf1', 'Ebf2', 'Ebf3', 'Ecel1',\n",
       "       'Edaradd', 'Egfem1', 'Egflam', 'Egln3', 'Egr2', 'Elfn1', 'Emx2',\n",
       "       'En1', 'Eomes', 'Epha3', 'Epha4', 'Esyt3', 'Ethe1', 'Evx2', 'Eya2',\n",
       "       'Fam163a', 'Fbln2', 'Fbn2', 'Fgf10', 'Fibcd1', 'Fign', 'Fli1',\n",
       "       'Fosl2', 'Foxa1', 'Foxa2', 'Foxb1', 'Foxo1', 'Fras1', 'Frzb',\n",
       "       'Fstl5', 'Fxyd6', 'Fyb', 'G630016G05Rik', 'Gabrq', 'Gad2', 'Gal',\n",
       "       'Galnt14', 'Galnt18', 'Galr1', 'Gata3', 'Gda', 'Gfap', 'Gfra1',\n",
       "       'Gja1', 'Gli2', 'Gli3', 'Glis3', 'Glra2', 'Glra3', 'Gm30564',\n",
       "       'Gpc3', 'Gpr101', 'Gpr139', 'Gpr149', 'Gpr39', 'Gpr4', 'Gpr83',\n",
       "       'Gpr88', 'Gpx3', 'Grem1', 'Grik1', 'Grik3', 'Grin2c', 'Grm1',\n",
       "       'Grm3', 'Grm8', 'Grp', 'Grpr', 'Gsta4', 'Hcrtr2', 'Hdc', 'Hgf',\n",
       "       'Hmcn1', 'Hopx', 'Hoxb3', 'Hoxb5', 'Hoxb8', 'Hpgd', 'Hs3st2',\n",
       "       'Hs3st3b1', 'Hs3st4', 'Hspg2', 'Htr1b', 'Htr1d', 'Htr2a', 'Htr3a',\n",
       "       'Htr7', 'Igf1', 'Igf2', 'Igfbp2', 'Igfbp4', 'Igfbp6', 'Igfbpl1',\n",
       "       'Ighm', 'Igsf1', 'Il31ra', 'Irs4', 'Irx2', 'Isl1', 'Kazald1',\n",
       "       'Kcnab3', 'Kcng1', 'Kcng2', 'Kcnh8', 'Kcnip1', 'Kcnj5', 'Kcnj8',\n",
       "       'Kcnk9', 'Kcnmb2', 'Kcns3', 'Kctd8', 'Kif11', 'Kit', 'Kitl', 'Kl',\n",
       "       'Klhl14', 'Klk6', 'Lama1', 'Lamp5', 'Lancl3', 'Ldb2', 'Lgr6',\n",
       "       'Lhfp', 'Lhfpl5', 'Lhx1', 'Lhx2', 'Lhx8', 'Lhx9', 'Lmo1', 'Lmo3',\n",
       "       'Lncenc1', 'Lpar1', 'Lpl', 'Lrp4', 'Lsp1', 'Ltbp1', 'Lypd1',\n",
       "       'Lypd6', 'Mab21l2', 'Maf', 'Man1a', 'Marcksl1', 'Mcm6', 'Mctp2',\n",
       "       'Mdga1', 'Mecom', 'Medag', 'Megf11', 'Meis1', 'Met', 'Mkx',\n",
       "       'Mmel1', 'Mog', 'Moxd1', 'Mpped2', 'Mrpl16', 'Myo5b', 'Ndnf',\n",
       "       'Ndst4', 'Necab1', 'Nfib', 'Nfix', 'Ngb', 'Nhlh2', 'Nkx2-1',\n",
       "       'Nkx2-4', 'Nos1', 'Npas1', 'Npbwr1', 'Npnt', 'Npsr1', 'Nptx2',\n",
       "       'Npy2r', 'Nr2f1', 'Nr2f2', 'Nr4a2', 'Nr4a3', 'Nrn1', 'Nrp1',\n",
       "       'Ntn1', 'Ntng1', 'Nts', 'Nwd2', 'Nxph1', 'Nxph2', 'Nxph4',\n",
       "       'Onecut2', 'Onecut3', 'Opalin', 'Oprd1', 'Oprk1', 'Osbpl3', 'Osr1',\n",
       "       'Otof', 'Otp', 'Otx2', 'Oxtr', 'Pappa', 'Parm1', 'Pax5', 'Pax6',\n",
       "       'Pax7', 'Pax8', 'Pcp4l1', 'Pde11a', 'Pde1a', 'Pde3a', 'Pdgfd',\n",
       "       'Pdyn', 'Pdzrn3', 'Penk', 'Phox2b', 'Piezo2', 'Pif1', 'Pitx2',\n",
       "       'Plpp4', 'Pnoc', 'Popdc3', 'Pou3f1', 'Pou3f3', 'Pou4f1', 'Pou6f2',\n",
       "       'Pparg', 'Ppp1r17', 'Prkcq', 'Prkd1', 'Prkg2', 'Prlr', 'Prok2',\n",
       "       'Prom1', 'Prrxl1', 'Ptger3', 'Pth2r', 'Ptk2b', 'Ptprm', 'Pvalb',\n",
       "       'Qpct', 'Qrfpr', 'Rab3b', 'Ramp1', 'Ramp3', 'Rasgrp1', 'Rbp4',\n",
       "       'Reln', 'Ret', 'Rgs4', 'Rgs6', 'Rmst', 'Ror1', 'Rorb', 'Rprm',\n",
       "       'Rspo1', 'Rspo2', 'Rwdd2a', 'Rxfp1', 'Rxfp3', 'Samd5', 'Scgn',\n",
       "       'Scn4b', 'Scn5a', 'Scn7a', 'Sema3c', 'Sema3e', 'Sema5a',\n",
       "       'Serpinb8', 'Serpine2', 'Shisa6', 'Shox2', 'Shroom3', 'Six3',\n",
       "       'Skor1', 'Sla', 'Slc17a6', 'Slc17a7', 'Slc17a8', 'Slc1a3',\n",
       "       'Slc30a3', 'Slc32a1', 'Slc38a1', 'Slc5a7', 'Slc6a3', 'Slc6a4',\n",
       "       'Slc6a5', 'Slc7a10', 'Slc7a11', 'Slit2', 'Slit3', 'Smoc2', 'Sntg2',\n",
       "       'Sorcs3', 'Sox10', 'Sox14', 'Sox2', 'Sox5', 'Sox6', 'Sp8', 'Sp9',\n",
       "       'Spin2c', 'Spock3', 'Spon1', 'St18', 'St3gal1', 'St6galnac5',\n",
       "       'Stac', 'Stxbp6', 'Sulf2', 'Sv2b', 'Sv2c', 'Svep1', 'Syndig1',\n",
       "       'Syndig1l', 'Synpr', 'Syt10', 'Syt17', 'Syt2', 'Syt6', 'Tac2',\n",
       "       'Tacr1', 'Tacr3', 'Tafa1', 'Tafa2', 'Tafa4', 'Tal1', 'Tbcc',\n",
       "       'Tbx3', 'Tcerg1l', 'Tcf7l2', 'Tent5a', 'Tfap2b', 'Tfap2d',\n",
       "       'Tgfbr2', 'Th', 'Tll1', 'Tmem132c', 'Tmem215', 'Tmie', 'Tnc',\n",
       "       'Tnnt1', 'Tox', 'Tox3', 'Trhde', 'Trhr', 'Trpc7', 'Tshz2', 'Ttc29',\n",
       "       'Ttc6', 'Unc13c', 'Unc5d', 'Ung', 'Ust', 'Vcan', 'Vegfc', 'Vip',\n",
       "       'Vit', 'Vsx2', 'Vwa5b1', 'Vwc2', 'Vwc2l', 'Whrn', 'Wif1', 'Wls',\n",
       "       'Wnt7b', 'Zbtb16', 'Zeb2', 'Zfhx4', 'Zfp521', 'Zfp536', 'Zfpm2',\n",
       "       'Zic1', 'Zic4', 'Zic5'], dtype=object)"
      ]
     },
     "execution_count": 9,
     "metadata": {},
     "output_type": "execute_result"
    }
   ],
   "source": [
    "brain3_genes_csv['gene_panel_VZ142_mouse_638850_brain3'].values"
   ]
  }
 ],
 "metadata": {
  "kernelspec": {
   "display_name": "Python 3",
   "language": "python",
   "name": "python3"
  },
  "language_info": {
   "codemirror_mode": {
    "name": "ipython",
    "version": 3
   },
   "file_extension": ".py",
   "mimetype": "text/x-python",
   "name": "python",
   "nbconvert_exporter": "python",
   "pygments_lexer": "ipython3",
   "version": "3.9.12"
  }
 },
 "nbformat": 4,
 "nbformat_minor": 5
}
